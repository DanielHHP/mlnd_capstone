{
 "cells": [
  {
   "cell_type": "markdown",
   "metadata": {},
   "source": [
    "# 数据获取\n",
    "\n",
    "通过sklearn提供的方法来获取数据，并拆分出训练集和测试集。\n",
    "\n",
    "通过`split_mode`和`keep_meta`两个参数，控制切分策略和元数据保留策略。"
   ]
  },
  {
   "cell_type": "code",
   "execution_count": 1,
   "metadata": {},
   "outputs": [],
   "source": [
    "import os,sys\n",
    "import pickle\n",
    "from time import time\n",
    "from sklearn.datasets import fetch_20newsgroups\n",
    "from sklearn.model_selection import train_test_split\n",
    "from pprint import pprint\n",
    "from multiprocessing import cpu_count\n",
    "\n",
    "import matplotlib.pyplot as plt\n",
    "import numpy as np\n",
    "import pandas as pd\n",
    "\n",
    "%matplotlib inline"
   ]
  },
  {
   "cell_type": "code",
   "execution_count": 2,
   "metadata": {},
   "outputs": [],
   "source": [
    "split_mode = 'TIME'\n",
    "keep_meta = True\n",
    "\n",
    "if keep_meta:\n",
    "    removel = ('footers')\n",
    "else:\n",
    "    removel = ('footers', 'quotes')\n",
    "    \n",
    "if split_mode == 'TIME':\n",
    "    newsgroups_train = fetch_20newsgroups(data_home='.', subset='train', remove=removel)\n",
    "    newsgroups_test = fetch_20newsgroups(data_home='.', subset='test', remove=removel)\n",
    "elif split_mode == 'RANDOM':\n",
    "    newsgroups_train = fetch_20newsgroups(data_home='.', subset='all', remove=removel)\n",
    "else:\n",
    "    raise Exception('Unknown split_mode: {}'.format(split_mode))\n",
    "    \n",
    "newsgroups_target_names = newsgroups_train.target_names"
   ]
  },
  {
   "cell_type": "code",
   "execution_count": 3,
   "metadata": {
    "scrolled": true
   },
   "outputs": [
    {
     "name": "stdout",
     "output_type": "stream",
     "text": [
      "['alt.atheism', 'comp.graphics', 'comp.os.ms-windows.misc', 'comp.sys.ibm.pc.hardware', 'comp.sys.mac.hardware', 'comp.windows.x', 'misc.forsale', 'rec.autos', 'rec.motorcycles', 'rec.sport.baseball', 'rec.sport.hockey', 'sci.crypt', 'sci.electronics', 'sci.med', 'sci.space', 'soc.religion.christian', 'talk.politics.guns', 'talk.politics.mideast', 'talk.politics.misc', 'talk.religion.misc']\n"
     ]
    }
   ],
   "source": [
    "# 查看类别名称\n",
    "print(newsgroups_train.target_names)"
   ]
  },
  {
   "cell_type": "code",
   "execution_count": 4,
   "metadata": {},
   "outputs": [],
   "source": [
    "def preprocess_data(doc):\n",
    "    '''\n",
    "    保留header中的Subject（标题）信息\n",
    "    doc: 输入文档字符串\n",
    "    return: header仅保留Subject的文档字符串, quote中去掉In article引用来源行\n",
    "    '''\n",
    "    sections = doc.split('\\n\\n')\n",
    "    headers = sections[0].split('\\n')\n",
    "    filtered_sections = []\n",
    "    for section in sections[1:]:\n",
    "        lines = section.split('\\n')\n",
    "        filtered_sections.append('\\n'.join([l for l in lines if not l.startswith('In article')]))\n",
    "    for header in headers:\n",
    "        if header.startswith('Subject:'):\n",
    "            return '\\n\\n'.join([header] + filtered_sections)"
   ]
  },
  {
   "cell_type": "code",
   "execution_count": 5,
   "metadata": {},
   "outputs": [
    {
     "name": "stdout",
     "output_type": "stream",
     "text": [
      "category: rec.autos\n",
      "==============\n",
      "From: julie@eddie.jpl.nasa.gov (Julie Kangas)\n",
      "Subject: Re: Blast them next time\n",
      "Nntp-Posting-Host: eddie.jpl.nasa.gov\n",
      "Organization: Jet Propulsion Laboratory, Pasadena, CA\n",
      "Distribution: usa\n",
      "Lines: 32\n",
      "\n",
      "In article <1r19l9$7dv@usenet.INS.CWRU.Edu> oldham@ces.cwru.edu (Daniel Oldham) writes:\n",
      ">What happened in Waco is not the fault of the BATF. If they would of\n",
      ">had the proper equipment and personal then they could of captured the\n",
      ">compound on the initial assault and none of this would of happened.\n",
      ">\n",
      ">The BATF needs more people, better weapons and more armored\n",
      ">transports. When they meet hostile fire they should be able to use\n",
      ">more force instead of retreating to a stand off. If you are going to\n",
      ">do a job then do it right. The BATF is there to protect us and they\n",
      ">must have the proper equipment and people to do the job.\n",
      ">\n",
      ">With the WoD and the increased crime in the streets the BATF is needed\n",
      ">more now then ever. If they blast away a few good fokes then that is\n",
      ">the price we all have to pay for law and order in this country. Look\n",
      ">at all the good people that died in wars to protect this great country\n",
      ">of ours.\n",
      ">\n",
      ">With the arms build up in Waco they needed to hit that compound with\n",
      ">mega fire power. They could of gone in there blasting and killed a few\n",
      ">women and kids but it would of been better then letting them all burn\n",
      ">to death 51 days later.\n",
      ">\n",
      "\n",
      "\n",
      "Well, it's said that people get the government they deserve.\n",
      "\n",
      "Don't worry, you'll get yours.  You'll sleep much better when\n",
      "everyone with thoughts not on the government 'approved' list\n",
      "is rounded up and executed.\n"
     ]
    }
   ],
   "source": [
    "# 检查数据内容\n",
    "print('category: {}'.format(newsgroups_target_names[newsgroups_train.target[0]]))\n",
    "print('==============')\n",
    "print(newsgroups_train.data[1100])"
   ]
  },
  {
   "cell_type": "markdown",
   "metadata": {},
   "source": [
    "## 数据分割"
   ]
  },
  {
   "cell_type": "code",
   "execution_count": 6,
   "metadata": {},
   "outputs": [],
   "source": [
    "if split_mode == 'TIME':\n",
    "    # 先划分训练集和测试集\n",
    "    X_train, y_train = [preprocess_data(i) for i in newsgroups_train.data], newsgroups_train.target\n",
    "    X_test, y_test = [preprocess_data(i) for i in newsgroups_test.data], newsgroups_test.target\n",
    "\n",
    "    # 训练集进一步划分为训练集和验证集\n",
    "    X_train_dev, X_val, y_train_dev, y_val = train_test_split(X_train, y_train, test_size=0.2, random_state=0, stratify=y_train)\n",
    "elif split_mode == 'RANDOM':\n",
    "    X_train, y_train = [preprocess_data(i) for i in newsgroups_train.data], newsgroups_train.target\n",
    "    \n",
    "    # 先划分训练集和测试集，随机划分时，训练集保留40%，使得训练集大小与按时间分隔时近似，方便比较\n",
    "    X_train, X_test, y_train, y_test = train_test_split(X_train, y_train, test_size=0.4, random_state=0, stratify=y_train)\n",
    "    # 训练集进一步划分为训练集和验证集\n",
    "    X_train_dev, X_val, y_train_dev, y_val = train_test_split(X_train, y_train, test_size=0.2, random_state=0, stratify=y_train)\n",
    "else:\n",
    "    raise Exception('Unknown split_mode: {}'.format(split_mode))"
   ]
  },
  {
   "cell_type": "code",
   "execution_count": 7,
   "metadata": {},
   "outputs": [
    {
     "name": "stdout",
     "output_type": "stream",
     "text": [
      "train size: 11314\n",
      "train dev size: 9051\n",
      "val size: 2263\n",
      "test size: 7532\n"
     ]
    }
   ],
   "source": [
    "print('train size: {}'.format(len(X_train)))\n",
    "print('train dev size: {}'.format(len(X_train_dev)))\n",
    "print('val size: {}'.format(len(X_val)))\n",
    "print('test size: {}'.format(len(X_test)))"
   ]
  },
  {
   "cell_type": "code",
   "execution_count": 8,
   "metadata": {},
   "outputs": [
    {
     "name": "stdout",
     "output_type": "stream",
     "text": [
      "Subject: Re: Blast them next time\n",
      "\n",
      ">What happened in Waco is not the fault of the BATF. If they would of\n",
      ">had the proper equipment and personal then they could of captured the\n",
      ">compound on the initial assault and none of this would of happened.\n",
      ">\n",
      ">The BATF needs more people, better weapons and more armored\n",
      ">transports. When they meet hostile fire they should be able to use\n",
      ">more force instead of retreating to a stand off. If you are going to\n",
      ">do a job then do it right. The BATF is there to protect us and they\n",
      ">must have the proper equipment and people to do the job.\n",
      ">\n",
      ">With the WoD and the increased crime in the streets the BATF is needed\n",
      ">more now then ever. If they blast away a few good fokes then that is\n",
      ">the price we all have to pay for law and order in this country. Look\n",
      ">at all the good people that died in wars to protect this great country\n",
      ">of ours.\n",
      ">\n",
      ">With the arms build up in Waco they needed to hit that compound with\n",
      ">mega fire power. They could of gone in there blasting and killed a few\n",
      ">women and kids but it would of been better then letting them all burn\n",
      ">to death 51 days later.\n",
      ">\n",
      "\n",
      "\n",
      "Well, it's said that people get the government they deserve.\n",
      "\n",
      "Don't worry, you'll get yours.  You'll sleep much better when\n",
      "everyone with thoughts not on the government 'approved' list\n",
      "is rounded up and executed.\n"
     ]
    }
   ],
   "source": [
    "# 查看经过处理过的数据\n",
    "print(X_train[1100])"
   ]
  },
  {
   "cell_type": "markdown",
   "metadata": {},
   "source": [
    "# 数据探索"
   ]
  },
  {
   "cell_type": "markdown",
   "metadata": {},
   "source": [
    "首先检查训练集、验证集和测试集类别分布情况，看数据在类别上的分布是否有倾斜。"
   ]
  },
  {
   "cell_type": "code",
   "execution_count": 9,
   "metadata": {},
   "outputs": [],
   "source": [
    "def label_distributation(data, title):\n",
    "    '''\n",
    "    展示数据类别分布直方图\n",
    "    data: pandas DataFrame，包含catid，数值型的分类标签\n",
    "    '''\n",
    "    label_dist = data['catid'].value_counts().sort_index().rename(dict([(i, cid) for i, cid in enumerate(newsgroups_target_names)]))\n",
    "    label_dist.plot.bar(title=title, figsize=(10,5))"
   ]
  },
  {
   "cell_type": "code",
   "execution_count": 10,
   "metadata": {},
   "outputs": [
    {
     "data": {
      "image/png": "[encoded data removed]",
      "text/plain": [
       "<matplotlib.figure.Figure at 0x1cae5f7a940>"
      ]
     },
     "metadata": {},
     "output_type": "display_data"
    }
   ],
   "source": [
    "label_distributation(pd.DataFrame(data={'catid': y_train}), 'train set label distribution')"
   ]
  },
  {
   "cell_type": "code",
   "execution_count": 11,
   "metadata": {},
   "outputs": [
    {
     "data": {
      "image/png": "[encoded data removed]",
      "text/plain": [
       "<matplotlib.figure.Figure at 0x1cae4349320>"
      ]
     },
     "metadata": {},
     "output_type": "display_data"
    }
   ],
   "source": [
    "label_distributation(pd.DataFrame(data={'catid': y_train_dev}), 'train dev set label distribution')"
   ]
  },
  {
   "cell_type": "code",
   "execution_count": 12,
   "metadata": {},
   "outputs": [
    {
     "data": {
      "image/png": "[encoded data removed]",
      "text/plain": [
       "<matplotlib.figure.Figure at 0x1cae471f208>"
      ]
     },
     "metadata": {},
     "output_type": "display_data"
    }
   ],
   "source": [
    "label_distributation(pd.DataFrame(data={'catid': y_val}), 'val set label distribution')"
   ]
  },
  {
   "cell_type": "code",
   "execution_count": 13,
   "metadata": {},
   "outputs": [
    {
     "data": {
      "image/png": "[encoded data removed]",
      "text/plain": [
       "<matplotlib.figure.Figure at 0x1cae48e94e0>"
      ]
     },
     "metadata": {},
     "output_type": "display_data"
    }
   ],
   "source": [
    "label_distributation(pd.DataFrame(data={'catid': y_test}), 'test set label distribution')"
   ]
  },
  {
   "cell_type": "markdown",
   "metadata": {},
   "source": [
    "从上面几张图可以看到，训练集、验证集和测试集的数据在各个类别的分布比较均匀，只有一个类别`talk.religion.misc`数据量略小，预计不会对模型的指标有太大影响。"
   ]
  },
  {
   "cell_type": "markdown",
   "metadata": {},
   "source": [
    "绘制训练集文档包含词数和字符数的直方图。"
   ]
  },
  {
   "cell_type": "code",
   "execution_count": 14,
   "metadata": {},
   "outputs": [],
   "source": [
    "doc_word_count = []\n",
    "doc_char_count = []\n",
    "for i in X_train:\n",
    "    doc_word_count.append(len(i.split()))\n",
    "    doc_char_count.append(len(i))\n",
    "\n",
    "def describe_data(data_name, data):\n",
    "    print('{} min: {}'.format(data_name, np.min(data)))\n",
    "    print('{} max: {}'.format(data_name, np.max(data)))\n",
    "    print('{} 25 percent: {}'.format(data_name, np.percentile(data, 25)))\n",
    "    print('{} 50 percent: {}'.format(data_name, np.percentile(data, 50)))\n",
    "    print('{} 90 percent: {}'.format(data_name, np.percentile(data, 90)))\n",
    "    print('{} 95 percent: {}'.format(data_name, np.percentile(data, 95)))\n",
    "    plt.figure(figsize=(10,5))\n",
    "    plt.hist(data, bins=50)\n",
    "    plt.title('{} distribution'.format(data_name))\n",
    "    plt.xlabel(data_name)\n",
    "    plt.ylabel('doc num')\n",
    "    plt.show()"
   ]
  },
  {
   "cell_type": "code",
   "execution_count": 15,
   "metadata": {},
   "outputs": [
    {
     "name": "stdout",
     "output_type": "stream",
     "text": [
      "artical word count min: 2\n",
      "artical word count max: 11776\n",
      "artical word count 25 percent: 72.0\n",
      "artical word count 50 percent: 137.0\n",
      "artical word count 90 percent: 461.7000000000007\n",
      "artical word count 95 percent: 722.0\n"
     ]
    },
    {
     "data": {
      "image/png": "[encoded data removed]",
      "text/plain": [
       "<matplotlib.figure.Figure at 0x1cae42e37f0>"
      ]
     },
     "metadata": {},
     "output_type": "display_data"
    }
   ],
   "source": [
    "describe_data('artical word count', doc_word_count)"
   ]
  },
  {
   "cell_type": "code",
   "execution_count": 16,
   "metadata": {},
   "outputs": [
    {
     "name": "stdout",
     "output_type": "stream",
     "text": [
      "artical char count min: 12\n",
      "artical char count max: 74932\n",
      "artical char count 25 percent: 432.0\n",
      "artical char count 50 percent: 818.5\n",
      "artical char count 90 percent: 2765.4000000000015\n",
      "artical char count 95 percent: 4349.050000000001\n"
     ]
    },
    {
     "data": {
      "image/png": "[encoded data removed]",
      "text/plain": [
       "<matplotlib.figure.Figure at 0x1cae4aa57f0>"
      ]
     },
     "metadata": {},
     "output_type": "display_data"
    }
   ],
   "source": [
    "describe_data('artical char count', doc_char_count)"
   ]
  },
  {
   "cell_type": "markdown",
   "metadata": {},
   "source": [
    "# 传统机器学习模型"
   ]
  },
  {
   "cell_type": "code",
   "execution_count": 17,
   "metadata": {},
   "outputs": [],
   "source": [
    "from sklearn.feature_extraction.text import CountVectorizer\n",
    "from sklearn.feature_extraction.text import TfidfTransformer"
   ]
  },
  {
   "cell_type": "markdown",
   "metadata": {},
   "source": [
    "## BoW特征提取"
   ]
  },
  {
   "cell_type": "code",
   "execution_count": 18,
   "metadata": {},
   "outputs": [],
   "source": [
    "count_vect = CountVectorizer(stop_words='english', min_df=3, max_df=0.95, max_features=None)\n",
    "X_train_vec = count_vect.fit_transform(X_train)"
   ]
  },
  {
   "cell_type": "code",
   "execution_count": 19,
   "metadata": {},
   "outputs": [
    {
     "name": "stdout",
     "output_type": "stream",
     "text": [
      "(11314, 30787)\n",
      "  (0, 1667)\t1\n",
      "  (0, 1868)\t1\n",
      "  (0, 2828)\t1\n",
      "  (0, 5207)\t1\n",
      "  (0, 5481)\t1\n",
      "  (0, 5674)\t1\n",
      "  (0, 5924)\t1\n",
      "  (0, 6058)\t5\n",
      "  (0, 8607)\t1\n",
      "  (0, 9860)\t1\n",
      "  (0, 9861)\t1\n",
      "  (0, 10204)\t1\n",
      "  (0, 10687)\t1\n",
      "  (0, 10715)\t1\n",
      "  (0, 12434)\t1\n",
      "  (0, 13936)\t1\n",
      "  (0, 14914)\t1\n",
      "  (0, 16304)\t1\n",
      "  (0, 16578)\t1\n",
      "  (0, 17171)\t1\n",
      "  (0, 17172)\t1\n",
      "  (0, 17472)\t1\n",
      "  (0, 18495)\t1\n",
      "  (0, 21924)\t1\n",
      "  (0, 22792)\t1\n",
      "  (0, 23509)\t1\n",
      "  (0, 24371)\t1\n",
      "  (0, 24788)\t1\n",
      "  (0, 25468)\t1\n",
      "  (0, 25840)\t1\n",
      "  (0, 25963)\t1\n",
      "  (0, 30103)\t1\n",
      "  (0, 30578)\t1\n"
     ]
    }
   ],
   "source": [
    "print(X_train_vec.shape)\n",
    "print(count_vect.transform([X_train[0]])[0])"
   ]
  },
  {
   "cell_type": "code",
   "execution_count": 20,
   "metadata": {},
   "outputs": [
    {
     "name": "stdout",
     "output_type": "stream",
     "text": [
      "id: 2705 feature name: accurate\n",
      "id: 8155 feature name: critically\n"
     ]
    }
   ],
   "source": [
    "print('id: 2705 feature name: {}'.format(count_vect.get_feature_names()[2705]))\n",
    "\n",
    "print('id: 8155 feature name: {}'.format(count_vect.get_feature_names()[8155]))"
   ]
  },
  {
   "cell_type": "code",
   "execution_count": 21,
   "metadata": {},
   "outputs": [
    {
     "name": "stdout",
     "output_type": "stream",
     "text": [
      "vocabulary size: 30787\n",
      "stop word size: 65924\n",
      "sample vocabulary: ['car', 'wondering', 'enlighten', 'saw', 'day', 'door', 'sports', 'looked', 'late', '60s', 'early', '70s', 'called', 'bricklin', 'doors', 'really', 'small', 'addition', 'bumper', 'separate', 'rest', 'body', 'know', 'model', 'engine', 'specs', 'years', 'production', 'history', 'info', 'funky', 'looking', 'mail', 'si', 'clock', 'poll', 'final', 'fair', 'number', 'brave', 'souls', 'upgraded', 'oscillator', 'shared', 'experiences', 'send', 'brief', 'message', 'detailing', 'procedure', 'speed', 'attained', 'cpu', 'rated', 'add', 'cards', 'adapters', 'heat', 'sinks', 'hour', 'usage', 'floppy', 'disk', 'functionality', '800', 'floppies', 'especially', 'requested', 'summarizing', 'days', 'network', 'knowledge', 'base', 'upgrade', 'haven', 'answered', 'thanks', 'pb', 'questions', 'folks', 'mac', 'plus', 'finally', 'gave', 'ghost', 'weekend', 'starting', 'life', '512k', 'way', '1985', 'sooo', 'market', 'new', 'machine', 'bit', 'sooner', 'intended', 'picking', 'powerbook']\n",
      "sample stop words: ['2p8', 'gdz', '_009', 'photodiode', 'enuxha', 'brian_propp', '01000110b', '78148', 'twpierce', 't5secq', 'bein', 'scorched', 'gunshyjudges', 'c9hm', '5vig', '0xv', 'quills', 'manure', 'vestiges', 'rrr', 'qfdib2y', 'oppressors', 'iceburg', 'laurence', 'kafkas', '4tq1jv', 'yre', 'tyoe', 'dpuk3i', 'a2x', 'x5w', 'cf1436qpgtk', 'lbm', 'm6h', 'travellers', 'casepatients', 'm3hhr', 'rcjaqz', 'i2vz', 'sami', 'unsynchronized', 'tweaked', 'restarts', '70000', 'dxw', 'a5fck', 'indutrial', 'cavity', 'c5l1ey', 'brinckerhogg', 'hr3hkgbe', 'godhood', 'reabet', 'arthroscopic', '6t3qs', '9sb', 's82', 'earnshaw', 'splashed', '1840', 'g5qb6k', 'copmletely', 'xtconvert', 'worthiest', 'wft', 'strazdus', 'mhh', '5ll', 'costomer', 'xsharp21', 'msll', 'sarfati', '3el', 'citroen', 'voglis', 'y5859', 'rahem', 'submachineguns', 'm5ulx', 'lisu2', 'antiquitam', 'starship', 'ansiccoptions', 'infinitesimal', 'rl10a', 'unidentifiable', 'bqx', 'samaritains', 'm0nlsg0', '6813', 'evas', 'tbish', 'pleaded', '700c', 'genbank', 'newwelty', 'koblas', 'enslave', 'computerize', '1x9m']\n"
     ]
    }
   ],
   "source": [
    "print('vocabulary size: {}'.format(len(count_vect.vocabulary_)))\n",
    "print('stop word size: {}'.format(len(count_vect.stop_words_)))\n",
    "print('sample vocabulary: {}'.format(list(count_vect.vocabulary_)[:100]))\n",
    "print('sample stop words: {}'.format(list(count_vect.stop_words_)[:100]))"
   ]
  },
  {
   "cell_type": "markdown",
   "metadata": {},
   "source": [
    "## TFIDF特征"
   ]
  },
  {
   "cell_type": "code",
   "execution_count": 22,
   "metadata": {},
   "outputs": [],
   "source": [
    "tfidf_transformer = TfidfTransformer()\n",
    "\n",
    "# 基于整个训练集，提取TFIDF特征\n",
    "X_train_tfidf = tfidf_transformer.fit_transform(X_train_vec)\n",
    "\n",
    "X_train_dev_tfidf = tfidf_transformer.transform(count_vect.transform(X_train_dev))\n",
    "X_val_tfidf = tfidf_transformer.transform(count_vect.transform(X_val))\n",
    "X_test_tfidf = tfidf_transformer.transform(count_vect.transform(X_test))"
   ]
  },
  {
   "cell_type": "code",
   "execution_count": 23,
   "metadata": {},
   "outputs": [
    {
     "name": "stdout",
     "output_type": "stream",
     "text": [
      "(11314, 30787)\n",
      "  (0, 6058)\t0.560377102205\n",
      "  (0, 30103)\t0.129968356566\n",
      "  (0, 10715)\t0.19600020309\n",
      "  (0, 24371)\t0.123984407339\n",
      "  (0, 8607)\t0.0999988900377\n",
      "  (0, 9860)\t0.146546380695\n",
      "  (0, 25963)\t0.159245713964\n",
      "  (0, 17171)\t0.132006048773\n",
      "  (0, 16578)\t0.134783938018\n",
      "  (0, 1667)\t0.204688556255\n",
      "  (0, 10204)\t0.124787365695\n",
      "  (0, 1868)\t0.200627621892\n",
      "  (0, 5924)\t0.101539133043\n",
      "  (0, 5481)\t0.241668250879\n",
      "  (0, 9861)\t0.16936899488\n",
      "  (0, 22792)\t0.0835621915643\n",
      "  (0, 25468)\t0.110426414089\n",
      "  (0, 2828)\t0.139347678346\n",
      "  (0, 5674)\t0.194954791338\n",
      "  (0, 24788)\t0.146015371649\n",
      "  (0, 23509)\t0.119941465912\n",
      "  (0, 5207)\t0.127256906659\n",
      "  (0, 16304)\t0.0641420855486\n",
      "  (0, 18495)\t0.129193477405\n",
      "  (0, 10687)\t0.142098251346\n",
      "  (0, 25840)\t0.157867313996\n",
      "  (0, 30578)\t0.0895782496156\n",
      "  (0, 21924)\t0.159816870769\n",
      "  (0, 13936)\t0.122147261929\n",
      "  (0, 14914)\t0.111565274832\n",
      "  (0, 12434)\t0.228649092232\n",
      "  (0, 17172)\t0.101574352531\n",
      "  (0, 17472)\t0.0989855571819\n"
     ]
    }
   ],
   "source": [
    "print(X_train_tfidf.shape)\n",
    "print(X_train_tfidf[0])"
   ]
  },
  {
   "cell_type": "markdown",
   "metadata": {},
   "source": [
    "## 初始模型评估"
   ]
  },
  {
   "cell_type": "code",
   "execution_count": 24,
   "metadata": {},
   "outputs": [],
   "source": [
    "from sklearn.metrics import accuracy_score\n",
    "\n",
    "def train_predict(learner, sample_size, X_train, y_train, X_val, y_val): \n",
    "    results = {}\n",
    "    start = time()\n",
    "    \n",
    "    learner.fit(X_train[:sample_size], y_train[:sample_size])\n",
    "    end = time()\n",
    "    results['train_time'] = end - start\n",
    "    \n",
    "    start = time()\n",
    "    predictions_val = learner.predict(X_val)\n",
    "    predictions_train = learner.predict(X_train)\n",
    "    end = time()\n",
    "    results['pred_time'] = end - start\n",
    "    \n",
    "    results['name'] = learner.__class__.__name__\n",
    "    results['acc_train'] = accuracy_score(y_train, predictions_train)\n",
    "    results['acc_val'] = accuracy_score(y_val, predictions_val)\n",
    "\n",
    "    print(\"{} trained on {} samples.\".format(learner.__class__.__name__, sample_size))\n",
    "\n",
    "    return results\n"
   ]
  },
  {
   "cell_type": "code",
   "execution_count": 25,
   "metadata": {},
   "outputs": [],
   "source": [
    "def model_metrics(results, title, bar_width=0.2, group_width=0.6, metrics=(('train_time', 'pred_time'), ('acc_train', 'acc_val'))):\n",
    "    fig, ax = plt.subplots(1, 2, figsize = (16,5))\n",
    "    learner_count = len(results)\n",
    "    \n",
    "    for k, learner in enumerate(results.keys()):\n",
    "        for i in range(2):\n",
    "            ax[i].bar(k*group_width, results[learner][metrics[i][0]], width = bar_width, color='green', label=metrics[i][0])\n",
    "            ax[i].text(k*group_width, results[learner][metrics[i][0]]+0.01, '%.2f' % (results[learner][metrics[i][0]]), ha='center', va= 'bottom')\n",
    "            ax[i].bar(k*group_width+bar_width, results[learner][metrics[i][1]], width = bar_width, color='red', label=metrics[i][1])\n",
    "            ax[i].text(k*group_width+bar_width, results[learner][metrics[i][1]]+0.01, '%.2f' % (results[learner][metrics[i][1]]), ha='center', va= 'bottom')\n",
    "\n",
    "    ax[0].set_xticks(np.arange(bar_width/2, learner_count*group_width+bar_width/2, group_width))\n",
    "    ax[0].set_xticklabels(results.keys())\n",
    "    ax[0].set_xlabel(\"Model\")\n",
    "    ax[0].legend(loc='best')\n",
    "    ax[0].set_xlim((-0.1, learner_count*group_width+bar_width))\n",
    "\n",
    "    ax[1].set_xticks(np.arange(bar_width/2, learner_count*group_width+bar_width/2, group_width))\n",
    "    ax[1].set_xticklabels(results.keys())\n",
    "    ax[1].set_xlabel(\"Model\")\n",
    "    ax[1].legend(loc='best')\n",
    "    ax[1].set_xlim((-0.1, learner_count*group_width+bar_width))\n",
    "    \n",
    "    # Add unique y-labels\n",
    "    ax[0].set_ylabel(\"Time (in seconds)\")\n",
    "    ax[1].set_ylabel(\"Accuracy Score\")\n",
    "    \n",
    "    # Add titles\n",
    "    ax[0].set_title(\"Model Time\")\n",
    "    ax[1].set_title(\"Accuracy Score\")\n",
    "    \n",
    "    # Set y-limits for score panels\n",
    "    #ax[1].set_ylim((0, 1))\n",
    "\n",
    "    plt.suptitle(title, fontsize = 16, y = 1.10)\n",
    "    #plt.tight_layout()\n",
    "    plt.show()"
   ]
  },
  {
   "cell_type": "code",
   "execution_count": 26,
   "metadata": {},
   "outputs": [],
   "source": [
    "from sklearn.tree import DecisionTreeClassifier\n",
    "from sklearn.naive_bayes import MultinomialNB\n",
    "from sklearn.svm import LinearSVC"
   ]
  },
  {
   "cell_type": "code",
   "execution_count": 27,
   "metadata": {},
   "outputs": [],
   "source": [
    "base_results = {}"
   ]
  },
  {
   "cell_type": "code",
   "execution_count": 28,
   "metadata": {},
   "outputs": [
    {
     "name": "stdout",
     "output_type": "stream",
     "text": [
      "DecisionTreeClassifier trained on 9051 samples.\n",
      "{'acc_train': 0.99911611976577175,\n",
      " 'acc_val': 0.65399911621741047,\n",
      " 'name': 'DecisionTreeClassifier',\n",
      " 'pred_time': 0.03128552436828613,\n",
      " 'train_time': 8.76311707496643}\n"
     ]
    }
   ],
   "source": [
    "tree = DecisionTreeClassifier(random_state=0)\n",
    "base_results['DecisionTree'] = train_predict(tree, X_train_dev_tfidf.shape[0], X_train_dev_tfidf, y_train_dev, X_val_tfidf, y_val)\n",
    "pprint(base_results['DecisionTree'])"
   ]
  },
  {
   "cell_type": "code",
   "execution_count": 29,
   "metadata": {},
   "outputs": [
    {
     "name": "stdout",
     "output_type": "stream",
     "text": [
      "MultinomialNB trained on 9051 samples.\n",
      "{'acc_train': 0.93989614407247823,\n",
      " 'acc_val': 0.87096774193548387,\n",
      " 'name': 'MultinomialNB',\n",
      " 'pred_time': 0.0340421199798584,\n",
      " 'train_time': 0.054418087005615234}\n"
     ]
    }
   ],
   "source": [
    "mnb = MultinomialNB()\n",
    "base_results['NaiveBayes'] = train_predict(mnb, X_train_dev_tfidf.shape[0], X_train_dev_tfidf, y_train_dev, X_val_tfidf, y_val)\n",
    "pprint(base_results['NaiveBayes'])"
   ]
  },
  {
   "cell_type": "code",
   "execution_count": 30,
   "metadata": {},
   "outputs": [
    {
     "name": "stdout",
     "output_type": "stream",
     "text": [
      "LinearSVC trained on 9051 samples.\n",
      "{'acc_train': 0.99779029941442932,\n",
      " 'acc_val': 0.91471498011489172,\n",
      " 'name': 'LinearSVC',\n",
      " 'pred_time': 0.015629053115844727,\n",
      " 'train_time': 0.9808297157287598}\n"
     ]
    }
   ],
   "source": [
    "svm = LinearSVC(random_state=0)\n",
    "base_results['SVM'] = train_predict(svm, X_train_dev_tfidf.shape[0], X_train_dev_tfidf, y_train_dev, X_val_tfidf, y_val)\n",
    "pprint(base_results['SVM'])"
   ]
  },
  {
   "cell_type": "code",
   "execution_count": 31,
   "metadata": {},
   "outputs": [
    {
     "name": "stdout",
     "output_type": "stream",
     "text": [
      "{'DecisionTree': {'acc_train': 0.99911611976577175,\n",
      "                  'acc_val': 0.65399911621741047,\n",
      "                  'name': 'DecisionTreeClassifier',\n",
      "                  'pred_time': 0.03128552436828613,\n",
      "                  'train_time': 8.76311707496643},\n",
      " 'NaiveBayes': {'acc_train': 0.93989614407247823,\n",
      "                'acc_val': 0.87096774193548387,\n",
      "                'name': 'MultinomialNB',\n",
      "                'pred_time': 0.0340421199798584,\n",
      "                'train_time': 0.054418087005615234},\n",
      " 'SVM': {'acc_train': 0.99779029941442932,\n",
      "         'acc_val': 0.91471498011489172,\n",
      "         'name': 'LinearSVC',\n",
      "         'pred_time': 0.015629053115844727,\n",
      "         'train_time': 0.9808297157287598}}\n"
     ]
    }
   ],
   "source": [
    "pprint(base_results)"
   ]
  },
  {
   "cell_type": "code",
   "execution_count": 32,
   "metadata": {},
   "outputs": [
    {
     "data": {
      "image/png": "[encoded data removed]",
      "text/plain": [
       "<matplotlib.figure.Figure at 0x1cae4ddde80>"
      ]
     },
     "metadata": {},
     "output_type": "display_data"
    }
   ],
   "source": [
    "model_metrics(base_results, 'Performance Metrics for Basic Models')"
   ]
  },
  {
   "cell_type": "markdown",
   "metadata": {},
   "source": [
    "## 模型调优"
   ]
  },
  {
   "cell_type": "markdown",
   "metadata": {},
   "source": [
    "使用grid search寻找最优参数。"
   ]
  },
  {
   "cell_type": "code",
   "execution_count": 33,
   "metadata": {},
   "outputs": [],
   "source": [
    "from sklearn.model_selection import GridSearchCV\n",
    "def grid_search_cv(classifier, parameters, X_train, y_train):\n",
    "    '''\n",
    "    return metrics for the best model\n",
    "    '''\n",
    "    results = {}\n",
    "    search = GridSearchCV(classifier(), parameters, cv=5, n_jobs=cpu_count()-1, return_train_score=True)\n",
    "\n",
    "    search.fit(X_train, y_train)\n",
    "\n",
    "    print('GridSearch for {}'.format(classifier.__name__))\n",
    "    print('best params: {}'.format(search.best_params_))\n",
    "    print('best score: {}'.format(search.best_score_))\n",
    "    \n",
    "    results['name'] = classifier.__name__\n",
    "    results['search'] = search\n",
    "    results['mean_train_time'] = np.mean(search.cv_results_['mean_fit_time'])\n",
    "    results['mean_pred_time'] = np.mean(search.cv_results_['mean_score_time'])\n",
    "    results['best_acc_train'] = search.cv_results_['mean_train_score'][search.best_index_]\n",
    "    results['best_acc_val'] = search.cv_results_['mean_test_score'][search.best_index_]\n",
    "\n",
    "    return results"
   ]
  },
  {
   "cell_type": "code",
   "execution_count": 34,
   "metadata": {},
   "outputs": [],
   "source": [
    "improve_results = {}"
   ]
  },
  {
   "cell_type": "code",
   "execution_count": 35,
   "metadata": {},
   "outputs": [
    {
     "name": "stdout",
     "output_type": "stream",
     "text": [
      "GridSearch for DecisionTreeClassifier\n",
      "best params: {'max_depth': 500, 'min_samples_leaf': 2}\n",
      "best score: 0.6383242001060633\n"
     ]
    }
   ],
   "source": [
    "parameters = {'max_depth': [10, 50, 100, 200, 500], 'min_samples_leaf': [2, 5, 10, 20, 50]}\n",
    "improve_results['DecisionTree'] = grid_search_cv(DecisionTreeClassifier, parameters, X_train_tfidf, y_train)"
   ]
  },
  {
   "cell_type": "code",
   "execution_count": 80,
   "metadata": {},
   "outputs": [
    {
     "name": "stdout",
     "output_type": "stream",
     "text": [
      "GridSearch for MultinomialNB\n",
      "best params: {'alpha': 0.02}\n",
      "best score: 0.9044546579459077\n"
     ]
    }
   ],
   "source": [
    "parameters = {'alpha': [.0001, .001, .01, .02, .03, .04, .05, .06, .1, .3, .5, .8]}\n",
    "improve_results['NaiveBayes'] = grid_search_cv(MultinomialNB, parameters, X_train_tfidf, y_train)"
   ]
  },
  {
   "cell_type": "code",
   "execution_count": 37,
   "metadata": {},
   "outputs": [
    {
     "name": "stdout",
     "output_type": "stream",
     "text": [
      "GridSearch for LinearSVC\n",
      "best params: {'C': 0.8}\n",
      "best score: 0.9079017146897649\n"
     ]
    }
   ],
   "source": [
    "parameters = {'C': [.1, .3, .5, .8, 1.0]}\n",
    "improve_results['SVM'] = grid_search_cv(LinearSVC, parameters, X_train_tfidf, y_train)"
   ]
  },
  {
   "cell_type": "code",
   "execution_count": 38,
   "metadata": {},
   "outputs": [],
   "source": [
    "with open('improve_results.pkz', 'wb') as fp:\n",
    "    pickle.dump(improve_results, fp)"
   ]
  },
  {
   "cell_type": "code",
   "execution_count": 39,
   "metadata": {},
   "outputs": [],
   "source": [
    "if os.path.isfile('improve_results.pkz'):\n",
    "    with open('improve_results.pkz', 'rb') as fp:\n",
    "        improve_results = pickle.load(fp)"
   ]
  },
  {
   "cell_type": "code",
   "execution_count": 40,
   "metadata": {},
   "outputs": [
    {
     "name": "stdout",
     "output_type": "stream",
     "text": [
      "{'DecisionTree': {'best_acc_train': 0.91665219159237521,\n",
      "                  'best_acc_val': 0.63832420010606328,\n",
      "                  'mean_pred_time': 0.015100196838378906,\n",
      "                  'mean_train_time': 5.6090377311706536,\n",
      "                  'name': 'DecisionTreeClassifier',\n",
      "                  'search': GridSearchCV(cv=5, error_score='raise',\n",
      "       estimator=DecisionTreeClassifier(class_weight=None, criterion='gini', max_depth=None,\n",
      "            max_features=None, max_leaf_nodes=None,\n",
      "            min_impurity_decrease=0.0, min_impurity_split=None,\n",
      "            min_samples_leaf=1, min_samples_split=2,\n",
      "            min_weight_fraction_leaf=0.0, presort=False, random_state=None,\n",
      "            splitter='best'),\n",
      "       fit_params=None, iid=True, n_jobs=7,\n",
      "       param_grid={'max_depth': [10, 50, 100, 200, 500], 'min_samples_leaf': [2, 5, 10, 20, 50]},\n",
      "       pre_dispatch='2*n_jobs', refit=True, return_train_score=True,\n",
      "       scoring=None, verbose=0)},\n",
      " 'NaiveBayes': {'best_acc_train': 0.98689681350243352,\n",
      "                'best_acc_val': 0.90445465794590774,\n",
      "                'mean_pred_time': 0.022601290543874105,\n",
      "                'mean_train_time': 0.12565665245056151,\n",
      "                'name': 'MultinomialNB',\n",
      "                'search': GridSearchCV(cv=5, error_score='raise',\n",
      "       estimator=MultinomialNB(alpha=1.0, class_prior=None, fit_prior=True),\n",
      "       fit_params=None, iid=True, n_jobs=7,\n",
      "       param_grid={'alpha': [0.0001, 0.001, 0.01, 0.02, 0.03, 0.04, 0.05, 0.06, 0.1, 0.3, 0.5, 0.8]},\n",
      "       pre_dispatch='2*n_jobs', refit=True, return_train_score=True,\n",
      "       scoring=None, verbose=0)},\n",
      " 'SVM': {'best_acc_train': 0.99695066605407257,\n",
      "         'best_acc_val': 0.90790171468976488,\n",
      "         'mean_pred_time': 0.01270009994506836,\n",
      "         'mean_train_time': 1.6837779521942138,\n",
      "         'name': 'LinearSVC',\n",
      "         'search': GridSearchCV(cv=5, error_score='raise',\n",
      "       estimator=LinearSVC(C=1.0, class_weight=None, dual=True, fit_intercept=True,\n",
      "     intercept_scaling=1, loss='squared_hinge', max_iter=1000,\n",
      "     multi_class='ovr', penalty='l2', random_state=None, tol=0.0001,\n",
      "     verbose=0),\n",
      "       fit_params=None, iid=True, n_jobs=7,\n",
      "       param_grid={'C': [0.1, 0.3, 0.5, 0.8, 1.0]},\n",
      "       pre_dispatch='2*n_jobs', refit=True, return_train_score=True,\n",
      "       scoring=None, verbose=0)}}\n"
     ]
    }
   ],
   "source": [
    "pprint(improve_results)"
   ]
  },
  {
   "cell_type": "code",
   "execution_count": 41,
   "metadata": {},
   "outputs": [
    {
     "data": {
      "image/png": "[encoded data removed]",
      "text/plain": [
       "<matplotlib.figure.Figure at 0x1cae9b99c50>"
      ]
     },
     "metadata": {},
     "output_type": "display_data"
    }
   ],
   "source": [
    "model_metrics(improve_results, 'Performance Metrics for Best Models',\n",
    "              metrics=(('mean_train_time', 'mean_pred_time'), ('best_acc_train', 'best_acc_val')))"
   ]
  },
  {
   "cell_type": "markdown",
   "metadata": {},
   "source": [
    "### 在测试集上的表现"
   ]
  },
  {
   "cell_type": "code",
   "execution_count": 58,
   "metadata": {},
   "outputs": [
    {
     "name": "stdout",
     "output_type": "stream",
     "text": [
      "DecisionTree test set acc: 0.563595326606479\n",
      "NaiveBayes test set acc: 0.8127987254381307\n",
      "SVM test set acc: 0.8193043016463091\n"
     ]
    }
   ],
   "source": [
    "model_names = ['DecisionTree', 'NaiveBayes', 'SVM']\n",
    "for model_name in model_names:\n",
    "    if model_name not in improve_results:\n",
    "        continue\n",
    "    print('{} test set acc: {}'.format(model_name, improve_results[model_name]['search'].best_estimator_.score(X_test_tfidf, y_test)))"
   ]
  },
  {
   "cell_type": "markdown",
   "metadata": {},
   "source": [
    "### 基于最优模型的最优参数进一步调参"
   ]
  },
  {
   "cell_type": "code",
   "execution_count": 43,
   "metadata": {},
   "outputs": [],
   "source": [
    "from sklearn.pipeline import make_pipeline"
   ]
  },
  {
   "cell_type": "code",
   "execution_count": 44,
   "metadata": {},
   "outputs": [],
   "source": [
    "from nltk import word_tokenize\n",
    "from nltk.stem import WordNetLemmatizer \n",
    "from nltk.stem.porter import PorterStemmer\n",
    "\n",
    "punctuation_set = set(r',<.>/?;:\\'\"[{]}\\|`~-_=+!@#$%^&*()')\n",
    "\n",
    "class LemmaTokenizer(object):\n",
    "    def __init__(self):\n",
    "        self.wnl = WordNetLemmatizer()\n",
    "    def __call__(self, doc):\n",
    "        return [self.wnl.lemmatize(t) for t in word_tokenize(doc) if t not in punctuation_set]\n",
    "    \n",
    "class StemmerTokenizer(object):\n",
    "    def __init__(self):\n",
    "        self.stemmer = PorterStemmer()\n",
    "    def __call__(self, doc):\n",
    "        return [self.stemmer.stem(t) for t in word_tokenize(doc) if t not in punctuation_set]\n"
   ]
  },
  {
   "cell_type": "code",
   "execution_count": 65,
   "metadata": {},
   "outputs": [
    {
     "name": "stdout",
     "output_type": "stream",
     "text": [
      "Pipeline trained on 11314 samples.\n",
      "{'train_time': 2.298786163330078, 'pred_time': 3.1722347736358643, 'name': 'Pipeline', 'acc_train': 0.98479759589888638, 'acc_val': 0.8127987254381307}\n"
     ]
    }
   ],
   "source": [
    "pipeline_unigram = make_pipeline(CountVectorizer(stop_words='english', min_df=3, max_df=0.95),\n",
    "                        TfidfTransformer(),\n",
    "                        MultinomialNB(**improve_results['NaiveBayes']['search'].best_params_))\n",
    "print(train_predict(pipeline_unigram, len(X_train), X_train, y_train, X_test, y_test))"
   ]
  },
  {
   "cell_type": "code",
   "execution_count": 67,
   "metadata": {},
   "outputs": [
    {
     "name": "stdout",
     "output_type": "stream",
     "text": [
      "Pipeline trained on 11314 samples.\n",
      "{'train_time': 6.996674060821533, 'pred_time': 5.2832958698272705, 'name': 'Pipeline', 'acc_train': 0.99301750044193038, 'acc_val': 0.83072225172596925}\n"
     ]
    }
   ],
   "source": [
    "pipeline_bigram = make_pipeline(CountVectorizer(stop_words='english', min_df=3, max_df=0.95, ngram_range=(1,2)),\n",
    "                        TfidfTransformer(),\n",
    "                        MultinomialNB(**improve_results['NaiveBayes']['search'].best_params_))\n",
    "print(train_predict(pipeline_bigram, len(X_train), X_train, y_train, X_test, y_test))"
   ]
  },
  {
   "cell_type": "code",
   "execution_count": 73,
   "metadata": {},
   "outputs": [
    {
     "name": "stdout",
     "output_type": "stream",
     "text": [
      "111189\n"
     ]
    }
   ],
   "source": [
    "print(len(pipeline_bigram.named_steps['countvectorizer'].vocabulary_))"
   ]
  },
  {
   "cell_type": "code",
   "execution_count": 79,
   "metadata": {},
   "outputs": [
    {
     "name": "stdout",
     "output_type": "stream",
     "text": [
      "Pipeline trained on 11314 samples.\n",
      "{'train_time': 36.97474026679993, 'pred_time': 60.172308921813965, 'name': 'Pipeline', 'acc_train': 0.98435566554710974, 'acc_val': 0.80881571959638876}\n"
     ]
    }
   ],
   "source": [
    "pipeline_lemma = make_pipeline(CountVectorizer(stop_words='english', min_df=3, max_df=0.95, tokenizer=LemmaTokenizer()),\n",
    "                        TfidfTransformer(),\n",
    "                        MultinomialNB(**improve_results['NaiveBayes']['search'].best_params_))\n",
    "print(train_predict(pipeline_lemma, len(X_train), X_train, y_train, X_test, y_test))"
   ]
  },
  {
   "cell_type": "code",
   "execution_count": 75,
   "metadata": {},
   "outputs": [
    {
     "name": "stdout",
     "output_type": "stream",
     "text": [
      "Pipeline trained on 11314 samples.\n",
      "{'train_time': 71.00134778022766, 'pred_time': 116.90676379203796, 'name': 'Pipeline', 'acc_train': 0.9799363620293442, 'acc_val': 0.80855018587360594}\n"
     ]
    }
   ],
   "source": [
    "pipeline_stemmer = make_pipeline(CountVectorizer(stop_words='english', min_df=3, max_df=0.95, tokenizer=StemmerTokenizer()),\n",
    "                        TfidfTransformer(),\n",
    "                        MultinomialNB(**improve_results['NaiveBayes']['search'].best_params_)))\n",
    "print(train_predict(pipeline_stemmer, len(X_train), X_train, y_train, X_test, y_test))"
   ]
  },
  {
   "cell_type": "markdown",
   "metadata": {},
   "source": [
    "# 模型分析"
   ]
  },
  {
   "cell_type": "code",
   "execution_count": 48,
   "metadata": {},
   "outputs": [
    {
     "name": "stdout",
     "output_type": "stream",
     "text": [
      "alt.atheism: islamic don writes islam edu morality people atheism atheists god\n",
      "comp.graphics: cview need polygon looking thanks file files 3d image graphics\n",
      "comp.os.ms-windows.misc: using win bmp card drivers driver files dos file windows\n",
      "comp.sys.ibm.pc.hardware: dos isa disk pc controller bus ide card drive scsi\n",
      "comp.sys.mac.hardware: lc duo scsi simms monitor centris quadra drive apple mac\n",
      "comp.windows.x: use thanks windows application xterm x11r5 widget server motif window\n",
      "misc.forsale: wanted sell price forsale condition new shipping offer 00 sale\n",
      "rec.autos: new com like ford dealer just oil engine cars car\n",
      "rec.motorcycles: dog com helmet bmw ride riding dod motorcycle bikes bike\n",
      "rec.sport.baseball: pitching jewish braves runs games game team year players baseball\n",
      "rec.sport.hockey: espn leafs games season players play nhl game team hockey\n",
      "sci.crypt: security crypto nsa government escrow keys chip encryption key clipper\n",
      "sci.electronics: electronics phone does need radar line know power circuit use\n",
      "sci.med: banks geb pitt gordon edu medical doctor food disease msg\n",
      "sci.space: like just earth lunar shuttle launch orbit moon nasa space\n",
      "soc.religion.christian: believe faith people christ christian bible church christians jesus god\n",
      "talk.politics.guns: edu atf waco firearms weapons batf fbi people guns gun\n",
      "talk.politics.mideast: armenia turkey people arab turkish armenians armenian jews israeli israel\n",
      "talk.politics.misc: article don edu tax com writes gay clinton government people\n",
      "talk.religion.misc: bible writes christians koresh objective people morality christian jesus god\n"
     ]
    }
   ],
   "source": [
    "def show_top10(classifier, vectorizer, categories):\n",
    "    feature_names = np.asarray(vectorizer.get_feature_names())\n",
    "    for i, category in enumerate(categories):\n",
    "        top10 = np.argsort(classifier.coef_[i])[-10:]\n",
    "        print(\"%s: %s\" % (category, \" \".join(feature_names[top10])))\n",
    "\n",
    "show_top10(improve_results['NaiveBayes']['search'].best_estimator_, count_vect, newsgroups_target_names)"
   ]
  },
  {
   "cell_type": "code",
   "execution_count": 81,
   "metadata": {},
   "outputs": [
    {
     "name": "stdout",
     "output_type": "stream",
     "text": [
      "                          precision    recall  f1-score   support\n",
      "\n",
      "             alt.atheism       0.73      0.69      0.71       319\n",
      "           comp.graphics       0.72      0.80      0.76       389\n",
      " comp.os.ms-windows.misc       0.74      0.69      0.71       394\n",
      "comp.sys.ibm.pc.hardware       0.66      0.77      0.71       392\n",
      "   comp.sys.mac.hardware       0.81      0.81      0.81       385\n",
      "          comp.windows.x       0.87      0.78      0.82       395\n",
      "            misc.forsale       0.85      0.77      0.81       390\n",
      "               rec.autos       0.86      0.88      0.87       396\n",
      "         rec.motorcycles       0.90      0.88      0.89       398\n",
      "      rec.sport.baseball       0.96      0.93      0.94       397\n",
      "        rec.sport.hockey       0.93      0.97      0.95       399\n",
      "               sci.crypt       0.87      0.93      0.90       396\n",
      "         sci.electronics       0.80      0.71      0.75       393\n",
      "                 sci.med       0.92      0.82      0.87       396\n",
      "               sci.space       0.87      0.90      0.88       394\n",
      "  soc.religion.christian       0.73      0.92      0.81       398\n",
      "      talk.politics.guns       0.68      0.91      0.78       364\n",
      "   talk.politics.mideast       0.93      0.86      0.89       376\n",
      "      talk.politics.misc       0.70      0.56      0.62       310\n",
      "      talk.religion.misc       0.70      0.50      0.58       251\n",
      "\n",
      "             avg / total       0.82      0.81      0.81      7532\n",
      "\n"
     ]
    }
   ],
   "source": [
    "from sklearn import metrics\n",
    "\n",
    "predicted = improve_results['NaiveBayes']['search'].best_estimator_.predict(X_test_tfidf)\n",
    "print(metrics.classification_report(y_test, predicted, target_names=newsgroups_target_names))"
   ]
  },
  {
   "cell_type": "code",
   "execution_count": 82,
   "metadata": {},
   "outputs": [
    {
     "data": {
      "text/plain": [
       "array([[219,   0,   0,   0,   0,   1,   0,   0,   1,   0,   0,   1,   0,\n",
       "          4,   5,  48,   3,   8,   3,  26],\n",
       "       [  1, 313,   8,  14,  11,  19,   1,   0,   0,   1,   0,  10,   2,\n",
       "          1,   5,   1,   1,   1,   0,   0],\n",
       "       [  0,  26, 270,  41,   6,  16,   5,   1,   0,   0,   1,   8,   2,\n",
       "          1,   3,   2,   2,   0,   7,   3],\n",
       "       [  0,   9,  31, 302,  25,   0,  11,   0,   0,   0,   0,   2,  12,\n",
       "          0,   0,   0,   0,   0,   0,   0],\n",
       "       [  1,   6,  11,  25, 312,   1,   7,   4,   0,   0,   0,   2,   8,\n",
       "          0,   5,   1,   1,   0,   0,   1],\n",
       "       [  0,  41,  21,  12,   1, 307,   2,   0,   0,   0,   3,   2,   2,\n",
       "          0,   3,   0,   1,   0,   0,   0],\n",
       "       [  0,   2,   2,  32,  16,   0, 299,  11,  10,   0,   2,   0,   8,\n",
       "          0,   3,   1,   0,   1,   1,   2],\n",
       "       [  0,   1,   1,   0,   0,   0,   6, 349,  15,   0,   1,   1,   8,\n",
       "          0,   6,   1,   3,   0,   4,   0],\n",
       "       [  0,   1,   0,   0,   1,   3,   4,  24, 349,   2,   0,   0,   8,\n",
       "          0,   0,   2,   2,   0,   2,   0],\n",
       "       [  1,   3,   0,   0,   0,   0,   3,   0,   0, 370,  13,   0,   0,\n",
       "          0,   0,   2,   0,   2,   3,   0],\n",
       "       [  3,   0,   0,   0,   0,   1,   0,   0,   0,   4, 386,   1,   1,\n",
       "          0,   1,   0,   2,   0,   0,   0],\n",
       "       [  0,   4,   7,   0,   1,   1,   1,   0,   0,   1,   0, 369,   4,\n",
       "          1,   1,   0,   3,   0,   3,   0],\n",
       "       [  2,  12,   9,  26,  11,   0,   7,   8,   7,   0,   2,  19, 279,\n",
       "         10,   0,   0,   0,   0,   1,   0],\n",
       "       [ 10,   2,   0,   3,   1,   0,   0,   3,   1,   2,   5,   3,   9,\n",
       "        325,   3,  12,   4,   4,   9,   0],\n",
       "       [  5,   7,   1,   1,   0,   2,   1,   1,   0,   0,   0,   0,   3,\n",
       "          5, 353,   3,   1,   2,   9,   0],\n",
       "       [ 11,   2,   2,   0,   0,   0,   1,   0,   1,   2,   0,   0,   0,\n",
       "          4,   0, 365,   2,   0,   1,   7],\n",
       "       [  0,   0,   1,   0,   0,   0,   0,   1,   1,   0,   0,   4,   0,\n",
       "          1,   2,   3, 331,   1,  11,   8],\n",
       "       [  8,   1,   1,   0,   0,   0,   2,   1,   1,   5,   0,   2,   1,\n",
       "          1,   0,   5,   5, 324,  16,   3],\n",
       "       [  7,   0,   0,   0,   0,   1,   0,   1,   1,   0,   0,   1,   0,\n",
       "          1,   9,   0, 107,   4, 174,   4],\n",
       "       [ 30,   4,   1,   0,   0,   0,   0,   1,   0,   0,   0,   1,   0,\n",
       "          0,   7,  57,  18,   2,   4, 126]], dtype=int64)"
      ]
     },
     "execution_count": 82,
     "metadata": {},
     "output_type": "execute_result"
    }
   ],
   "source": [
    "metrics.confusion_matrix(y_test, predicted)"
   ]
  },
  {
   "cell_type": "code",
   "execution_count": 52,
   "metadata": {},
   "outputs": [],
   "source": [
    "from sklearn.model_selection import validation_curve\n",
    "from sklearn.model_selection import learning_curve"
   ]
  },
  {
   "cell_type": "code",
   "execution_count": 86,
   "metadata": {},
   "outputs": [],
   "source": [
    "#http://scikit-learn.org/stable/auto_examples/model_selection/plot_learning_curve.html#sphx-glr-auto-examples-model-selection-plot-learning-curve-py\n",
    "def plot_learning_curve(estimator, title, X, y, ylim=None, cv=None,\n",
    "                        n_jobs=1, train_sizes=np.linspace(.1, 1.0, 5)):\n",
    "    \"\"\"\n",
    "    Generate a simple plot of the test and training learning curve.\n",
    "\n",
    "    Parameters\n",
    "    ----------\n",
    "    estimator : object type that implements the \"fit\" and \"predict\" methods\n",
    "        An object of that type which is cloned for each validation.\n",
    "\n",
    "    title : string\n",
    "        Title for the chart.\n",
    "\n",
    "    X : array-like, shape (n_samples, n_features)\n",
    "        Training vector, where n_samples is the number of samples and\n",
    "        n_features is the number of features.\n",
    "\n",
    "    y : array-like, shape (n_samples) or (n_samples, n_features), optional\n",
    "        Target relative to X for classification or regression;\n",
    "        None for unsupervised learning.\n",
    "\n",
    "    ylim : tuple, shape (ymin, ymax), optional\n",
    "        Defines minimum and maximum yvalues plotted.\n",
    "\n",
    "    cv : int, cross-validation generator or an iterable, optional\n",
    "        Determines the cross-validation splitting strategy.\n",
    "        Possible inputs for cv are:\n",
    "          - None, to use the default 3-fold cross-validation,\n",
    "          - integer, to specify the number of folds.\n",
    "          - An object to be used as a cross-validation generator.\n",
    "          - An iterable yielding train/test splits.\n",
    "\n",
    "        For integer/None inputs, if ``y`` is binary or multiclass,\n",
    "        :class:`StratifiedKFold` used. If the estimator is not a classifier\n",
    "        or if ``y`` is neither binary nor multiclass, :class:`KFold` is used.\n",
    "\n",
    "        Refer :ref:`User Guide <cross_validation>` for the various\n",
    "        cross-validators that can be used here.\n",
    "\n",
    "    n_jobs : integer, optional\n",
    "        Number of jobs to run in parallel (default 1).\n",
    "    \"\"\"\n",
    "    plt.figure()\n",
    "    plt.title(title)\n",
    "    if ylim is not None:\n",
    "        plt.ylim(*ylim)\n",
    "    plt.xlabel(\"Training examples\")\n",
    "    plt.ylabel(\"Score\")\n",
    "    train_sizes, train_scores, test_scores = learning_curve(\n",
    "        estimator, X, y, cv=cv, n_jobs=n_jobs, train_sizes=train_sizes)\n",
    "    train_scores_mean = np.mean(train_scores, axis=1)\n",
    "    train_scores_std = np.std(train_scores, axis=1)\n",
    "    test_scores_mean = np.mean(test_scores, axis=1)\n",
    "    test_scores_std = np.std(test_scores, axis=1)\n",
    "    plt.grid()\n",
    "\n",
    "    plt.fill_between(train_sizes, train_scores_mean - train_scores_std,\n",
    "                     train_scores_mean + train_scores_std, alpha=0.1,\n",
    "                     color=\"r\")\n",
    "    plt.fill_between(train_sizes, test_scores_mean - test_scores_std,\n",
    "                     test_scores_mean + test_scores_std, alpha=0.1, color=\"g\")\n",
    "    plt.plot(train_sizes, train_scores_mean, 'o-', color=\"r\",\n",
    "             label=\"Training score\")\n",
    "    plt.plot(train_sizes, test_scores_mean, 'o-', color=\"g\",\n",
    "             label=\"Cross-validation score\")\n",
    "\n",
    "    plt.legend(loc=\"best\")\n",
    "    return plt\n"
   ]
  },
  {
   "cell_type": "code",
   "execution_count": 84,
   "metadata": {},
   "outputs": [],
   "source": [
    "# http://scikit-learn.org/stable/auto_examples/model_selection/plot_validation_curve.html#sphx-glr-auto-examples-model-selection-plot-validation-curve-py\n",
    "def plot_validation_curve(estimator, title, X, y, param_name, param_range, ylim=None, cv=None, \n",
    "                        n_jobs=1, train_sizes=np.linspace(.1, 1.0, 5)):\n",
    "    \"\"\"\n",
    "    Generate a simple plot of the test and training learning curve.\n",
    "\n",
    "    Parameters\n",
    "    ----------\n",
    "    estimator : object type that implements the \"fit\" and \"predict\" methods\n",
    "        An object of that type which is cloned for each validation.\n",
    "\n",
    "    title : string\n",
    "        Title for the chart.\n",
    "\n",
    "    X : array-like, shape (n_samples, n_features)\n",
    "        Training vector, where n_samples is the number of samples and\n",
    "        n_features is the number of features.\n",
    "\n",
    "    y : array-like, shape (n_samples) or (n_samples, n_features), optional\n",
    "        Target relative to X for classification or regression;\n",
    "        None for unsupervised learning.\n",
    "\n",
    "    ylim : tuple, shape (ymin, ymax), optional\n",
    "        Defines minimum and maximum yvalues plotted.\n",
    "\n",
    "    cv : int, cross-validation generator or an iterable, optional\n",
    "        Determines the cross-validation splitting strategy.\n",
    "        Possible inputs for cv are:\n",
    "          - None, to use the default 3-fold cross-validation,\n",
    "          - integer, to specify the number of folds.\n",
    "          - An object to be used as a cross-validation generator.\n",
    "          - An iterable yielding train/test splits.\n",
    "\n",
    "        For integer/None inputs, if ``y`` is binary or multiclass,\n",
    "        :class:`StratifiedKFold` used. If the estimator is not a classifier\n",
    "        or if ``y`` is neither binary nor multiclass, :class:`KFold` is used.\n",
    "\n",
    "        Refer :ref:`User Guide <cross_validation>` for the various\n",
    "        cross-validators that can be used here.\n",
    "\n",
    "    n_jobs : integer, optional\n",
    "        Number of jobs to run in parallel (default 1).\n",
    "    \"\"\"\n",
    "    plt.figure()\n",
    "    plt.title(title)\n",
    "    if ylim is not None:\n",
    "        plt.ylim(*ylim)\n",
    "    plt.xlabel(param_name)\n",
    "    plt.ylabel(\"Score\")\n",
    "\n",
    "    train_scores, test_scores = validation_curve(\n",
    "        estimator, X, y, param_name=param_name, param_range=param_range,\n",
    "        cv=cv, n_jobs=n_jobs)\n",
    "    train_scores_mean = np.mean(train_scores, axis=1)\n",
    "    train_scores_std = np.std(train_scores, axis=1)\n",
    "    test_scores_mean = np.mean(test_scores, axis=1)\n",
    "    test_scores_std = np.std(test_scores, axis=1)\n",
    "\n",
    "    lw = 2\n",
    "    plt.semilogx(param_range, train_scores_mean, label=\"Training score\",\n",
    "                 color=\"darkorange\", lw=lw)\n",
    "    plt.fill_between(param_range, train_scores_mean - train_scores_std,\n",
    "                     train_scores_mean + train_scores_std, alpha=0.2,\n",
    "                     color=\"darkorange\", lw=lw)\n",
    "    plt.semilogx(param_range, test_scores_mean, label=\"Cross-validation score\",\n",
    "                 color=\"navy\", lw=lw)\n",
    "    plt.fill_between(param_range, test_scores_mean - test_scores_std,\n",
    "                     test_scores_mean + test_scores_std, alpha=0.2,\n",
    "                     color=\"navy\", lw=lw)\n",
    "    plt.legend(loc=\"best\")\n",
    "    return plt"
   ]
  },
  {
   "cell_type": "code",
   "execution_count": 90,
   "metadata": {},
   "outputs": [
    {
     "data": {
      "image/png": "[encoded data removed]",
      "text/plain": [
       "<matplotlib.figure.Figure at 0x1ca8558ed68>"
      ]
     },
     "metadata": {},
     "output_type": "display_data"
    }
   ],
   "source": [
    "plot_learning_curve(improve_results['NaiveBayes']['search'].best_estimator_, 'Learning Curve NaiveBayes',\n",
    "                    X_train_tfidf, y_train, (0.4, 1.01), cv=5, n_jobs=cpu_count()-1, train_sizes=np.linspace(.1, 1.0, 8))\n",
    "\n",
    "plt.show()"
   ]
  },
  {
   "cell_type": "code",
   "execution_count": 91,
   "metadata": {},
   "outputs": [
    {
     "data": {
      "image/png": "[encoded data removed]",
      "text/plain": [
       "<matplotlib.figure.Figure at 0x1ca88c78a58>"
      ]
     },
     "metadata": {},
     "output_type": "display_data"
    }
   ],
   "source": [
    "plot_validation_curve(improve_results['NaiveBayes']['search'].best_estimator_, 'Validation Curve NaiveBayes', \n",
    "                      X_train_tfidf, y_train, \n",
    "                      'alpha', np.linspace(.01, 1.0, 20),\n",
    "                      (0.7, 1.01), cv=5, n_jobs=cpu_count()-1)\n",
    "\n",
    "plt.show()"
   ]
  },
  {
   "cell_type": "markdown",
   "metadata": {},
   "source": [
    "# 深度模型"
   ]
  },
  {
   "cell_type": "markdown",
   "metadata": {},
   "source": [
    "## 词向量word2vec"
   ]
  },
  {
   "cell_type": "code",
   "execution_count": 92,
   "metadata": {},
   "outputs": [
    {
     "name": "stderr",
     "output_type": "stream",
     "text": [
      "D:\\install\\Anaconda3\\envs\\mlnd_capstone\\lib\\site-packages\\gensim\\utils.py:860: UserWarning: detected Windows; aliasing chunkize to chunkize_serial\n",
      "  warnings.warn(\"detected Windows; aliasing chunkize to chunkize_serial\")\n"
     ]
    }
   ],
   "source": [
    "import gensim\n",
    "from gensim.models import word2vec\n",
    "\n",
    "EMBEDDING_DIM = 100"
   ]
  },
  {
   "cell_type": "code",
   "execution_count": 93,
   "metadata": {},
   "outputs": [
    {
     "name": "stdout",
     "output_type": "stream",
     "text": [
      "word2vec model trained and saved\n"
     ]
    }
   ],
   "source": [
    "if not os.path.isfile('word2vec/text8.model'):\n",
    "    sentences = word2vec.Text8Corpus('word2vec/text8')\n",
    "    wv_text8 = word2vec.Word2Vec(sentences, sg=0, size=EMBEDDING_DIM, workers=4)\n",
    "    wv_text8.save('word2vec/text8.model')\n",
    "    print('word2vec model trained and saved')\n",
    "else:\n",
    "    wv_text8 = word2vec.Word2Vec.load('word2vec/text8.model')\n",
    "    print('word2vec model loaded from disk')"
   ]
  },
  {
   "cell_type": "code",
   "execution_count": 94,
   "metadata": {
    "scrolled": true
   },
   "outputs": [],
   "source": [
    "def word2vec_accuracy(word_vector):\n",
    "    word2vec_acc = word_vector.accuracy('word2vec/questions-words.txt')\n",
    "    section_acc = {}\n",
    "    total_correct = 0\n",
    "    total_incorrect = 0\n",
    "    for section in word2vec_acc:\n",
    "        correct = len(section['correct'])\n",
    "        incorrect = len(section['incorrect'])\n",
    "        section_acc[section['section']] = float(correct) / (correct + incorrect)\n",
    "        total_correct += correct\n",
    "        total_incorrect += incorrect\n",
    "    section_acc['total'] = float(total_correct) / (total_correct + total_incorrect)\n",
    "    return section_acc"
   ]
  },
  {
   "cell_type": "code",
   "execution_count": 95,
   "metadata": {},
   "outputs": [],
   "source": [
    "def word2vec_min_max(word_vector):\n",
    "    cur_min = float('inf')\n",
    "    cur_max = -float('inf')\n",
    "    for key in word_vector.vocab:\n",
    "        for value in word_vector[key]:\n",
    "            if value > cur_max:\n",
    "                cur_max = value\n",
    "            if value < cur_min:\n",
    "                cur_min = value\n",
    "    return cur_min, cur_max"
   ]
  },
  {
   "cell_type": "code",
   "execution_count": 96,
   "metadata": {},
   "outputs": [
    {
     "data": {
      "text/plain": [
       "(-10.036307, 8.7793503)"
      ]
     },
     "execution_count": 96,
     "metadata": {},
     "output_type": "execute_result"
    }
   ],
   "source": [
    "word2vec_min_max(wv_text8.wv)"
   ]
  },
  {
   "cell_type": "code",
   "execution_count": 97,
   "metadata": {},
   "outputs": [
    {
     "name": "stdout",
     "output_type": "stream",
     "text": [
      "{'capital-common-countries': 0.3221343873517787, 'capital-world': 0.1590909090909091, 'currency': 0.11567164179104478, 'city-in-state': 0.0967536600891152, 'family': 0.7516339869281046, 'gram1-adjective-to-adverb': 0.11772486772486772, 'gram2-opposite': 0.16666666666666666, 'gram3-comparative': 0.5484126984126985, 'gram4-superlative': 0.34782608695652173, 'gram5-present-participle': 0.29838709677419356, 'gram6-nationality-adjective': 0.5061998541210795, 'gram7-past-tense': 0.24924924924924924, 'gram8-plural': 0.3790322580645161, 'gram9-plural-verbs': 0.34615384615384615, 'total': 0.3046136289533746}\n"
     ]
    }
   ],
   "source": [
    "print(word2vec_accuracy(wv_text8.wv))"
   ]
  },
  {
   "cell_type": "code",
   "execution_count": 98,
   "metadata": {},
   "outputs": [
    {
     "name": "stdout",
     "output_type": "stream",
     "text": [
      "((0.60916544339846934, 4.988857452756329e-37), SpearmanrResult(correlation=0.62176543678605323, pvalue=6.2645893427999052e-39), 0.56657223796034)\n"
     ]
    }
   ],
   "source": [
    "print(wv_text8.wv.evaluate_word_pairs('word2vec/wordsim353.tsv'))"
   ]
  },
  {
   "cell_type": "markdown",
   "metadata": {},
   "source": [
    "## 词向量Glovec 预训练"
   ]
  },
  {
   "cell_type": "code",
   "execution_count": 99,
   "metadata": {},
   "outputs": [],
   "source": [
    "from gensim.scripts.glove2word2vec import glove2word2vec\n",
    "\n",
    "if not os.path.isfile('word2vec/glove2word2vec.6B.100d.txt'):\n",
    "    glove2word2vec('word2vec/glove.6B.100d.txt', 'word2vec/glove2word2vec.6B.100d.txt')\n",
    "\n",
    "wv_glove = gensim.models.KeyedVectors.load_word2vec_format('word2vec/glove2word2vec.6B.100d.txt',binary=False)"
   ]
  },
  {
   "cell_type": "code",
   "execution_count": 100,
   "metadata": {},
   "outputs": [
    {
     "data": {
      "text/plain": [
       "(-4.0665998, 3.575)"
      ]
     },
     "execution_count": 100,
     "metadata": {},
     "output_type": "execute_result"
    }
   ],
   "source": [
    "word2vec_min_max(wv_glove.wv)"
   ]
  },
  {
   "cell_type": "code",
   "execution_count": 101,
   "metadata": {},
   "outputs": [
    {
     "name": "stdout",
     "output_type": "stream",
     "text": [
      "{'capital-common-countries': 0.9426877470355731, 'capital-world': 0.8939226519337017, 'currency': 0.17796610169491525, 'city-in-state': 0.31230140717203814, 'family': 0.8771929824561403, 'gram1-adjective-to-adverb': 0.2206896551724138, 'gram2-opposite': 0.23421052631578948, 'gram3-comparative': 0.7935435435435435, 'gram4-superlative': 0.5983333333333334, 'gram5-present-participle': 0.6946236559139785, 'gram6-nationality-adjective': 0.9487889273356401, 'gram7-past-tense': 0.5544871794871795, 'gram8-plural': 0.7793560606060606, 'gram9-plural-verbs': 0.5797720797720798, 'total': 0.6549035423808564}\n"
     ]
    }
   ],
   "source": [
    "print(word2vec_accuracy(wv_glove.wv))"
   ]
  },
  {
   "cell_type": "code",
   "execution_count": 102,
   "metadata": {},
   "outputs": [
    {
     "name": "stdout",
     "output_type": "stream",
     "text": [
      "((0.5483502271903985, 4.2350974945224685e-29), SpearmanrResult(correlation=0.53273543232382736, pvalue=2.8654146580558905e-27), 0.0)\n"
     ]
    }
   ],
   "source": [
    "print(wv_glove.wv.evaluate_word_pairs('word2vec/wordsim353.tsv'))"
   ]
  },
  {
   "cell_type": "code",
   "execution_count": 103,
   "metadata": {},
   "outputs": [],
   "source": [
    "def load_glove():\n",
    "    embeddings_index = {}\n",
    "    f = open('word2vec/glove.6B.100d.txt', encoding='utf8')\n",
    "\n",
    "    for line in f:\n",
    "        values = line.split()\n",
    "        word = values[0]\n",
    "        coefs = np.asarray(values[1:], dtype='float32')\n",
    "        embeddings_index[word] = coefs\n",
    "\n",
    "    f.close()\n",
    "    print('Found %s word vectors.' % len(embeddings_index))\n",
    "    return embeddings_index\n"
   ]
  },
  {
   "cell_type": "markdown",
   "metadata": {},
   "source": [
    "# 深度模型"
   ]
  },
  {
   "cell_type": "code",
   "execution_count": 104,
   "metadata": {},
   "outputs": [
    {
     "name": "stderr",
     "output_type": "stream",
     "text": [
      "Using TensorFlow backend.\n"
     ]
    }
   ],
   "source": [
    "from keras.preprocessing.text import Tokenizer\n",
    "from keras.preprocessing.sequence import pad_sequences\n",
    "from keras.utils import to_categorical\n",
    "from keras.layers import Dense, Input, GlobalMaxPooling1D, Dropout, Flatten, Merge\n",
    "from keras.layers import Conv1D, Convolution1D, Activation, MaxPooling1D, MaxPool1D, GRU, Embedding, LSTM\n",
    "from keras.models import Model, Sequential\n",
    "from keras import regularizers\n",
    "from keras.callbacks import EarlyStopping\n",
    "\n",
    "MAX_SEQUENCE_LENGTH = 1000\n",
    "MAX_NUM_WORDS = 20000\n",
    "EMBEDDING_DIM = 100"
   ]
  },
  {
   "cell_type": "code",
   "execution_count": 105,
   "metadata": {},
   "outputs": [],
   "source": [
    "class FixLengthTokenizer():\n",
    "    '''\n",
    "    tokenize doc and padding to fix length\n",
    "    '''\n",
    "    def __init__(self, num_words, maxlen):\n",
    "        self.tokenizer = Tokenizer(num_words=num_words)\n",
    "        self.word_index = {}\n",
    "        self.is_fitted = False\n",
    "        self.maxlen = maxlen\n",
    "    \n",
    "    def fit(self, raw_documents):\n",
    "        self.tokenizer.fit_on_texts(raw_documents)\n",
    "        self.word_index = self.tokenizer.word_index\n",
    "        self.is_fitted = True\n",
    "    \n",
    "    def transform(self, raw_documents):\n",
    "        if not self.is_fitted:\n",
    "            raise Exception('tokenizer not fitted yet')\n",
    "        return pad_sequences(self.tokenizer.texts_to_sequences(raw_documents), maxlen=self.maxlen)"
   ]
  },
  {
   "cell_type": "code",
   "execution_count": 145,
   "metadata": {},
   "outputs": [
    {
     "name": "stdout",
     "output_type": "stream",
     "text": [
      "Processing text dataset\n",
      "Found 100212 unique tokens.\n",
      "Shape of train data tensor: (9051, 1000)\n",
      "Shape of train label tensor: (9051, 20)\n"
     ]
    }
   ],
   "source": [
    "print('Processing text dataset')\n",
    "\n",
    "vectorizer = FixLengthTokenizer(MAX_NUM_WORDS, MAX_SEQUENCE_LENGTH)\n",
    "vectorizer.fit(X_train)\n",
    "\n",
    "print('Found %s unique tokens.' % len(vectorizer.word_index))\n",
    "\n",
    "X_train_dl = vectorizer.transform(X_train_dev)\n",
    "y_train_dl = to_categorical(np.asarray(y_train_dev), num_classes=20)\n",
    "\n",
    "X_val_dl = vectorizer.transform(X_val)\n",
    "y_val_dl = to_categorical(np.asarray(y_val), num_classes=20)\n",
    "\n",
    "X_test_dl = vectorizer.transform(X_test)\n",
    "y_test_dl = to_categorical(np.asarray(y_test), num_classes=20)\n",
    "\n",
    "print('Shape of train data tensor:', X_train_dl.shape)\n",
    "print('Shape of train label tensor:', y_train_dl.shape)"
   ]
  },
  {
   "cell_type": "code",
   "execution_count": 107,
   "metadata": {},
   "outputs": [],
   "source": [
    "def build_embedding_matrix(word_vector, word_index, num_words, embedding_dim, random_initialize=False):\n",
    "    # no word idx 0, embedding size num_words+1\n",
    "    embedding_matrix = np.zeros((num_words+1, embedding_dim))\n",
    "\n",
    "    for word, i in word_index.items():\n",
    "        if i > num_words:\n",
    "            continue\n",
    "        if word in word_vector:\n",
    "            embedding_matrix[i] = word_vector[word]\n",
    "        else:\n",
    "            if random_initialize:\n",
    "                embedding_matrix[i] = np.random.uniform(-5, 5, embedding_dim)\n",
    "    \n",
    "    return embedding_matrix"
   ]
  },
  {
   "cell_type": "code",
   "execution_count": 108,
   "metadata": {},
   "outputs": [
    {
     "name": "stdout",
     "output_type": "stream",
     "text": [
      "embedding matrix shape: (20001, 100)\n"
     ]
    }
   ],
   "source": [
    "# Preparing embedding matrix\n",
    "\n",
    "num_words = min(MAX_NUM_WORDS, len(vectorizer.word_index))\n",
    "\n",
    "embedding_matrix = build_embedding_matrix(wv_glove.wv, vectorizer.word_index, num_words, EMBEDDING_DIM, True)\n",
    "\n",
    "print('embedding matrix shape: {}'.format(embedding_matrix.shape))"
   ]
  },
  {
   "cell_type": "code",
   "execution_count": 124,
   "metadata": {},
   "outputs": [],
   "source": [
    "def plot_keras_history(history):\n",
    "    fig, ax = plt.subplots(1, 2, figsize = (16,5))\n",
    "    ax[0].plot(range(1, len(history['acc']) + 1), history['acc'], label='train')\n",
    "    ax[0].plot(range(1, len(history['val_acc']) + 1), history['val_acc'], label='val')\n",
    "    \n",
    "    ax[0].set_xlabel('Epochs')\n",
    "    ax[0].set_ylabel('accuracy')\n",
    "    ax[0].legend(loc='best')\n",
    "    ax[0].set_title('Train acc')\n",
    "    ax[0].set_xticks(range(1, len(history['acc']) + 1, 5))\n",
    "    ax[0].set_ylim((0, 1))\n",
    "\n",
    "    ax[1].plot(range(1, len(history['loss']) + 1), history['loss'], label='train')\n",
    "    ax[1].plot(range(1, len(history['val_loss']) + 1), history['val_loss'], label='val')\n",
    "    \n",
    "    ax[1].set_xlabel('Epochs')\n",
    "    ax[1].set_ylabel('loss')\n",
    "    ax[1].legend(loc='best')\n",
    "    ax[1].set_title('Train loss')\n",
    "    ax[1].set_xticks(range(1, len(history['acc']) + 1, 5))\n",
    "    \n",
    "    fig.show()"
   ]
  },
  {
   "cell_type": "markdown",
   "metadata": {},
   "source": [
    "## TextCNN"
   ]
  },
  {
   "cell_type": "code",
   "execution_count": 110,
   "metadata": {},
   "outputs": [],
   "source": [
    "def TextCNN(embeddings, max_sequence_length, num_words, embedding_dim, labels_index, trainable=False, extra_conv=True):\n",
    "    if embeddings is None:\n",
    "        embedding_layer = Embedding(num_words+1,\n",
    "                                embedding_dim,\n",
    "                                input_length=max_sequence_length,\n",
    "                                trainable=True)\n",
    "    else:\n",
    "        embedding_layer = Embedding(num_words+1,\n",
    "                                embedding_dim,\n",
    "                                weights=[embeddings],\n",
    "                                input_length=max_sequence_length,\n",
    "                                trainable=trainable)\n",
    "\n",
    "    sequence_input = Input(shape=(max_sequence_length,), dtype='int32')\n",
    "    embedded_sequences = embedding_layer(sequence_input)\n",
    "\n",
    "    # Yoon Kim model (https://arxiv.org/abs/1408.5882)\n",
    "    convs = []\n",
    "    filter_sizes = [3,4,5]\n",
    "\n",
    "    for filter_size in filter_sizes:\n",
    "        l_conv = Conv1D(filters=128, kernel_size=filter_size, activation='relu')(embedded_sequences)\n",
    "        l_pool = MaxPooling1D(pool_size=3)(l_conv)\n",
    "        convs.append(l_pool)\n",
    "\n",
    "    l_merge = Merge(mode='concat', concat_axis=1)(convs)\n",
    "\n",
    "    # add a 1D convnet with global maxpooling, instead of Yoon Kim model\n",
    "    conv = Conv1D(filters=128, kernel_size=3, activation='relu')(embedded_sequences)\n",
    "    pool = MaxPooling1D(pool_size=3)(conv)\n",
    "\n",
    "    if extra_conv==True:\n",
    "        x = Dropout(0.5)(l_merge)  \n",
    "    else:\n",
    "        # Original Yoon Kim model\n",
    "        x = Dropout(0.5)(pool)\n",
    "    x = Flatten()(x)\n",
    "    x = Dense(128, activation='relu')(x)\n",
    "    #optional dropout\n",
    "    x = Dropout(0.5)(x)\n",
    "\n",
    "    preds = Dense(labels_index, activation='softmax')(x)\n",
    "\n",
    "    model = Model(sequence_input, preds)\n",
    "    model.compile(loss='categorical_crossentropy',\n",
    "                  optimizer='adam',\n",
    "                  metrics=['acc'])\n",
    "\n",
    "    return model"
   ]
  },
  {
   "cell_type": "code",
   "execution_count": 111,
   "metadata": {},
   "outputs": [
    {
     "name": "stderr",
     "output_type": "stream",
     "text": [
      "D:\\install\\Anaconda3\\envs\\mlnd_capstone\\lib\\site-packages\\ipykernel_launcher.py:26: UserWarning: The `Merge` layer is deprecated and will be removed after 08/2017. Use instead layers from `keras.layers.merge`, e.g. `add`, `concatenate`, etc.\n"
     ]
    }
   ],
   "source": [
    "text_cnn = TextCNN(embedding_matrix, MAX_SEQUENCE_LENGTH, num_words, EMBEDDING_DIM, len(newsgroups_target_names), False)"
   ]
  },
  {
   "cell_type": "code",
   "execution_count": 112,
   "metadata": {},
   "outputs": [
    {
     "name": "stdout",
     "output_type": "stream",
     "text": [
      "__________________________________________________________________________________________________\n",
      "Layer (type)                    Output Shape         Param #     Connected to                     \n",
      "==================================================================================================\n",
      "input_1 (InputLayer)            (None, 1000)         0                                            \n",
      "__________________________________________________________________________________________________\n",
      "embedding_1 (Embedding)         (None, 1000, 100)    2000100     input_1[0][0]                    \n",
      "__________________________________________________________________________________________________\n",
      "conv1d_1 (Conv1D)               (None, 998, 128)     38528       embedding_1[0][0]                \n",
      "__________________________________________________________________________________________________\n",
      "conv1d_2 (Conv1D)               (None, 997, 128)     51328       embedding_1[0][0]                \n",
      "__________________________________________________________________________________________________\n",
      "conv1d_3 (Conv1D)               (None, 996, 128)     64128       embedding_1[0][0]                \n",
      "__________________________________________________________________________________________________\n",
      "max_pooling1d_1 (MaxPooling1D)  (None, 332, 128)     0           conv1d_1[0][0]                   \n",
      "__________________________________________________________________________________________________\n",
      "max_pooling1d_2 (MaxPooling1D)  (None, 332, 128)     0           conv1d_2[0][0]                   \n",
      "__________________________________________________________________________________________________\n",
      "max_pooling1d_3 (MaxPooling1D)  (None, 332, 128)     0           conv1d_3[0][0]                   \n",
      "__________________________________________________________________________________________________\n",
      "merge_1 (Merge)                 (None, 996, 128)     0           max_pooling1d_1[0][0]            \n",
      "                                                                 max_pooling1d_2[0][0]            \n",
      "                                                                 max_pooling1d_3[0][0]            \n",
      "__________________________________________________________________________________________________\n",
      "dropout_1 (Dropout)             (None, 996, 128)     0           merge_1[0][0]                    \n",
      "__________________________________________________________________________________________________\n",
      "flatten_1 (Flatten)             (None, 127488)       0           dropout_1[0][0]                  \n",
      "__________________________________________________________________________________________________\n",
      "dense_1 (Dense)                 (None, 128)          16318592    flatten_1[0][0]                  \n",
      "__________________________________________________________________________________________________\n",
      "dropout_2 (Dropout)             (None, 128)          0           dense_1[0][0]                    \n",
      "__________________________________________________________________________________________________\n",
      "dense_2 (Dense)                 (None, 20)           2580        dropout_2[0][0]                  \n",
      "==================================================================================================\n",
      "Total params: 18,475,256\n",
      "Trainable params: 16,475,156\n",
      "Non-trainable params: 2,000,100\n",
      "__________________________________________________________________________________________________\n"
     ]
    }
   ],
   "source": [
    "text_cnn.summary()"
   ]
  },
  {
   "cell_type": "code",
   "execution_count": 113,
   "metadata": {},
   "outputs": [
    {
     "name": "stdout",
     "output_type": "stream",
     "text": [
      "Train on 9051 samples, validate on 2263 samples\n",
      "Epoch 1/60\n",
      "9051/9051 [==============================] - 11s 1ms/step - loss: 3.2267 - acc: 0.0582 - val_loss: 2.9857 - val_acc: 0.0663\n",
      "Epoch 2/60\n",
      "9051/9051 [==============================] - 9s 985us/step - loss: 2.9491 - acc: 0.0816 - val_loss: 2.9402 - val_acc: 0.0831\n",
      "Epoch 3/60\n",
      "9051/9051 [==============================] - 9s 991us/step - loss: 2.8308 - acc: 0.1168 - val_loss: 2.7561 - val_acc: 0.1467\n",
      "Epoch 4/60\n",
      "9051/9051 [==============================] - 9s 996us/step - loss: 2.5778 - acc: 0.1851 - val_loss: 2.3440 - val_acc: 0.2262\n",
      "Epoch 5/60\n",
      "9051/9051 [==============================] - 9s 993us/step - loss: 2.1599 - acc: 0.2782 - val_loss: 2.0001 - val_acc: 0.3403\n",
      "Epoch 6/60\n",
      "9051/9051 [==============================] - 9s 995us/step - loss: 1.8690 - acc: 0.3655 - val_loss: 1.8305 - val_acc: 0.3990\n",
      "Epoch 7/60\n",
      "9051/9051 [==============================] - 9s 993us/step - loss: 1.6268 - acc: 0.4382 - val_loss: 1.7072 - val_acc: 0.4278\n",
      "Epoch 8/60\n",
      "9051/9051 [==============================] - 9s 989us/step - loss: 1.4597 - acc: 0.5041 - val_loss: 1.6128 - val_acc: 0.4516\n",
      "Epoch 9/60\n",
      "9051/9051 [==============================] - 9s 995us/step - loss: 1.2990 - acc: 0.5487 - val_loss: 1.5563 - val_acc: 0.4741\n",
      "Epoch 10/60\n",
      "9051/9051 [==============================] - 9s 993us/step - loss: 1.1967 - acc: 0.5828 - val_loss: 1.5207 - val_acc: 0.4932\n",
      "Epoch 11/60\n",
      "9051/9051 [==============================] - 9s 995us/step - loss: 1.0906 - acc: 0.6231 - val_loss: 1.5136 - val_acc: 0.5033\n",
      "Epoch 12/60\n",
      "9051/9051 [==============================] - 9s 993us/step - loss: 1.0045 - acc: 0.6515 - val_loss: 1.4994 - val_acc: 0.5068\n",
      "Epoch 13/60\n",
      "9051/9051 [==============================] - 9s 1ms/step - loss: 0.9516 - acc: 0.6704 - val_loss: 1.5022 - val_acc: 0.5152\n",
      "Epoch 14/60\n",
      "9051/9051 [==============================] - 9s 1ms/step - loss: 0.8709 - acc: 0.7009 - val_loss: 1.4683 - val_acc: 0.5285\n",
      "Epoch 15/60\n",
      "9051/9051 [==============================] - 9s 1ms/step - loss: 0.8292 - acc: 0.7105 - val_loss: 1.5130 - val_acc: 0.5223\n",
      "Epoch 16/60\n",
      "9051/9051 [==============================] - 9s 1ms/step - loss: 0.7916 - acc: 0.7299 - val_loss: 1.4603 - val_acc: 0.5418\n",
      "Epoch 17/60\n",
      "9051/9051 [==============================] - 9s 1ms/step - loss: 0.7178 - acc: 0.7523 - val_loss: 1.4767 - val_acc: 0.5422\n",
      "Epoch 18/60\n",
      "9051/9051 [==============================] - 9s 1ms/step - loss: 0.6931 - acc: 0.7610 - val_loss: 1.4748 - val_acc: 0.5532\n",
      "Epoch 19/60\n",
      "9051/9051 [==============================] - 9s 1ms/step - loss: 0.6702 - acc: 0.7732 - val_loss: 1.4636 - val_acc: 0.5510\n",
      "Epoch 20/60\n",
      "9051/9051 [==============================] - 9s 1ms/step - loss: 0.6553 - acc: 0.7755 - val_loss: 1.5347 - val_acc: 0.5541\n",
      "Epoch 21/60\n",
      "9051/9051 [==============================] - 9s 1ms/step - loss: 0.6117 - acc: 0.7927 - val_loss: 1.5269 - val_acc: 0.5524\n",
      "Epoch 22/60\n",
      "9051/9051 [==============================] - 9s 1ms/step - loss: 0.5659 - acc: 0.8081 - val_loss: 1.5762 - val_acc: 0.5736\n",
      "Epoch 23/60\n",
      "9051/9051 [==============================] - 9s 1ms/step - loss: 0.5528 - acc: 0.8047 - val_loss: 1.5120 - val_acc: 0.5590\n",
      "Epoch 24/60\n",
      "9051/9051 [==============================] - 9s 1ms/step - loss: 0.5555 - acc: 0.8186 - val_loss: 1.5275 - val_acc: 0.5581\n",
      "Epoch 25/60\n",
      "9051/9051 [==============================] - 9s 1ms/step - loss: 0.5096 - acc: 0.8270 - val_loss: 1.5047 - val_acc: 0.5745\n",
      "Epoch 26/60\n",
      "9051/9051 [==============================] - 9s 1ms/step - loss: 0.4974 - acc: 0.8308 - val_loss: 1.5075 - val_acc: 0.5753\n",
      "Epoch 27/60\n",
      "9051/9051 [==============================] - 9s 997us/step - loss: 0.4800 - acc: 0.8403 - val_loss: 1.5846 - val_acc: 0.5815\n",
      "Epoch 28/60\n",
      "9051/9051 [==============================] - 9s 999us/step - loss: 0.4853 - acc: 0.8315 - val_loss: 1.5824 - val_acc: 0.5780\n",
      "Epoch 29/60\n",
      "9051/9051 [==============================] - 9s 1ms/step - loss: 0.4691 - acc: 0.8438 - val_loss: 1.6279 - val_acc: 0.5700\n",
      "Epoch 30/60\n",
      "9051/9051 [==============================] - 9s 1ms/step - loss: 0.4566 - acc: 0.8458 - val_loss: 1.6574 - val_acc: 0.5709\n",
      "Epoch 31/60\n",
      "9051/9051 [==============================] - 9s 995us/step - loss: 0.4280 - acc: 0.8538 - val_loss: 1.6263 - val_acc: 0.5727\n",
      "Epoch 32/60\n",
      "9051/9051 [==============================] - 9s 996us/step - loss: 0.4270 - acc: 0.8548 - val_loss: 1.6386 - val_acc: 0.5722\n",
      "Epoch 33/60\n",
      "9051/9051 [==============================] - 9s 994us/step - loss: 0.4183 - acc: 0.8660 - val_loss: 1.6099 - val_acc: 0.5815\n",
      "Epoch 34/60\n",
      "9051/9051 [==============================] - 9s 994us/step - loss: 0.4348 - acc: 0.8538 - val_loss: 1.6206 - val_acc: 0.5789\n",
      "Epoch 35/60\n",
      "9051/9051 [==============================] - 9s 993us/step - loss: 0.4101 - acc: 0.8644 - val_loss: 1.6631 - val_acc: 0.5833\n",
      "Epoch 36/60\n",
      "9051/9051 [==============================] - 9s 997us/step - loss: 0.3986 - acc: 0.8695 - val_loss: 1.6389 - val_acc: 0.5793\n",
      "Epoch 37/60\n",
      "9051/9051 [==============================] - 9s 995us/step - loss: 0.3857 - acc: 0.8725 - val_loss: 1.6647 - val_acc: 0.5705\n",
      "Epoch 38/60\n",
      "9051/9051 [==============================] - 9s 1ms/step - loss: 0.3757 - acc: 0.8760 - val_loss: 1.6494 - val_acc: 0.5859\n",
      "Epoch 39/60\n",
      "9051/9051 [==============================] - 9s 1ms/step - loss: 0.3787 - acc: 0.8791 - val_loss: 1.6766 - val_acc: 0.5709\n",
      "Epoch 40/60\n",
      "9051/9051 [==============================] - 9s 999us/step - loss: 0.3516 - acc: 0.8859 - val_loss: 1.6101 - val_acc: 0.5935\n",
      "Epoch 41/60\n",
      "9051/9051 [==============================] - 9s 1000us/step - loss: 0.3375 - acc: 0.8868 - val_loss: 1.6515 - val_acc: 0.5895\n",
      "Epoch 42/60\n",
      "9051/9051 [==============================] - 9s 1ms/step - loss: 0.3605 - acc: 0.8802 - val_loss: 1.6496 - val_acc: 0.6027\n",
      "Epoch 43/60\n",
      "9051/9051 [==============================] - 9s 998us/step - loss: 0.3457 - acc: 0.8902 - val_loss: 1.7228 - val_acc: 0.5943\n",
      "Epoch 44/60\n",
      "9051/9051 [==============================] - 9s 997us/step - loss: 0.3297 - acc: 0.8924 - val_loss: 1.7391 - val_acc: 0.5846\n",
      "Epoch 45/60\n",
      "9051/9051 [==============================] - 9s 1ms/step - loss: 0.3241 - acc: 0.8949 - val_loss: 1.7362 - val_acc: 0.5882\n",
      "Epoch 46/60\n",
      "9051/9051 [==============================] - 9s 999us/step - loss: 0.3298 - acc: 0.8926 - val_loss: 1.7244 - val_acc: 0.5802\n",
      "Epoch 47/60\n",
      "9051/9051 [==============================] - 9s 999us/step - loss: 0.3221 - acc: 0.8954 - val_loss: 1.7954 - val_acc: 0.5926\n",
      "Epoch 48/60\n",
      "9051/9051 [==============================] - 9s 997us/step - loss: 0.3154 - acc: 0.8954 - val_loss: 1.8014 - val_acc: 0.5943\n",
      "Epoch 49/60\n",
      "9051/9051 [==============================] - 9s 1000us/step - loss: 0.3024 - acc: 0.9033 - val_loss: 1.7958 - val_acc: 0.5926\n",
      "Epoch 50/60\n",
      "9051/9051 [==============================] - 9s 999us/step - loss: 0.2968 - acc: 0.9076 - val_loss: 1.8552 - val_acc: 0.5939\n",
      "Epoch 51/60\n",
      "9051/9051 [==============================] - 9s 1ms/step - loss: 0.2987 - acc: 0.9047 - val_loss: 1.8171 - val_acc: 0.5961\n",
      "Epoch 52/60\n",
      "9051/9051 [==============================] - 9s 1ms/step - loss: 0.2996 - acc: 0.9065 - val_loss: 1.8171 - val_acc: 0.5877\n",
      "Epoch 53/60\n",
      "9051/9051 [==============================] - 9s 998us/step - loss: 0.2902 - acc: 0.9082 - val_loss: 1.8775 - val_acc: 0.5877\n",
      "Epoch 54/60\n",
      "9051/9051 [==============================] - 9s 1ms/step - loss: 0.3022 - acc: 0.9020 - val_loss: 1.8010 - val_acc: 0.6036\n",
      "Epoch 55/60\n",
      "9051/9051 [==============================] - 9s 1ms/step - loss: 0.2838 - acc: 0.9081 - val_loss: 1.7817 - val_acc: 0.6045\n",
      "Epoch 56/60\n",
      "9051/9051 [==============================] - 9s 999us/step - loss: 0.2925 - acc: 0.9091 - val_loss: 1.8520 - val_acc: 0.5992\n",
      "Epoch 57/60\n",
      "9051/9051 [==============================] - 9s 1ms/step - loss: 0.2819 - acc: 0.9094 - val_loss: 1.8391 - val_acc: 0.5882\n",
      "Epoch 58/60\n",
      "9051/9051 [==============================] - 9s 1ms/step - loss: 0.2831 - acc: 0.9111 - val_loss: 1.8608 - val_acc: 0.5996\n",
      "Epoch 59/60\n",
      "9051/9051 [==============================] - 9s 1ms/step - loss: 0.2780 - acc: 0.9118 - val_loss: 1.8484 - val_acc: 0.6054\n",
      "Epoch 60/60\n",
      "9051/9051 [==============================] - 9s 1ms/step - loss: 0.2801 - acc: 0.9167 - val_loss: 1.8245 - val_acc: 0.6041\n"
     ]
    },
    {
     "name": "stdout",
     "output_type": "stream",
     "text": [
      "Wall time: 9min 6s\n"
     ]
    }
   ],
   "source": [
    "%%time\n",
    "history = text_cnn.fit(X_train_dl, y_train_dl, validation_data=(X_val_dl, y_val_dl), epochs=60, batch_size=128)"
   ]
  },
  {
   "cell_type": "code",
   "execution_count": 125,
   "metadata": {},
   "outputs": [
    {
     "name": "stderr",
     "output_type": "stream",
     "text": [
      "D:\\install\\Anaconda3\\envs\\mlnd_capstone\\lib\\site-packages\\matplotlib\\figure.py:418: UserWarning: matplotlib is currently using a non-GUI backend, so cannot show the figure\n",
      "  \"matplotlib is currently using a non-GUI backend, \"\n"
     ]
    },
    {
     "data": {
      "image/png": "[encoded data removed]",
      "text/plain": [
       "<matplotlib.figure.Figure at 0x1caef330b38>"
      ]
     },
     "metadata": {},
     "output_type": "display_data"
    }
   ],
   "source": [
    "plot_keras_history(history.history)"
   ]
  },
  {
   "cell_type": "code",
   "execution_count": 115,
   "metadata": {},
   "outputs": [
    {
     "name": "stdout",
     "output_type": "stream",
     "text": [
      "7532/7532 [==============================] - 2s 256us/step\n"
     ]
    }
   ],
   "source": [
    "score = text_cnn.evaluate(X_test_dl, y_test_dl, batch_size=128)"
   ]
  },
  {
   "cell_type": "code",
   "execution_count": 116,
   "metadata": {},
   "outputs": [
    {
     "name": "stdout",
     "output_type": "stream",
     "text": [
      "['loss', 'acc']\n",
      "[2.0315647367081362, 0.56771109946788278]\n"
     ]
    }
   ],
   "source": [
    "print(text_cnn.metrics_names)\n",
    "print(score)"
   ]
  },
  {
   "cell_type": "markdown",
   "metadata": {},
   "source": [
    "## Text8 word2vec text CNN"
   ]
  },
  {
   "cell_type": "code",
   "execution_count": 127,
   "metadata": {},
   "outputs": [
    {
     "name": "stderr",
     "output_type": "stream",
     "text": [
      "D:\\install\\Anaconda3\\envs\\mlnd_capstone\\lib\\site-packages\\ipykernel_launcher.py:26: UserWarning: The `Merge` layer is deprecated and will be removed after 08/2017. Use instead layers from `keras.layers.merge`, e.g. `add`, `concatenate`, etc.\n"
     ]
    },
    {
     "name": "stdout",
     "output_type": "stream",
     "text": [
      "Train on 9051 samples, validate on 2263 samples\n",
      "Epoch 1/40\n",
      "9051/9051 [==============================] - 9s 1ms/step - loss: 3.9412 - acc: 0.0517 - val_loss: 2.9960 - val_acc: 0.0561\n",
      "Epoch 2/40\n",
      "9051/9051 [==============================] - 9s 979us/step - loss: 3.0018 - acc: 0.0506 - val_loss: 2.9911 - val_acc: 0.0544\n",
      "Epoch 3/40\n",
      "9051/9051 [==============================] - 9s 983us/step - loss: 2.9866 - acc: 0.0547 - val_loss: 2.9767 - val_acc: 0.0601\n",
      "Epoch 4/40\n",
      "9051/9051 [==============================] - 9s 985us/step - loss: 2.9791 - acc: 0.0570 - val_loss: 2.9671 - val_acc: 0.0734\n",
      "Epoch 5/40\n",
      "9051/9051 [==============================] - 9s 984us/step - loss: 2.9608 - acc: 0.0689 - val_loss: 2.9592 - val_acc: 0.0751\n",
      "Epoch 6/40\n",
      "9051/9051 [==============================] - 9s 984us/step - loss: 2.9360 - acc: 0.0719 - val_loss: 2.9580 - val_acc: 0.0738\n",
      "Epoch 7/40\n",
      "9051/9051 [==============================] - 9s 987us/step - loss: 2.9291 - acc: 0.0715 - val_loss: 2.8296 - val_acc: 0.0999\n",
      "Epoch 8/40\n",
      "9051/9051 [==============================] - 9s 987us/step - loss: 2.8750 - acc: 0.0762 - val_loss: 2.7693 - val_acc: 0.0968\n",
      "Epoch 9/40\n",
      "9051/9051 [==============================] - 9s 988us/step - loss: 2.8343 - acc: 0.0842 - val_loss: 2.7816 - val_acc: 0.1149\n",
      "Epoch 10/40\n",
      "9051/9051 [==============================] - 9s 990us/step - loss: 2.8105 - acc: 0.0914 - val_loss: 2.6985 - val_acc: 0.1330\n",
      "Epoch 11/40\n",
      "9051/9051 [==============================] - 9s 990us/step - loss: 2.7887 - acc: 0.0936 - val_loss: 2.7192 - val_acc: 0.1158\n",
      "Epoch 12/40\n",
      "9051/9051 [==============================] - 9s 989us/step - loss: 2.7857 - acc: 0.0970 - val_loss: 2.6817 - val_acc: 0.1131\n",
      "Epoch 13/40\n",
      "9051/9051 [==============================] - 9s 993us/step - loss: 2.7528 - acc: 0.1023 - val_loss: 2.6674 - val_acc: 0.1317\n",
      "Epoch 14/40\n",
      "9051/9051 [==============================] - 9s 989us/step - loss: 2.7333 - acc: 0.1100 - val_loss: 2.6795 - val_acc: 0.1237\n",
      "Epoch 15/40\n",
      "9051/9051 [==============================] - 9s 991us/step - loss: 2.7176 - acc: 0.1085 - val_loss: 2.6302 - val_acc: 0.1251\n",
      "Epoch 16/40\n",
      "9051/9051 [==============================] - 9s 992us/step - loss: 2.6953 - acc: 0.1137 - val_loss: 2.6347 - val_acc: 0.1348\n",
      "Epoch 17/40\n",
      "9051/9051 [==============================] - 9s 991us/step - loss: 2.6868 - acc: 0.1173 - val_loss: 2.6209 - val_acc: 0.1299\n",
      "Epoch 18/40\n",
      "9051/9051 [==============================] - 9s 994us/step - loss: 2.6682 - acc: 0.1174 - val_loss: 2.6258 - val_acc: 0.1441\n",
      "Epoch 19/40\n",
      "9051/9051 [==============================] - 9s 992us/step - loss: 2.6559 - acc: 0.1262 - val_loss: 2.6227 - val_acc: 0.1330\n",
      "Epoch 20/40\n",
      "9051/9051 [==============================] - 9s 992us/step - loss: 2.6377 - acc: 0.1240 - val_loss: 2.5910 - val_acc: 0.1343\n",
      "Epoch 21/40\n",
      "9051/9051 [==============================] - 9s 994us/step - loss: 2.6215 - acc: 0.1267 - val_loss: 2.6042 - val_acc: 0.1330\n",
      "Epoch 22/40\n",
      "9051/9051 [==============================] - 9s 993us/step - loss: 2.6311 - acc: 0.1258 - val_loss: 2.5833 - val_acc: 0.1432\n",
      "Epoch 23/40\n",
      "9051/9051 [==============================] - 9s 992us/step - loss: 2.5969 - acc: 0.1310 - val_loss: 2.6119 - val_acc: 0.1441\n",
      "Epoch 24/40\n",
      "9051/9051 [==============================] - 9s 1000us/step - loss: 2.5727 - acc: 0.1367 - val_loss: 2.5608 - val_acc: 0.1551\n",
      "Epoch 25/40\n",
      "9051/9051 [==============================] - 9s 995us/step - loss: 2.5522 - acc: 0.1419 - val_loss: 2.5796 - val_acc: 0.1471\n",
      "Epoch 26/40\n",
      "9051/9051 [==============================] - 9s 995us/step - loss: 2.5249 - acc: 0.1501 - val_loss: 2.5451 - val_acc: 0.1533\n",
      "Epoch 27/40\n",
      "9051/9051 [==============================] - 9s 995us/step - loss: 2.5085 - acc: 0.1540 - val_loss: 2.5470 - val_acc: 0.1768\n",
      "Epoch 28/40\n",
      "9051/9051 [==============================] - 9s 996us/step - loss: 2.5109 - acc: 0.1537 - val_loss: 2.5082 - val_acc: 0.1635\n",
      "Epoch 29/40\n",
      "9051/9051 [==============================] - 9s 994us/step - loss: 2.4755 - acc: 0.1632 - val_loss: 2.4702 - val_acc: 0.1794\n",
      "Epoch 30/40\n",
      "9051/9051 [==============================] - 9s 996us/step - loss: 2.4478 - acc: 0.1714 - val_loss: 2.4553 - val_acc: 0.1953\n",
      "Epoch 31/40\n",
      "9051/9051 [==============================] - 9s 997us/step - loss: 2.4139 - acc: 0.1856 - val_loss: 2.4399 - val_acc: 0.1922\n",
      "Epoch 32/40\n",
      "9051/9051 [==============================] - 9s 993us/step - loss: 2.3947 - acc: 0.1801 - val_loss: 2.4331 - val_acc: 0.2046\n",
      "Epoch 33/40\n",
      "9051/9051 [==============================] - 9s 996us/step - loss: 2.3741 - acc: 0.1850 - val_loss: 2.4150 - val_acc: 0.2090\n",
      "Epoch 34/40\n",
      "9051/9051 [==============================] - 9s 996us/step - loss: 2.3587 - acc: 0.1938 - val_loss: 2.4155 - val_acc: 0.2121\n",
      "Epoch 35/40\n",
      "9051/9051 [==============================] - 9s 996us/step - loss: 2.3203 - acc: 0.2008 - val_loss: 2.3575 - val_acc: 0.2090\n",
      "Epoch 36/40\n",
      "9051/9051 [==============================] - 9s 999us/step - loss: 2.3428 - acc: 0.1985 - val_loss: 2.3547 - val_acc: 0.1900\n",
      "Epoch 37/40\n",
      "9051/9051 [==============================] - 9s 997us/step - loss: 2.3150 - acc: 0.1999 - val_loss: 2.3568 - val_acc: 0.2196\n",
      "Epoch 38/40\n",
      "9051/9051 [==============================] - 9s 997us/step - loss: 2.2818 - acc: 0.2088 - val_loss: 2.3944 - val_acc: 0.2130\n",
      "Epoch 39/40\n",
      "9051/9051 [==============================] - 9s 995us/step - loss: 2.2678 - acc: 0.2091 - val_loss: 2.3870 - val_acc: 0.2099\n",
      "Epoch 40/40\n",
      "9051/9051 [==============================] - 9s 999us/step - loss: 2.2752 - acc: 0.2119 - val_loss: 2.3422 - val_acc: 0.2170\n",
      "7532/7532 [==============================] - 2s 242us/step\n",
      "[2.3844928354009061, 0.20751460451302348]\n"
     ]
    }
   ],
   "source": [
    "text_cnn_text8 = TextCNN(build_embedding_matrix(wv_text8.wv, vectorizer.word_index, num_words, EMBEDDING_DIM, True),\n",
    "                         MAX_SEQUENCE_LENGTH, num_words, EMBEDDING_DIM, len(newsgroups_target_names), False)\n",
    "history = text_cnn_text8.fit(X_train_dl, y_train_dl, validation_data=(X_val_dl, y_val_dl), epochs=40, batch_size=128)\n",
    "print(text_cnn_text8.evaluate(X_test_dl, y_test_dl, batch_size=128))"
   ]
  },
  {
   "cell_type": "code",
   "execution_count": 146,
   "metadata": {},
   "outputs": [
    {
     "name": "stdout",
     "output_type": "stream",
     "text": [
      "Train on 9051 samples, validate on 2263 samples\n",
      "Epoch 1/100\n",
      "9051/9051 [==============================] - 9s 988us/step - loss: 2.2598 - acc: 0.2175 - val_loss: 2.3577 - val_acc: 0.2236\n",
      "Epoch 2/100\n",
      "9051/9051 [==============================] - 9s 987us/step - loss: 2.2427 - acc: 0.2153 - val_loss: 2.3493 - val_acc: 0.2099\n",
      "Epoch 3/100\n",
      "9051/9051 [==============================] - 9s 990us/step - loss: 2.2333 - acc: 0.2170 - val_loss: 2.3522 - val_acc: 0.2037\n",
      "Epoch 4/100\n",
      "9051/9051 [==============================] - 9s 991us/step - loss: 2.2217 - acc: 0.2228 - val_loss: 2.3427 - val_acc: 0.2143\n",
      "Epoch 5/100\n",
      "9051/9051 [==============================] - 9s 992us/step - loss: 2.2063 - acc: 0.2245 - val_loss: 2.3435 - val_acc: 0.2258\n",
      "Epoch 6/100\n",
      "9051/9051 [==============================] - 9s 992us/step - loss: 2.1936 - acc: 0.2230 - val_loss: 2.3244 - val_acc: 0.2209\n",
      "Epoch 7/100\n",
      "9051/9051 [==============================] - 9s 992us/step - loss: 2.1875 - acc: 0.2333 - val_loss: 2.3324 - val_acc: 0.1962\n",
      "Epoch 8/100\n",
      "9051/9051 [==============================] - 9s 993us/step - loss: 2.1931 - acc: 0.2320 - val_loss: 2.3910 - val_acc: 0.2174\n",
      "Epoch 9/100\n",
      "9051/9051 [==============================] - 9s 993us/step - loss: 2.1896 - acc: 0.2377 - val_loss: 2.3718 - val_acc: 0.2156\n",
      "Epoch 10/100\n",
      "9051/9051 [==============================] - 9s 994us/step - loss: 2.1519 - acc: 0.2406 - val_loss: 2.3294 - val_acc: 0.2413\n",
      "Epoch 11/100\n",
      "9051/9051 [==============================] - 9s 994us/step - loss: 2.1510 - acc: 0.2389 - val_loss: 2.3403 - val_acc: 0.2329\n",
      "Epoch 12/100\n",
      "9051/9051 [==============================] - 9s 994us/step - loss: 2.1287 - acc: 0.2428 - val_loss: 2.3291 - val_acc: 0.2254\n",
      "Epoch 13/100\n",
      "9051/9051 [==============================] - 9s 996us/step - loss: 2.1106 - acc: 0.2490 - val_loss: 2.3945 - val_acc: 0.2165\n",
      "Epoch 14/100\n",
      "9051/9051 [==============================] - 9s 994us/step - loss: 2.1070 - acc: 0.2502 - val_loss: 2.3335 - val_acc: 0.2311\n",
      "Epoch 15/100\n",
      "9051/9051 [==============================] - 9s 999us/step - loss: 2.0926 - acc: 0.2538 - val_loss: 2.3317 - val_acc: 0.2408\n",
      "Epoch 16/100\n",
      "9051/9051 [==============================] - 9s 999us/step - loss: 2.0806 - acc: 0.2567 - val_loss: 2.3401 - val_acc: 0.2280\n",
      "Epoch 17/100\n",
      "9051/9051 [==============================] - 9s 998us/step - loss: 2.0788 - acc: 0.2607 - val_loss: 2.3437 - val_acc: 0.2117\n",
      "Epoch 18/100\n",
      "9051/9051 [==============================] - 9s 998us/step - loss: 2.0782 - acc: 0.2604 - val_loss: 2.3306 - val_acc: 0.2346\n",
      "Epoch 19/100\n",
      "9051/9051 [==============================] - 9s 998us/step - loss: 2.0931 - acc: 0.2593 - val_loss: 2.3980 - val_acc: 0.2187\n",
      "Epoch 20/100\n",
      "9051/9051 [==============================] - 9s 997us/step - loss: 2.0420 - acc: 0.2688 - val_loss: 2.3042 - val_acc: 0.2311\n",
      "Epoch 21/100\n",
      "9051/9051 [==============================] - 9s 995us/step - loss: 2.0315 - acc: 0.2625 - val_loss: 2.3148 - val_acc: 0.2324\n",
      "Epoch 22/100\n",
      "9051/9051 [==============================] - 9s 996us/step - loss: 2.0313 - acc: 0.2739 - val_loss: 2.3126 - val_acc: 0.2360\n",
      "Epoch 23/100\n",
      "9051/9051 [==============================] - 9s 998us/step - loss: 2.0423 - acc: 0.2739 - val_loss: 2.3635 - val_acc: 0.2461\n",
      "Epoch 24/100\n",
      "9051/9051 [==============================] - 9s 999us/step - loss: 2.0506 - acc: 0.2714 - val_loss: 2.4159 - val_acc: 0.2355\n",
      "Epoch 25/100\n",
      "9051/9051 [==============================] - 9s 999us/step - loss: 2.0061 - acc: 0.2810 - val_loss: 2.3388 - val_acc: 0.2607\n",
      "Epoch 26/100\n",
      "9051/9051 [==============================] - 9s 998us/step - loss: 2.0079 - acc: 0.2810 - val_loss: 2.3217 - val_acc: 0.2492\n",
      "Epoch 27/100\n",
      "9051/9051 [==============================] - 9s 996us/step - loss: 1.9945 - acc: 0.2881 - val_loss: 2.3382 - val_acc: 0.2422\n",
      "Epoch 28/100\n",
      "9051/9051 [==============================] - 9s 1ms/step - loss: 2.0021 - acc: 0.2836 - val_loss: 2.3577 - val_acc: 0.2536\n",
      "Epoch 29/100\n",
      "9051/9051 [==============================] - 9s 1000us/step - loss: 1.9918 - acc: 0.2875 - val_loss: 2.2991 - val_acc: 0.2572\n",
      "Epoch 30/100\n",
      "9051/9051 [==============================] - 9s 1000us/step - loss: 1.9907 - acc: 0.2867 - val_loss: 2.3650 - val_acc: 0.2457\n",
      "Epoch 31/100\n",
      "9051/9051 [==============================] - 9s 999us/step - loss: 1.9642 - acc: 0.2999 - val_loss: 2.3685 - val_acc: 0.2364\n",
      "Epoch 32/100\n",
      "9051/9051 [==============================] - 9s 997us/step - loss: 1.9427 - acc: 0.2967 - val_loss: 2.3148 - val_acc: 0.2607\n",
      "Epoch 33/100\n",
      "9051/9051 [==============================] - 9s 999us/step - loss: 1.9438 - acc: 0.3022 - val_loss: 2.3866 - val_acc: 0.2554\n",
      "Epoch 34/100\n",
      "9051/9051 [==============================] - 9s 1ms/step - loss: 1.9555 - acc: 0.2937 - val_loss: 2.3817 - val_acc: 0.2603\n",
      "Epoch 35/100\n",
      "9051/9051 [==============================] - 9s 997us/step - loss: 1.9405 - acc: 0.2960 - val_loss: 2.3196 - val_acc: 0.2532\n",
      "Epoch 36/100\n",
      "9051/9051 [==============================] - 9s 998us/step - loss: 1.9342 - acc: 0.3052 - val_loss: 2.3110 - val_acc: 0.2581\n",
      "Epoch 37/100\n",
      "9051/9051 [==============================] - 9s 998us/step - loss: 1.9179 - acc: 0.3032 - val_loss: 2.2996 - val_acc: 0.2413\n",
      "Epoch 38/100\n",
      "9051/9051 [==============================] - 9s 1000us/step - loss: 1.9425 - acc: 0.3087 - val_loss: 2.3187 - val_acc: 0.2581\n",
      "Epoch 39/100\n",
      "9051/9051 [==============================] - 9s 1ms/step - loss: 1.9087 - acc: 0.3123 - val_loss: 2.3377 - val_acc: 0.2660\n",
      "Epoch 40/100\n",
      "9051/9051 [==============================] - 9s 998us/step - loss: 1.8954 - acc: 0.3090 - val_loss: 2.3435 - val_acc: 0.2709\n",
      "Epoch 41/100\n",
      "9051/9051 [==============================] - 9s 998us/step - loss: 1.9039 - acc: 0.3067 - val_loss: 2.3550 - val_acc: 0.2563\n",
      "Epoch 42/100\n",
      "9051/9051 [==============================] - 9s 998us/step - loss: 1.8716 - acc: 0.3181 - val_loss: 2.2841 - val_acc: 0.2691\n",
      "Epoch 43/100\n",
      "9051/9051 [==============================] - 9s 998us/step - loss: 1.8866 - acc: 0.3160 - val_loss: 2.2953 - val_acc: 0.2784\n",
      "Epoch 44/100\n",
      "9051/9051 [==============================] - 9s 998us/step - loss: 1.8621 - acc: 0.3246 - val_loss: 2.2800 - val_acc: 0.2656\n",
      "Epoch 45/100\n",
      "9051/9051 [==============================] - 9s 998us/step - loss: 1.8762 - acc: 0.3208 - val_loss: 2.3497 - val_acc: 0.2598\n",
      "Epoch 46/100\n",
      "9051/9051 [==============================] - 9s 997us/step - loss: 1.8538 - acc: 0.3309 - val_loss: 2.3025 - val_acc: 0.2775\n",
      "Epoch 47/100\n",
      "9051/9051 [==============================] - 9s 998us/step - loss: 1.8484 - acc: 0.3324 - val_loss: 2.3441 - val_acc: 0.2669\n",
      "Epoch 48/100\n",
      "9051/9051 [==============================] - 9s 1000us/step - loss: 1.8448 - acc: 0.3341 - val_loss: 2.2897 - val_acc: 0.2802\n",
      "Epoch 49/100\n",
      "9051/9051 [==============================] - 9s 1000us/step - loss: 1.8677 - acc: 0.3375 - val_loss: 2.3039 - val_acc: 0.2863\n",
      "Epoch 50/100\n",
      "9051/9051 [==============================] - 9s 998us/step - loss: 1.8303 - acc: 0.3372 - val_loss: 2.2890 - val_acc: 0.2722\n",
      "Epoch 51/100\n",
      "9051/9051 [==============================] - 9s 997us/step - loss: 1.8125 - acc: 0.3391 - val_loss: 2.3504 - val_acc: 0.2744\n",
      "Epoch 52/100\n",
      "9051/9051 [==============================] - 9s 999us/step - loss: 1.8546 - acc: 0.3355 - val_loss: 2.3537 - val_acc: 0.2709\n",
      "Epoch 53/100\n",
      "9051/9051 [==============================] - 9s 999us/step - loss: 1.8306 - acc: 0.3404 - val_loss: 2.2854 - val_acc: 0.2691\n",
      "Epoch 54/100\n",
      "9051/9051 [==============================] - 9s 999us/step - loss: 1.7943 - acc: 0.3399 - val_loss: 2.3166 - val_acc: 0.2788\n",
      "Epoch 55/100\n",
      "9051/9051 [==============================] - 9s 999us/step - loss: 1.7958 - acc: 0.3560 - val_loss: 2.3286 - val_acc: 0.2784\n",
      "Epoch 56/100\n",
      "9051/9051 [==============================] - 9s 998us/step - loss: 1.7759 - acc: 0.3488 - val_loss: 2.2904 - val_acc: 0.2837\n",
      "Epoch 57/100\n",
      "9051/9051 [==============================] - 9s 1ms/step - loss: 1.8209 - acc: 0.3491 - val_loss: 2.2935 - val_acc: 0.2740\n",
      "Epoch 58/100\n",
      "9051/9051 [==============================] - 9s 999us/step - loss: 1.7630 - acc: 0.3530 - val_loss: 2.3161 - val_acc: 0.2691\n",
      "Epoch 59/100\n",
      "9051/9051 [==============================] - 9s 1ms/step - loss: 1.7618 - acc: 0.3640 - val_loss: 2.3624 - val_acc: 0.2810\n",
      "Epoch 60/100\n"
     ]
    },
    {
     "name": "stdout",
     "output_type": "stream",
     "text": [
      "9051/9051 [==============================] - 9s 1000us/step - loss: 1.7709 - acc: 0.3607 - val_loss: 2.3087 - val_acc: 0.2824\n",
      "Epoch 61/100\n",
      "9051/9051 [==============================] - 9s 998us/step - loss: 1.7600 - acc: 0.3676 - val_loss: 2.3119 - val_acc: 0.2863\n",
      "Epoch 62/100\n",
      "9051/9051 [==============================] - 9s 998us/step - loss: 1.7781 - acc: 0.3597 - val_loss: 2.2718 - val_acc: 0.2806\n",
      "Epoch 63/100\n",
      "9051/9051 [==============================] - 9s 998us/step - loss: 1.7489 - acc: 0.3646 - val_loss: 2.3417 - val_acc: 0.2983\n",
      "Epoch 64/100\n",
      "9051/9051 [==============================] - 9s 999us/step - loss: 1.7367 - acc: 0.3682 - val_loss: 2.2967 - val_acc: 0.2824\n",
      "Epoch 65/100\n",
      "9051/9051 [==============================] - 9s 998us/step - loss: 1.7543 - acc: 0.3682 - val_loss: 2.2825 - val_acc: 0.3142\n",
      "Epoch 66/100\n",
      "9051/9051 [==============================] - 9s 1000us/step - loss: 1.7413 - acc: 0.3664 - val_loss: 2.3480 - val_acc: 0.2987\n",
      "Epoch 67/100\n",
      "9051/9051 [==============================] - 9s 1ms/step - loss: 1.7269 - acc: 0.3684 - val_loss: 2.3625 - val_acc: 0.2784\n",
      "Epoch 68/100\n",
      "9051/9051 [==============================] - 9s 997us/step - loss: 1.7156 - acc: 0.3794 - val_loss: 2.3024 - val_acc: 0.2912\n",
      "Epoch 69/100\n",
      "9051/9051 [==============================] - 9s 999us/step - loss: 1.7385 - acc: 0.3744 - val_loss: 2.2717 - val_acc: 0.3080\n",
      "Epoch 70/100\n",
      "9051/9051 [==============================] - 9s 999us/step - loss: 1.6953 - acc: 0.3805 - val_loss: 2.3469 - val_acc: 0.3129\n",
      "Epoch 71/100\n",
      "9051/9051 [==============================] - 9s 997us/step - loss: 1.7176 - acc: 0.3878 - val_loss: 2.2885 - val_acc: 0.3137\n",
      "Epoch 72/100\n",
      "9051/9051 [==============================] - 9s 998us/step - loss: 1.7012 - acc: 0.3798 - val_loss: 2.2261 - val_acc: 0.3005\n",
      "Epoch 73/100\n",
      "9051/9051 [==============================] - 9s 998us/step - loss: 1.6973 - acc: 0.3827 - val_loss: 2.2487 - val_acc: 0.3190\n",
      "Epoch 74/100\n",
      "9051/9051 [==============================] - 9s 999us/step - loss: 1.6953 - acc: 0.3895 - val_loss: 2.2884 - val_acc: 0.3102\n",
      "Epoch 75/100\n",
      "9051/9051 [==============================] - 9s 998us/step - loss: 1.7248 - acc: 0.3781 - val_loss: 2.3529 - val_acc: 0.3239\n",
      "Epoch 76/100\n",
      "9051/9051 [==============================] - 9s 999us/step - loss: 1.6810 - acc: 0.3922 - val_loss: 2.3342 - val_acc: 0.3190\n",
      "Epoch 77/100\n",
      "9051/9051 [==============================] - 9s 998us/step - loss: 1.6822 - acc: 0.3932 - val_loss: 2.2743 - val_acc: 0.3164\n",
      "Epoch 78/100\n",
      "9051/9051 [==============================] - 9s 1ms/step - loss: 1.6779 - acc: 0.3989 - val_loss: 2.2977 - val_acc: 0.3319\n",
      "Epoch 79/100\n",
      "9051/9051 [==============================] - 9s 998us/step - loss: 1.6593 - acc: 0.3981 - val_loss: 2.3213 - val_acc: 0.3261\n",
      "Epoch 80/100\n",
      "9051/9051 [==============================] - 9s 998us/step - loss: 1.6706 - acc: 0.3994 - val_loss: 2.3074 - val_acc: 0.3385\n",
      "Epoch 81/100\n",
      "9051/9051 [==============================] - 9s 1000us/step - loss: 1.6567 - acc: 0.4051 - val_loss: 2.3050 - val_acc: 0.3292\n",
      "Epoch 82/100\n",
      "9051/9051 [==============================] - 9s 999us/step - loss: 1.6277 - acc: 0.4138 - val_loss: 2.3188 - val_acc: 0.3195\n",
      "Epoch 83/100\n",
      "9051/9051 [==============================] - 9s 1000us/step - loss: 1.6660 - acc: 0.4023 - val_loss: 2.2741 - val_acc: 0.3208\n",
      "Epoch 84/100\n",
      "9051/9051 [==============================] - 9s 1ms/step - loss: 1.6383 - acc: 0.4088 - val_loss: 2.2144 - val_acc: 0.3177\n",
      "Epoch 85/100\n",
      "9051/9051 [==============================] - 9s 1000us/step - loss: 1.6239 - acc: 0.4117 - val_loss: 2.2200 - val_acc: 0.3266\n",
      "Epoch 86/100\n",
      "9051/9051 [==============================] - 9s 997us/step - loss: 1.6142 - acc: 0.4248 - val_loss: 2.2629 - val_acc: 0.3213\n",
      "Epoch 87/100\n",
      "9051/9051 [==============================] - 9s 1000us/step - loss: 1.6104 - acc: 0.4158 - val_loss: 2.1935 - val_acc: 0.3323\n",
      "Epoch 88/100\n",
      "9051/9051 [==============================] - 9s 998us/step - loss: 1.6164 - acc: 0.4188 - val_loss: 2.2371 - val_acc: 0.3398\n",
      "Epoch 89/100\n",
      "9051/9051 [==============================] - 9s 999us/step - loss: 1.6057 - acc: 0.4266 - val_loss: 2.2645 - val_acc: 0.3270\n",
      "Epoch 90/100\n",
      "9051/9051 [==============================] - 9s 999us/step - loss: 1.6181 - acc: 0.4174 - val_loss: 2.2795 - val_acc: 0.3297\n",
      "Epoch 91/100\n",
      "9051/9051 [==============================] - 9s 997us/step - loss: 1.5904 - acc: 0.4260 - val_loss: 2.2135 - val_acc: 0.3226\n",
      "Epoch 92/100\n",
      "9051/9051 [==============================] - 9s 1000us/step - loss: 1.5805 - acc: 0.4298 - val_loss: 2.2185 - val_acc: 0.3248\n",
      "Epoch 93/100\n",
      "9051/9051 [==============================] - 9s 999us/step - loss: 1.5813 - acc: 0.4376 - val_loss: 2.2724 - val_acc: 0.3266\n",
      "Epoch 94/100\n",
      "9051/9051 [==============================] - 9s 998us/step - loss: 1.5660 - acc: 0.4366 - val_loss: 2.2715 - val_acc: 0.3182\n",
      "Epoch 95/100\n",
      "9051/9051 [==============================] - 9s 999us/step - loss: 1.5727 - acc: 0.4334 - val_loss: 2.2913 - val_acc: 0.3363\n",
      "Epoch 96/100\n",
      "9051/9051 [==============================] - 9s 1ms/step - loss: 1.5650 - acc: 0.4385 - val_loss: 2.2490 - val_acc: 0.3456\n",
      "Epoch 97/100\n",
      "9051/9051 [==============================] - 9s 1000us/step - loss: 1.5818 - acc: 0.4313 - val_loss: 2.2294 - val_acc: 0.3376\n",
      "Epoch 98/100\n",
      "9051/9051 [==============================] - 9s 1000us/step - loss: 1.5730 - acc: 0.4339 - val_loss: 2.3187 - val_acc: 0.3411\n",
      "Epoch 99/100\n",
      "9051/9051 [==============================] - 9s 999us/step - loss: 1.5370 - acc: 0.4502 - val_loss: 2.2826 - val_acc: 0.3411\n",
      "Epoch 100/100\n",
      "9051/9051 [==============================] - 9s 999us/step - loss: 1.5485 - acc: 0.4407 - val_loss: 2.3380 - val_acc: 0.3389\n",
      "7532/7532 [==============================] - 2s 243us/step\n",
      "[2.4655439949896634, 0.30589484902562702]\n"
     ]
    }
   ],
   "source": [
    "history = text_cnn_text8.fit(X_train_dl, y_train_dl, validation_data=(X_val_dl, y_val_dl), epochs=100, batch_size=128)\n",
    "print(text_cnn_text8.evaluate(X_test_dl, y_test_dl, batch_size=128))"
   ]
  },
  {
   "cell_type": "code",
   "execution_count": 147,
   "metadata": {},
   "outputs": [
    {
     "name": "stderr",
     "output_type": "stream",
     "text": [
      "D:\\install\\Anaconda3\\envs\\mlnd_capstone\\lib\\site-packages\\matplotlib\\figure.py:418: UserWarning: matplotlib is currently using a non-GUI backend, so cannot show the figure\n",
      "  \"matplotlib is currently using a non-GUI backend, \"\n"
     ]
    },
    {
     "data": {
      "image/png": "[encoded data removed]",
      "text/plain": [
       "<matplotlib.figure.Figure at 0x1cc59448a90>"
      ]
     },
     "metadata": {},
     "output_type": "display_data"
    }
   ],
   "source": [
    "plot_keras_history(history.history)"
   ]
  },
  {
   "cell_type": "markdown",
   "metadata": {},
   "source": [
    "## C-LSTM"
   ]
  },
  {
   "cell_type": "code",
   "execution_count": 129,
   "metadata": {},
   "outputs": [],
   "source": [
    " def Lstm(embeddings, max_sequence_length, num_words, embedding_dim, labels_index):\n",
    "    model = Sequential()\n",
    "    model.add(Embedding(num_words+1,\n",
    "                        embedding_dim,\n",
    "                        input_length=max_sequence_length,\n",
    "                        trainable=True))\n",
    "    model.add(Convolution1D(256, 3, padding='same', strides = 1))\n",
    "    model.add(Activation('relu'))\n",
    "    model.add(MaxPool1D(pool_size=2))\n",
    "    model.add(GRU(256, dropout=0.2, recurrent_dropout=0.1, return_sequences = True))\n",
    "    model.add(GRU(256, dropout=0.2, recurrent_dropout=0.1))\n",
    "    model.add(Dense(labels_index, activation='softmax'))\n",
    "\n",
    "    model.compile(loss='categorical_crossentropy',\n",
    "                  optimizer='adam',\n",
    "                  metrics=['acc'])\n",
    "    return model"
   ]
  },
  {
   "cell_type": "code",
   "execution_count": 130,
   "metadata": {},
   "outputs": [],
   "source": [
    "lstm = Lstm(embedding_matrix, MAX_SEQUENCE_LENGTH, num_words, EMBEDDING_DIM, len(newsgroups_target_names))"
   ]
  },
  {
   "cell_type": "code",
   "execution_count": 131,
   "metadata": {},
   "outputs": [
    {
     "name": "stdout",
     "output_type": "stream",
     "text": [
      "_________________________________________________________________\n",
      "Layer (type)                 Output Shape              Param #   \n",
      "=================================================================\n",
      "embedding_3 (Embedding)      (None, 1000, 100)         2000100   \n",
      "_________________________________________________________________\n",
      "conv1d_9 (Conv1D)            (None, 1000, 256)         77056     \n",
      "_________________________________________________________________\n",
      "activation_1 (Activation)    (None, 1000, 256)         0         \n",
      "_________________________________________________________________\n",
      "max_pooling1d_9 (MaxPooling1 (None, 500, 256)          0         \n",
      "_________________________________________________________________\n",
      "gru_1 (GRU)                  (None, 500, 256)          393984    \n",
      "_________________________________________________________________\n",
      "gru_2 (GRU)                  (None, 256)               393984    \n",
      "_________________________________________________________________\n",
      "dense_5 (Dense)              (None, 20)                5140      \n",
      "=================================================================\n",
      "Total params: 2,870,264\n",
      "Trainable params: 2,870,264\n",
      "Non-trainable params: 0\n",
      "_________________________________________________________________\n"
     ]
    }
   ],
   "source": [
    "lstm.summary()"
   ]
  },
  {
   "cell_type": "code",
   "execution_count": 132,
   "metadata": {},
   "outputs": [
    {
     "name": "stdout",
     "output_type": "stream",
     "text": [
      "Train on 9051 samples, validate on 2263 samples\n",
      "Epoch 1/30\n",
      "9051/9051 [==============================] - 100s 11ms/step - loss: 2.8880 - acc: 0.0835 - val_loss: 2.5543 - val_acc: 0.1374\n",
      "Epoch 2/30\n",
      "9051/9051 [==============================] - 98s 11ms/step - loss: 2.0624 - acc: 0.2741 - val_loss: 1.6438 - val_acc: 0.4123\n",
      "Epoch 3/30\n",
      "9051/9051 [==============================] - 98s 11ms/step - loss: 1.1397 - acc: 0.5799 - val_loss: 1.0592 - val_acc: 0.6469\n",
      "Epoch 4/30\n",
      "9051/9051 [==============================] - 98s 11ms/step - loss: 0.5172 - acc: 0.8314 - val_loss: 0.8343 - val_acc: 0.7609\n",
      "Epoch 5/30\n",
      "9051/9051 [==============================] - 98s 11ms/step - loss: 0.2549 - acc: 0.9184 - val_loss: 0.8611 - val_acc: 0.7689\n",
      "Epoch 6/30\n",
      "9051/9051 [==============================] - 98s 11ms/step - loss: 0.1378 - acc: 0.9600 - val_loss: 0.8347 - val_acc: 0.8078\n",
      "Epoch 7/30\n",
      "9051/9051 [==============================] - 101s 11ms/step - loss: 0.0898 - acc: 0.9751 - val_loss: 0.8842 - val_acc: 0.8020\n",
      "Epoch 8/30\n",
      "9051/9051 [==============================] - 100s 11ms/step - loss: 0.0630 - acc: 0.9827 - val_loss: 0.8671 - val_acc: 0.8109\n",
      "Epoch 9/30\n",
      "9051/9051 [==============================] - 99s 11ms/step - loss: 0.0485 - acc: 0.9872 - val_loss: 0.9193 - val_acc: 0.8047\n",
      "Epoch 10/30\n",
      "9051/9051 [==============================] - 98s 11ms/step - loss: 0.0373 - acc: 0.9905 - val_loss: 0.9030 - val_acc: 0.8109\n",
      "Epoch 11/30\n",
      "8192/9051 [==========================>...] - ETA: 8s - loss: 0.0385 - acc: 0.9901 "
     ]
    },
    {
     "ename": "KeyboardInterrupt",
     "evalue": "",
     "output_type": "error",
     "traceback": [
      "\u001b[1;31m---------------------------------------------------------------------------\u001b[0m",
      "\u001b[1;31mKeyboardInterrupt\u001b[0m                         Traceback (most recent call last)",
      "\u001b[1;32m<timed exec>\u001b[0m in \u001b[0;36m<module>\u001b[1;34m()\u001b[0m\n",
      "\u001b[1;32mD:\\install\\Anaconda3\\envs\\mlnd_capstone\\lib\\site-packages\\keras\\models.py\u001b[0m in \u001b[0;36mfit\u001b[1;34m(self, x, y, batch_size, epochs, verbose, callbacks, validation_split, validation_data, shuffle, class_weight, sample_weight, initial_epoch, steps_per_epoch, validation_steps, **kwargs)\u001b[0m\n\u001b[0;32m    963\u001b[0m                               \u001b[0minitial_epoch\u001b[0m\u001b[1;33m=\u001b[0m\u001b[0minitial_epoch\u001b[0m\u001b[1;33m,\u001b[0m\u001b[1;33m\u001b[0m\u001b[0m\n\u001b[0;32m    964\u001b[0m                               \u001b[0msteps_per_epoch\u001b[0m\u001b[1;33m=\u001b[0m\u001b[0msteps_per_epoch\u001b[0m\u001b[1;33m,\u001b[0m\u001b[1;33m\u001b[0m\u001b[0m\n\u001b[1;32m--> 965\u001b[1;33m                               validation_steps=validation_steps)\n\u001b[0m\u001b[0;32m    966\u001b[0m \u001b[1;33m\u001b[0m\u001b[0m\n\u001b[0;32m    967\u001b[0m     def evaluate(self, x=None, y=None,\n",
      "\u001b[1;32mD:\\install\\Anaconda3\\envs\\mlnd_capstone\\lib\\site-packages\\keras\\engine\\training.py\u001b[0m in \u001b[0;36mfit\u001b[1;34m(self, x, y, batch_size, epochs, verbose, callbacks, validation_split, validation_data, shuffle, class_weight, sample_weight, initial_epoch, steps_per_epoch, validation_steps, **kwargs)\u001b[0m\n\u001b[0;32m   1667\u001b[0m                               \u001b[0minitial_epoch\u001b[0m\u001b[1;33m=\u001b[0m\u001b[0minitial_epoch\u001b[0m\u001b[1;33m,\u001b[0m\u001b[1;33m\u001b[0m\u001b[0m\n\u001b[0;32m   1668\u001b[0m                               \u001b[0msteps_per_epoch\u001b[0m\u001b[1;33m=\u001b[0m\u001b[0msteps_per_epoch\u001b[0m\u001b[1;33m,\u001b[0m\u001b[1;33m\u001b[0m\u001b[0m\n\u001b[1;32m-> 1669\u001b[1;33m                               validation_steps=validation_steps)\n\u001b[0m\u001b[0;32m   1670\u001b[0m \u001b[1;33m\u001b[0m\u001b[0m\n\u001b[0;32m   1671\u001b[0m     def evaluate(self, x=None, y=None,\n",
      "\u001b[1;32mD:\\install\\Anaconda3\\envs\\mlnd_capstone\\lib\\site-packages\\keras\\engine\\training.py\u001b[0m in \u001b[0;36m_fit_loop\u001b[1;34m(self, f, ins, out_labels, batch_size, epochs, verbose, callbacks, val_f, val_ins, shuffle, callback_metrics, initial_epoch, steps_per_epoch, validation_steps)\u001b[0m\n\u001b[0;32m   1204\u001b[0m                         \u001b[0mins_batch\u001b[0m\u001b[1;33m[\u001b[0m\u001b[0mi\u001b[0m\u001b[1;33m]\u001b[0m \u001b[1;33m=\u001b[0m \u001b[0mins_batch\u001b[0m\u001b[1;33m[\u001b[0m\u001b[0mi\u001b[0m\u001b[1;33m]\u001b[0m\u001b[1;33m.\u001b[0m\u001b[0mtoarray\u001b[0m\u001b[1;33m(\u001b[0m\u001b[1;33m)\u001b[0m\u001b[1;33m\u001b[0m\u001b[0m\n\u001b[0;32m   1205\u001b[0m \u001b[1;33m\u001b[0m\u001b[0m\n\u001b[1;32m-> 1206\u001b[1;33m                     \u001b[0mouts\u001b[0m \u001b[1;33m=\u001b[0m \u001b[0mf\u001b[0m\u001b[1;33m(\u001b[0m\u001b[0mins_batch\u001b[0m\u001b[1;33m)\u001b[0m\u001b[1;33m\u001b[0m\u001b[0m\n\u001b[0m\u001b[0;32m   1207\u001b[0m                     \u001b[1;32mif\u001b[0m \u001b[1;32mnot\u001b[0m \u001b[0misinstance\u001b[0m\u001b[1;33m(\u001b[0m\u001b[0mouts\u001b[0m\u001b[1;33m,\u001b[0m \u001b[0mlist\u001b[0m\u001b[1;33m)\u001b[0m\u001b[1;33m:\u001b[0m\u001b[1;33m\u001b[0m\u001b[0m\n\u001b[0;32m   1208\u001b[0m                         \u001b[0mouts\u001b[0m \u001b[1;33m=\u001b[0m \u001b[1;33m[\u001b[0m\u001b[0mouts\u001b[0m\u001b[1;33m]\u001b[0m\u001b[1;33m\u001b[0m\u001b[0m\n",
      "\u001b[1;32mD:\\install\\Anaconda3\\envs\\mlnd_capstone\\lib\\site-packages\\keras\\backend\\tensorflow_backend.py\u001b[0m in \u001b[0;36m__call__\u001b[1;34m(self, inputs)\u001b[0m\n\u001b[0;32m   2473\u001b[0m         \u001b[0msession\u001b[0m \u001b[1;33m=\u001b[0m \u001b[0mget_session\u001b[0m\u001b[1;33m(\u001b[0m\u001b[1;33m)\u001b[0m\u001b[1;33m\u001b[0m\u001b[0m\n\u001b[0;32m   2474\u001b[0m         updated = session.run(fetches=fetches, feed_dict=feed_dict,\n\u001b[1;32m-> 2475\u001b[1;33m                               **self.session_kwargs)\n\u001b[0m\u001b[0;32m   2476\u001b[0m         \u001b[1;32mreturn\u001b[0m \u001b[0mupdated\u001b[0m\u001b[1;33m[\u001b[0m\u001b[1;33m:\u001b[0m\u001b[0mlen\u001b[0m\u001b[1;33m(\u001b[0m\u001b[0mself\u001b[0m\u001b[1;33m.\u001b[0m\u001b[0moutputs\u001b[0m\u001b[1;33m)\u001b[0m\u001b[1;33m]\u001b[0m\u001b[1;33m\u001b[0m\u001b[0m\n\u001b[0;32m   2477\u001b[0m \u001b[1;33m\u001b[0m\u001b[0m\n",
      "\u001b[1;32mD:\\install\\Anaconda3\\envs\\mlnd_capstone\\lib\\site-packages\\tensorflow\\python\\client\\session.py\u001b[0m in \u001b[0;36mrun\u001b[1;34m(self, fetches, feed_dict, options, run_metadata)\u001b[0m\n\u001b[0;32m    776\u001b[0m     \u001b[1;32mtry\u001b[0m\u001b[1;33m:\u001b[0m\u001b[1;33m\u001b[0m\u001b[0m\n\u001b[0;32m    777\u001b[0m       result = self._run(None, fetches, feed_dict, options_ptr,\n\u001b[1;32m--> 778\u001b[1;33m                          run_metadata_ptr)\n\u001b[0m\u001b[0;32m    779\u001b[0m       \u001b[1;32mif\u001b[0m \u001b[0mrun_metadata\u001b[0m\u001b[1;33m:\u001b[0m\u001b[1;33m\u001b[0m\u001b[0m\n\u001b[0;32m    780\u001b[0m         \u001b[0mproto_data\u001b[0m \u001b[1;33m=\u001b[0m \u001b[0mtf_session\u001b[0m\u001b[1;33m.\u001b[0m\u001b[0mTF_GetBuffer\u001b[0m\u001b[1;33m(\u001b[0m\u001b[0mrun_metadata_ptr\u001b[0m\u001b[1;33m)\u001b[0m\u001b[1;33m\u001b[0m\u001b[0m\n",
      "\u001b[1;32mD:\\install\\Anaconda3\\envs\\mlnd_capstone\\lib\\site-packages\\tensorflow\\python\\client\\session.py\u001b[0m in \u001b[0;36m_run\u001b[1;34m(self, handle, fetches, feed_dict, options, run_metadata)\u001b[0m\n\u001b[0;32m    980\u001b[0m     \u001b[1;32mif\u001b[0m \u001b[0mfinal_fetches\u001b[0m \u001b[1;32mor\u001b[0m \u001b[0mfinal_targets\u001b[0m\u001b[1;33m:\u001b[0m\u001b[1;33m\u001b[0m\u001b[0m\n\u001b[0;32m    981\u001b[0m       results = self._do_run(handle, final_targets, final_fetches,\n\u001b[1;32m--> 982\u001b[1;33m                              feed_dict_string, options, run_metadata)\n\u001b[0m\u001b[0;32m    983\u001b[0m     \u001b[1;32melse\u001b[0m\u001b[1;33m:\u001b[0m\u001b[1;33m\u001b[0m\u001b[0m\n\u001b[0;32m    984\u001b[0m       \u001b[0mresults\u001b[0m \u001b[1;33m=\u001b[0m \u001b[1;33m[\u001b[0m\u001b[1;33m]\u001b[0m\u001b[1;33m\u001b[0m\u001b[0m\n",
      "\u001b[1;32mD:\\install\\Anaconda3\\envs\\mlnd_capstone\\lib\\site-packages\\tensorflow\\python\\client\\session.py\u001b[0m in \u001b[0;36m_do_run\u001b[1;34m(self, handle, target_list, fetch_list, feed_dict, options, run_metadata)\u001b[0m\n\u001b[0;32m   1030\u001b[0m     \u001b[1;32mif\u001b[0m \u001b[0mhandle\u001b[0m \u001b[1;32mis\u001b[0m \u001b[1;32mNone\u001b[0m\u001b[1;33m:\u001b[0m\u001b[1;33m\u001b[0m\u001b[0m\n\u001b[0;32m   1031\u001b[0m       return self._do_call(_run_fn, self._session, feed_dict, fetch_list,\n\u001b[1;32m-> 1032\u001b[1;33m                            target_list, options, run_metadata)\n\u001b[0m\u001b[0;32m   1033\u001b[0m     \u001b[1;32melse\u001b[0m\u001b[1;33m:\u001b[0m\u001b[1;33m\u001b[0m\u001b[0m\n\u001b[0;32m   1034\u001b[0m       return self._do_call(_prun_fn, self._session, handle, feed_dict,\n",
      "\u001b[1;32mD:\\install\\Anaconda3\\envs\\mlnd_capstone\\lib\\site-packages\\tensorflow\\python\\client\\session.py\u001b[0m in \u001b[0;36m_do_call\u001b[1;34m(self, fn, *args)\u001b[0m\n\u001b[0;32m   1037\u001b[0m   \u001b[1;32mdef\u001b[0m \u001b[0m_do_call\u001b[0m\u001b[1;33m(\u001b[0m\u001b[0mself\u001b[0m\u001b[1;33m,\u001b[0m \u001b[0mfn\u001b[0m\u001b[1;33m,\u001b[0m \u001b[1;33m*\u001b[0m\u001b[0margs\u001b[0m\u001b[1;33m)\u001b[0m\u001b[1;33m:\u001b[0m\u001b[1;33m\u001b[0m\u001b[0m\n\u001b[0;32m   1038\u001b[0m     \u001b[1;32mtry\u001b[0m\u001b[1;33m:\u001b[0m\u001b[1;33m\u001b[0m\u001b[0m\n\u001b[1;32m-> 1039\u001b[1;33m       \u001b[1;32mreturn\u001b[0m \u001b[0mfn\u001b[0m\u001b[1;33m(\u001b[0m\u001b[1;33m*\u001b[0m\u001b[0margs\u001b[0m\u001b[1;33m)\u001b[0m\u001b[1;33m\u001b[0m\u001b[0m\n\u001b[0m\u001b[0;32m   1040\u001b[0m     \u001b[1;32mexcept\u001b[0m \u001b[0merrors\u001b[0m\u001b[1;33m.\u001b[0m\u001b[0mOpError\u001b[0m \u001b[1;32mas\u001b[0m \u001b[0me\u001b[0m\u001b[1;33m:\u001b[0m\u001b[1;33m\u001b[0m\u001b[0m\n\u001b[0;32m   1041\u001b[0m       \u001b[0mmessage\u001b[0m \u001b[1;33m=\u001b[0m \u001b[0mcompat\u001b[0m\u001b[1;33m.\u001b[0m\u001b[0mas_text\u001b[0m\u001b[1;33m(\u001b[0m\u001b[0me\u001b[0m\u001b[1;33m.\u001b[0m\u001b[0mmessage\u001b[0m\u001b[1;33m)\u001b[0m\u001b[1;33m\u001b[0m\u001b[0m\n",
      "\u001b[1;32mD:\\install\\Anaconda3\\envs\\mlnd_capstone\\lib\\site-packages\\tensorflow\\python\\client\\session.py\u001b[0m in \u001b[0;36m_run_fn\u001b[1;34m(session, feed_dict, fetch_list, target_list, options, run_metadata)\u001b[0m\n\u001b[0;32m   1019\u001b[0m         return tf_session.TF_Run(session, options,\n\u001b[0;32m   1020\u001b[0m                                  \u001b[0mfeed_dict\u001b[0m\u001b[1;33m,\u001b[0m \u001b[0mfetch_list\u001b[0m\u001b[1;33m,\u001b[0m \u001b[0mtarget_list\u001b[0m\u001b[1;33m,\u001b[0m\u001b[1;33m\u001b[0m\u001b[0m\n\u001b[1;32m-> 1021\u001b[1;33m                                  status, run_metadata)\n\u001b[0m\u001b[0;32m   1022\u001b[0m \u001b[1;33m\u001b[0m\u001b[0m\n\u001b[0;32m   1023\u001b[0m     \u001b[1;32mdef\u001b[0m \u001b[0m_prun_fn\u001b[0m\u001b[1;33m(\u001b[0m\u001b[0msession\u001b[0m\u001b[1;33m,\u001b[0m \u001b[0mhandle\u001b[0m\u001b[1;33m,\u001b[0m \u001b[0mfeed_dict\u001b[0m\u001b[1;33m,\u001b[0m \u001b[0mfetch_list\u001b[0m\u001b[1;33m)\u001b[0m\u001b[1;33m:\u001b[0m\u001b[1;33m\u001b[0m\u001b[0m\n",
      "\u001b[1;31mKeyboardInterrupt\u001b[0m: "
     ]
    }
   ],
   "source": [
    "%%time\n",
    "history = lstm.fit(X_train_dl, y_train_dl, validation_data=(X_val_dl, y_val_dl), epochs=30, batch_size=128)"
   ]
  },
  {
   "cell_type": "code",
   "execution_count": 133,
   "metadata": {},
   "outputs": [
    {
     "name": "stderr",
     "output_type": "stream",
     "text": [
      "D:\\install\\Anaconda3\\envs\\mlnd_capstone\\lib\\site-packages\\matplotlib\\figure.py:418: UserWarning: matplotlib is currently using a non-GUI backend, so cannot show the figure\n",
      "  \"matplotlib is currently using a non-GUI backend, \"\n"
     ]
    },
    {
     "data": {
      "image/png": "[encoded data removed]",
      "text/plain": [
       "<matplotlib.figure.Figure at 0x1cc6053c5c0>"
      ]
     },
     "metadata": {},
     "output_type": "display_data"
    }
   ],
   "source": [
    "plot_keras_history(history.history)"
   ]
  },
  {
   "cell_type": "code",
   "execution_count": 134,
   "metadata": {},
   "outputs": [
    {
     "name": "stdout",
     "output_type": "stream",
     "text": [
      "7532/7532 [==============================] - 17s 2ms/step\n"
     ]
    }
   ],
   "source": [
    "score = lstm.evaluate(X_test_dl, y_test_dl, batch_size=128)"
   ]
  },
  {
   "cell_type": "code",
   "execution_count": 135,
   "metadata": {},
   "outputs": [
    {
     "name": "stdout",
     "output_type": "stream",
     "text": [
      "['loss', 'acc']\n",
      "[1.5945341758631799, 0.69702602262137359]\n"
     ]
    }
   ],
   "source": [
    "print(lstm.metrics_names)\n",
    "print(score)"
   ]
  },
  {
   "cell_type": "markdown",
   "metadata": {},
   "source": [
    "## char cnn"
   ]
  },
  {
   "cell_type": "code",
   "execution_count": 136,
   "metadata": {},
   "outputs": [],
   "source": [
    "class CharVectorizer:\n",
    "    alphabet = \"abcdefghijklmnopqrstuvwxyz0123456789,;.!?:'\\\"/\\\\|_@#$%^&*~`+-=<>()[]{}\\n\"\n",
    "\n",
    "    def __init__(self, max_seq_length):\n",
    "        self.char_map = {}\n",
    "        self.max_seq_length = max_seq_length\n",
    "        for i, c in enumerate(self.alphabet):\n",
    "            if c in self.char_map:\n",
    "                print('duplicated char: {}'.format(c))\n",
    "            self.char_map[c] = i\n",
    "\n",
    "    def transform(self, raw_documents):\n",
    "        transformed_documents = np.zeros((len(raw_documents), self.max_seq_length, len(self.char_map)), dtype='bool')\n",
    "        for i, document in enumerate(raw_documents):\n",
    "            document = document.lower()[:self.max_seq_length]\n",
    "            onehot = np.zeros((self.max_seq_length, len(self.char_map)), dtype='bool')\n",
    "            for j, c in enumerate(reversed(document)):\n",
    "                if c in self.char_map:\n",
    "                    onehot[j][self.char_map[c]] = 1\n",
    "            transformed_documents[i] = onehot\n",
    "\n",
    "        return transformed_documents"
   ]
  },
  {
   "cell_type": "code",
   "execution_count": 137,
   "metadata": {},
   "outputs": [],
   "source": [
    "MAX_CHAR_SEQUENCE_LENGTH = 3500\n",
    "char_vectorizer = CharVectorizer(MAX_CHAR_SEQUENCE_LENGTH)\n",
    "\n",
    "X_train_dl_ch = char_vectorizer.transform(X_train_dev)\n",
    "y_train_dl_ch = to_categorical(np.asarray(y_train_dev), num_classes=20)\n",
    "\n",
    "X_val_dl_ch = char_vectorizer.transform(X_val)\n",
    "y_val_dl_ch = to_categorical(np.asarray(y_val), num_classes=20)\n",
    "\n",
    "X_test_dl_ch = char_vectorizer.transform(X_val)\n",
    "y_test_dl_ch = to_categorical(np.asarray(y_val), num_classes=20)"
   ]
  },
  {
   "cell_type": "code",
   "execution_count": 138,
   "metadata": {},
   "outputs": [
    {
     "name": "stdout",
     "output_type": "stream",
     "text": [
      "X_train shape:(9051, 3500, 69)\n"
     ]
    }
   ],
   "source": [
    "print('X_train shape:{}'.format(X_train_dl_ch.shape))"
   ]
  },
  {
   "cell_type": "code",
   "execution_count": 139,
   "metadata": {},
   "outputs": [],
   "source": [
    "def char_cnn(n_vocab, max_len, n_classes):\n",
    "\n",
    "    \"See Zhang and LeCun, 2015\"\n",
    "\n",
    "    model = Sequential()\n",
    "\n",
    "    model.add(Conv1D(256, 7, activation='relu', input_shape=(max_len, n_vocab)))\n",
    "    model.add(MaxPooling1D(3))\n",
    "\n",
    "    model.add(Conv1D(256, 7, activation='relu'))\n",
    "    model.add(MaxPooling1D(3))\n",
    "\n",
    "    model.add(Conv1D(256, 3, activation='relu'))\n",
    "    model.add(Conv1D(256, 3, activation='relu'))\n",
    "    model.add(Conv1D(256, 3, activation='relu'))\n",
    "    model.add(Conv1D(256, 3, activation='relu'))\n",
    "    model.add(MaxPooling1D(3))\n",
    "\n",
    "    model.add(Flatten())\n",
    "    model.add(Dense(1024, activation='relu'))\n",
    "    model.add(Dropout(0.5))\n",
    "    model.add(Dense(1024, activation='relu'))\n",
    "    model.add(Dropout(0.5))\n",
    "    model.add(Dense(n_classes, activation='softmax'))\n",
    "\n",
    "    model.compile(loss='categorical_crossentropy',\n",
    "                  optimizer='adam',\n",
    "                  metrics=['acc'])\n",
    "\n",
    "    return model"
   ]
  },
  {
   "cell_type": "code",
   "execution_count": 141,
   "metadata": {},
   "outputs": [],
   "source": [
    "char_model = char_cnn(len(CharVectorizer.alphabet), MAX_CHAR_SEQUENCE_LENGTH, len(newsgroups_target_names))"
   ]
  },
  {
   "cell_type": "code",
   "execution_count": 142,
   "metadata": {},
   "outputs": [
    {
     "name": "stdout",
     "output_type": "stream",
     "text": [
      "_________________________________________________________________\n",
      "Layer (type)                 Output Shape              Param #   \n",
      "=================================================================\n",
      "conv1d_10 (Conv1D)           (None, 3494, 256)         123904    \n",
      "_________________________________________________________________\n",
      "max_pooling1d_10 (MaxPooling (None, 1164, 256)         0         \n",
      "_________________________________________________________________\n",
      "conv1d_11 (Conv1D)           (None, 1158, 256)         459008    \n",
      "_________________________________________________________________\n",
      "max_pooling1d_11 (MaxPooling (None, 386, 256)          0         \n",
      "_________________________________________________________________\n",
      "conv1d_12 (Conv1D)           (None, 384, 256)          196864    \n",
      "_________________________________________________________________\n",
      "conv1d_13 (Conv1D)           (None, 382, 256)          196864    \n",
      "_________________________________________________________________\n",
      "conv1d_14 (Conv1D)           (None, 380, 256)          196864    \n",
      "_________________________________________________________________\n",
      "conv1d_15 (Conv1D)           (None, 378, 256)          196864    \n",
      "_________________________________________________________________\n",
      "max_pooling1d_12 (MaxPooling (None, 126, 256)          0         \n",
      "_________________________________________________________________\n",
      "flatten_3 (Flatten)          (None, 32256)             0         \n",
      "_________________________________________________________________\n",
      "dense_6 (Dense)              (None, 1024)              33031168  \n",
      "_________________________________________________________________\n",
      "dropout_5 (Dropout)          (None, 1024)              0         \n",
      "_________________________________________________________________\n",
      "dense_7 (Dense)              (None, 1024)              1049600   \n",
      "_________________________________________________________________\n",
      "dropout_6 (Dropout)          (None, 1024)              0         \n",
      "_________________________________________________________________\n",
      "dense_8 (Dense)              (None, 20)                20500     \n",
      "=================================================================\n",
      "Total params: 35,471,636\n",
      "Trainable params: 35,471,636\n",
      "Non-trainable params: 0\n",
      "_________________________________________________________________\n"
     ]
    }
   ],
   "source": [
    "char_model.summary()"
   ]
  },
  {
   "cell_type": "code",
   "execution_count": 143,
   "metadata": {
    "scrolled": true
   },
   "outputs": [
    {
     "name": "stdout",
     "output_type": "stream",
     "text": [
      "Train on 9051 samples, validate on 2263 samples\n",
      "Epoch 1/40\n",
      "9051/9051 [==============================] - 53s 6ms/step - loss: 2.9658 - acc: 0.0635 - val_loss: 2.9773 - val_acc: 0.0566\n",
      "Epoch 2/40\n",
      "1664/9051 [====>.........................] - ETA: 36s - loss: 2.9605 - acc: 0.0709"
     ]
    },
    {
     "ename": "KeyboardInterrupt",
     "evalue": "",
     "output_type": "error",
     "traceback": [
      "\u001b[1;31m---------------------------------------------------------------------------\u001b[0m",
      "\u001b[1;31mKeyboardInterrupt\u001b[0m                         Traceback (most recent call last)",
      "\u001b[1;32m<timed exec>\u001b[0m in \u001b[0;36m<module>\u001b[1;34m()\u001b[0m\n",
      "\u001b[1;32mD:\\install\\Anaconda3\\envs\\mlnd_capstone\\lib\\site-packages\\keras\\models.py\u001b[0m in \u001b[0;36mfit\u001b[1;34m(self, x, y, batch_size, epochs, verbose, callbacks, validation_split, validation_data, shuffle, class_weight, sample_weight, initial_epoch, steps_per_epoch, validation_steps, **kwargs)\u001b[0m\n\u001b[0;32m    963\u001b[0m                               \u001b[0minitial_epoch\u001b[0m\u001b[1;33m=\u001b[0m\u001b[0minitial_epoch\u001b[0m\u001b[1;33m,\u001b[0m\u001b[1;33m\u001b[0m\u001b[0m\n\u001b[0;32m    964\u001b[0m                               \u001b[0msteps_per_epoch\u001b[0m\u001b[1;33m=\u001b[0m\u001b[0msteps_per_epoch\u001b[0m\u001b[1;33m,\u001b[0m\u001b[1;33m\u001b[0m\u001b[0m\n\u001b[1;32m--> 965\u001b[1;33m                               validation_steps=validation_steps)\n\u001b[0m\u001b[0;32m    966\u001b[0m \u001b[1;33m\u001b[0m\u001b[0m\n\u001b[0;32m    967\u001b[0m     def evaluate(self, x=None, y=None,\n",
      "\u001b[1;32mD:\\install\\Anaconda3\\envs\\mlnd_capstone\\lib\\site-packages\\keras\\engine\\training.py\u001b[0m in \u001b[0;36mfit\u001b[1;34m(self, x, y, batch_size, epochs, verbose, callbacks, validation_split, validation_data, shuffle, class_weight, sample_weight, initial_epoch, steps_per_epoch, validation_steps, **kwargs)\u001b[0m\n\u001b[0;32m   1667\u001b[0m                               \u001b[0minitial_epoch\u001b[0m\u001b[1;33m=\u001b[0m\u001b[0minitial_epoch\u001b[0m\u001b[1;33m,\u001b[0m\u001b[1;33m\u001b[0m\u001b[0m\n\u001b[0;32m   1668\u001b[0m                               \u001b[0msteps_per_epoch\u001b[0m\u001b[1;33m=\u001b[0m\u001b[0msteps_per_epoch\u001b[0m\u001b[1;33m,\u001b[0m\u001b[1;33m\u001b[0m\u001b[0m\n\u001b[1;32m-> 1669\u001b[1;33m                               validation_steps=validation_steps)\n\u001b[0m\u001b[0;32m   1670\u001b[0m \u001b[1;33m\u001b[0m\u001b[0m\n\u001b[0;32m   1671\u001b[0m     def evaluate(self, x=None, y=None,\n",
      "\u001b[1;32mD:\\install\\Anaconda3\\envs\\mlnd_capstone\\lib\\site-packages\\keras\\engine\\training.py\u001b[0m in \u001b[0;36m_fit_loop\u001b[1;34m(self, f, ins, out_labels, batch_size, epochs, verbose, callbacks, val_f, val_ins, shuffle, callback_metrics, initial_epoch, steps_per_epoch, validation_steps)\u001b[0m\n\u001b[0;32m   1204\u001b[0m                         \u001b[0mins_batch\u001b[0m\u001b[1;33m[\u001b[0m\u001b[0mi\u001b[0m\u001b[1;33m]\u001b[0m \u001b[1;33m=\u001b[0m \u001b[0mins_batch\u001b[0m\u001b[1;33m[\u001b[0m\u001b[0mi\u001b[0m\u001b[1;33m]\u001b[0m\u001b[1;33m.\u001b[0m\u001b[0mtoarray\u001b[0m\u001b[1;33m(\u001b[0m\u001b[1;33m)\u001b[0m\u001b[1;33m\u001b[0m\u001b[0m\n\u001b[0;32m   1205\u001b[0m \u001b[1;33m\u001b[0m\u001b[0m\n\u001b[1;32m-> 1206\u001b[1;33m                     \u001b[0mouts\u001b[0m \u001b[1;33m=\u001b[0m \u001b[0mf\u001b[0m\u001b[1;33m(\u001b[0m\u001b[0mins_batch\u001b[0m\u001b[1;33m)\u001b[0m\u001b[1;33m\u001b[0m\u001b[0m\n\u001b[0m\u001b[0;32m   1207\u001b[0m                     \u001b[1;32mif\u001b[0m \u001b[1;32mnot\u001b[0m \u001b[0misinstance\u001b[0m\u001b[1;33m(\u001b[0m\u001b[0mouts\u001b[0m\u001b[1;33m,\u001b[0m \u001b[0mlist\u001b[0m\u001b[1;33m)\u001b[0m\u001b[1;33m:\u001b[0m\u001b[1;33m\u001b[0m\u001b[0m\n\u001b[0;32m   1208\u001b[0m                         \u001b[0mouts\u001b[0m \u001b[1;33m=\u001b[0m \u001b[1;33m[\u001b[0m\u001b[0mouts\u001b[0m\u001b[1;33m]\u001b[0m\u001b[1;33m\u001b[0m\u001b[0m\n",
      "\u001b[1;32mD:\\install\\Anaconda3\\envs\\mlnd_capstone\\lib\\site-packages\\keras\\backend\\tensorflow_backend.py\u001b[0m in \u001b[0;36m__call__\u001b[1;34m(self, inputs)\u001b[0m\n\u001b[0;32m   2473\u001b[0m         \u001b[0msession\u001b[0m \u001b[1;33m=\u001b[0m \u001b[0mget_session\u001b[0m\u001b[1;33m(\u001b[0m\u001b[1;33m)\u001b[0m\u001b[1;33m\u001b[0m\u001b[0m\n\u001b[0;32m   2474\u001b[0m         updated = session.run(fetches=fetches, feed_dict=feed_dict,\n\u001b[1;32m-> 2475\u001b[1;33m                               **self.session_kwargs)\n\u001b[0m\u001b[0;32m   2476\u001b[0m         \u001b[1;32mreturn\u001b[0m \u001b[0mupdated\u001b[0m\u001b[1;33m[\u001b[0m\u001b[1;33m:\u001b[0m\u001b[0mlen\u001b[0m\u001b[1;33m(\u001b[0m\u001b[0mself\u001b[0m\u001b[1;33m.\u001b[0m\u001b[0moutputs\u001b[0m\u001b[1;33m)\u001b[0m\u001b[1;33m]\u001b[0m\u001b[1;33m\u001b[0m\u001b[0m\n\u001b[0;32m   2477\u001b[0m \u001b[1;33m\u001b[0m\u001b[0m\n",
      "\u001b[1;32mD:\\install\\Anaconda3\\envs\\mlnd_capstone\\lib\\site-packages\\tensorflow\\python\\client\\session.py\u001b[0m in \u001b[0;36mrun\u001b[1;34m(self, fetches, feed_dict, options, run_metadata)\u001b[0m\n\u001b[0;32m    776\u001b[0m     \u001b[1;32mtry\u001b[0m\u001b[1;33m:\u001b[0m\u001b[1;33m\u001b[0m\u001b[0m\n\u001b[0;32m    777\u001b[0m       result = self._run(None, fetches, feed_dict, options_ptr,\n\u001b[1;32m--> 778\u001b[1;33m                          run_metadata_ptr)\n\u001b[0m\u001b[0;32m    779\u001b[0m       \u001b[1;32mif\u001b[0m \u001b[0mrun_metadata\u001b[0m\u001b[1;33m:\u001b[0m\u001b[1;33m\u001b[0m\u001b[0m\n\u001b[0;32m    780\u001b[0m         \u001b[0mproto_data\u001b[0m \u001b[1;33m=\u001b[0m \u001b[0mtf_session\u001b[0m\u001b[1;33m.\u001b[0m\u001b[0mTF_GetBuffer\u001b[0m\u001b[1;33m(\u001b[0m\u001b[0mrun_metadata_ptr\u001b[0m\u001b[1;33m)\u001b[0m\u001b[1;33m\u001b[0m\u001b[0m\n",
      "\u001b[1;32mD:\\install\\Anaconda3\\envs\\mlnd_capstone\\lib\\site-packages\\tensorflow\\python\\client\\session.py\u001b[0m in \u001b[0;36m_run\u001b[1;34m(self, handle, fetches, feed_dict, options, run_metadata)\u001b[0m\n\u001b[0;32m    980\u001b[0m     \u001b[1;32mif\u001b[0m \u001b[0mfinal_fetches\u001b[0m \u001b[1;32mor\u001b[0m \u001b[0mfinal_targets\u001b[0m\u001b[1;33m:\u001b[0m\u001b[1;33m\u001b[0m\u001b[0m\n\u001b[0;32m    981\u001b[0m       results = self._do_run(handle, final_targets, final_fetches,\n\u001b[1;32m--> 982\u001b[1;33m                              feed_dict_string, options, run_metadata)\n\u001b[0m\u001b[0;32m    983\u001b[0m     \u001b[1;32melse\u001b[0m\u001b[1;33m:\u001b[0m\u001b[1;33m\u001b[0m\u001b[0m\n\u001b[0;32m    984\u001b[0m       \u001b[0mresults\u001b[0m \u001b[1;33m=\u001b[0m \u001b[1;33m[\u001b[0m\u001b[1;33m]\u001b[0m\u001b[1;33m\u001b[0m\u001b[0m\n",
      "\u001b[1;32mD:\\install\\Anaconda3\\envs\\mlnd_capstone\\lib\\site-packages\\tensorflow\\python\\client\\session.py\u001b[0m in \u001b[0;36m_do_run\u001b[1;34m(self, handle, target_list, fetch_list, feed_dict, options, run_metadata)\u001b[0m\n\u001b[0;32m   1030\u001b[0m     \u001b[1;32mif\u001b[0m \u001b[0mhandle\u001b[0m \u001b[1;32mis\u001b[0m \u001b[1;32mNone\u001b[0m\u001b[1;33m:\u001b[0m\u001b[1;33m\u001b[0m\u001b[0m\n\u001b[0;32m   1031\u001b[0m       return self._do_call(_run_fn, self._session, feed_dict, fetch_list,\n\u001b[1;32m-> 1032\u001b[1;33m                            target_list, options, run_metadata)\n\u001b[0m\u001b[0;32m   1033\u001b[0m     \u001b[1;32melse\u001b[0m\u001b[1;33m:\u001b[0m\u001b[1;33m\u001b[0m\u001b[0m\n\u001b[0;32m   1034\u001b[0m       return self._do_call(_prun_fn, self._session, handle, feed_dict,\n",
      "\u001b[1;32mD:\\install\\Anaconda3\\envs\\mlnd_capstone\\lib\\site-packages\\tensorflow\\python\\client\\session.py\u001b[0m in \u001b[0;36m_do_call\u001b[1;34m(self, fn, *args)\u001b[0m\n\u001b[0;32m   1037\u001b[0m   \u001b[1;32mdef\u001b[0m \u001b[0m_do_call\u001b[0m\u001b[1;33m(\u001b[0m\u001b[0mself\u001b[0m\u001b[1;33m,\u001b[0m \u001b[0mfn\u001b[0m\u001b[1;33m,\u001b[0m \u001b[1;33m*\u001b[0m\u001b[0margs\u001b[0m\u001b[1;33m)\u001b[0m\u001b[1;33m:\u001b[0m\u001b[1;33m\u001b[0m\u001b[0m\n\u001b[0;32m   1038\u001b[0m     \u001b[1;32mtry\u001b[0m\u001b[1;33m:\u001b[0m\u001b[1;33m\u001b[0m\u001b[0m\n\u001b[1;32m-> 1039\u001b[1;33m       \u001b[1;32mreturn\u001b[0m \u001b[0mfn\u001b[0m\u001b[1;33m(\u001b[0m\u001b[1;33m*\u001b[0m\u001b[0margs\u001b[0m\u001b[1;33m)\u001b[0m\u001b[1;33m\u001b[0m\u001b[0m\n\u001b[0m\u001b[0;32m   1040\u001b[0m     \u001b[1;32mexcept\u001b[0m \u001b[0merrors\u001b[0m\u001b[1;33m.\u001b[0m\u001b[0mOpError\u001b[0m \u001b[1;32mas\u001b[0m \u001b[0me\u001b[0m\u001b[1;33m:\u001b[0m\u001b[1;33m\u001b[0m\u001b[0m\n\u001b[0;32m   1041\u001b[0m       \u001b[0mmessage\u001b[0m \u001b[1;33m=\u001b[0m \u001b[0mcompat\u001b[0m\u001b[1;33m.\u001b[0m\u001b[0mas_text\u001b[0m\u001b[1;33m(\u001b[0m\u001b[0me\u001b[0m\u001b[1;33m.\u001b[0m\u001b[0mmessage\u001b[0m\u001b[1;33m)\u001b[0m\u001b[1;33m\u001b[0m\u001b[0m\n",
      "\u001b[1;32mD:\\install\\Anaconda3\\envs\\mlnd_capstone\\lib\\site-packages\\tensorflow\\python\\client\\session.py\u001b[0m in \u001b[0;36m_run_fn\u001b[1;34m(session, feed_dict, fetch_list, target_list, options, run_metadata)\u001b[0m\n\u001b[0;32m   1019\u001b[0m         return tf_session.TF_Run(session, options,\n\u001b[0;32m   1020\u001b[0m                                  \u001b[0mfeed_dict\u001b[0m\u001b[1;33m,\u001b[0m \u001b[0mfetch_list\u001b[0m\u001b[1;33m,\u001b[0m \u001b[0mtarget_list\u001b[0m\u001b[1;33m,\u001b[0m\u001b[1;33m\u001b[0m\u001b[0m\n\u001b[1;32m-> 1021\u001b[1;33m                                  status, run_metadata)\n\u001b[0m\u001b[0;32m   1022\u001b[0m \u001b[1;33m\u001b[0m\u001b[0m\n\u001b[0;32m   1023\u001b[0m     \u001b[1;32mdef\u001b[0m \u001b[0m_prun_fn\u001b[0m\u001b[1;33m(\u001b[0m\u001b[0msession\u001b[0m\u001b[1;33m,\u001b[0m \u001b[0mhandle\u001b[0m\u001b[1;33m,\u001b[0m \u001b[0mfeed_dict\u001b[0m\u001b[1;33m,\u001b[0m \u001b[0mfetch_list\u001b[0m\u001b[1;33m)\u001b[0m\u001b[1;33m:\u001b[0m\u001b[1;33m\u001b[0m\u001b[0m\n",
      "\u001b[1;31mKeyboardInterrupt\u001b[0m: "
     ]
    }
   ],
   "source": [
    "%%time\n",
    "history = char_model.fit(X_train_dl_ch, y_train_dl_ch, validation_data=(X_val_dl_ch, y_val_dl_ch), epochs=40, batch_size=128)"
   ]
  },
  {
   "cell_type": "code",
   "execution_count": null,
   "metadata": {},
   "outputs": [],
   "source": [
    "plot_keras_history(history.history)"
   ]
  },
  {
   "cell_type": "code",
   "execution_count": null,
   "metadata": {},
   "outputs": [],
   "source": [
    "score = char_model.evaluate(X_test_dl_ch, y_test_dl_ch, batch_size=128)"
   ]
  },
  {
   "cell_type": "code",
   "execution_count": null,
   "metadata": {},
   "outputs": [],
   "source": [
    "print(char_model.metrics_names)\n",
    "print(score)"
   ]
  },
  {
   "cell_type": "code",
   "execution_count": null,
   "metadata": {},
   "outputs": [],
   "source": []
  }
 ],
 "metadata": {
  "kernelspec": {
   "display_name": "Python 3",
   "language": "python",
   "name": "python3"
  },
  "language_info": {
   "codemirror_mode": {
    "name": "ipython",
    "version": 3
   },
   "file_extension": ".py",
   "mimetype": "text/x-python",
   "name": "python",
   "nbconvert_exporter": "python",
   "pygments_lexer": "ipython3",
   "version": "3.6.4"
  }
 },
 "nbformat": 4,
 "nbformat_minor": 2
}
