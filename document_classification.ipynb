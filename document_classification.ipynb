{
 "cells": [
  {
   "cell_type": "markdown",
   "metadata": {},
   "source": [
    "# 数据获取\n",
    "\n",
    "通过sklearn提供的方法来获取数据，并拆分出训练集和测试集。\n",
    "\n",
    "通过`split_mode`和`keep_meta`两个参数，控制切分策略和元数据保留策略。"
   ]
  },
  {
   "cell_type": "code",
   "execution_count": 1,
   "metadata": {},
   "outputs": [],
   "source": [
    "import os,sys\n",
    "import pickle\n",
    "from time import time\n",
    "from sklearn.datasets import fetch_20newsgroups\n",
    "from sklearn.model_selection import train_test_split\n",
    "from pprint import pprint\n",
    "from multiprocessing import cpu_count\n",
    "\n",
    "import matplotlib.pyplot as plt\n",
    "import numpy as np\n",
    "import pandas as pd\n",
    "\n",
    "%matplotlib inline"
   ]
  },
  {
   "cell_type": "code",
   "execution_count": 2,
   "metadata": {},
   "outputs": [],
   "source": [
    "split_mode = 'TIME'\n",
    "keep_meta = False\n",
    "\n",
    "if keep_meta:\n",
    "    removel = ()\n",
    "else:\n",
    "    removel = ('footers', 'quotes')\n",
    "    \n",
    "if split_mode == 'TIME':\n",
    "    newsgroups_train = fetch_20newsgroups(data_home='.', subset='train', remove=removel)\n",
    "    newsgroups_test = fetch_20newsgroups(data_home='.', subset='test', remove=removel)\n",
    "elif split_mode == 'RANDOM':\n",
    "    newsgroups_train = fetch_20newsgroups(data_home='.', subset='all', remove=removel)\n",
    "else:\n",
    "    raise Exception('Unknown split_mode: {}'.format(split_mode))\n",
    "    \n",
    "newsgroups_target_names = newsgroups_train.target_names"
   ]
  },
  {
   "cell_type": "code",
   "execution_count": 3,
   "metadata": {},
   "outputs": [
    {
     "name": "stdout",
     "output_type": "stream",
     "text": [
      "['alt.atheism', 'comp.graphics', 'comp.os.ms-windows.misc', 'comp.sys.ibm.pc.hardware', 'comp.sys.mac.hardware', 'comp.windows.x', 'misc.forsale', 'rec.autos', 'rec.motorcycles', 'rec.sport.baseball', 'rec.sport.hockey', 'sci.crypt', 'sci.electronics', 'sci.med', 'sci.space', 'soc.religion.christian', 'talk.politics.guns', 'talk.politics.mideast', 'talk.politics.misc', 'talk.religion.misc']\n"
     ]
    }
   ],
   "source": [
    "# 查看类别名称\n",
    "print(newsgroups_train.target_names)"
   ]
  },
  {
   "cell_type": "code",
   "execution_count": 4,
   "metadata": {},
   "outputs": [],
   "source": [
    "def preprocess_data(doc):\n",
    "    '''\n",
    "    保留header中的Subject（标题）信息\n",
    "    doc: 输入文档字符串\n",
    "    return: header仅保留Subject的文档字符串\n",
    "    '''\n",
    "    sections = doc.split('\\n\\n')\n",
    "    headers = sections[0].split('\\n')\n",
    "    for header in headers:\n",
    "        if header.startswith('Subject:'):\n",
    "            return '\\n\\n'.join([header] + sections[1:])"
   ]
  },
  {
   "cell_type": "code",
   "execution_count": 5,
   "metadata": {},
   "outputs": [
    {
     "name": "stdout",
     "output_type": "stream",
     "text": [
      "category: rec.autos\n",
      "==============\n",
      "From: lerxst@wam.umd.edu (where's my thing)\n",
      "Subject: WHAT car is this!?\n",
      "Nntp-Posting-Host: rac3.wam.umd.edu\n",
      "Organization: University of Maryland, College Park\n",
      "Lines: 15\n",
      "\n",
      " I was wondering if anyone out there could enlighten me on this car I saw\n",
      "the other day. It was a 2-door sports car, looked to be from the late 60s/\n",
      "early 70s. It was called a Bricklin. The doors were really small. In addition,\n",
      "the front bumper was separate from the rest of the body. This is \n",
      "all I know. If anyone can tellme a model name, engine specs, years\n",
      "of production, where this car is made, history, or whatever info you\n",
      "have on this funky looking car, please e-mail.\n"
     ]
    }
   ],
   "source": [
    "# 检查数据内容\n",
    "print('category: {}'.format(newsgroups_target_names[newsgroups_train.target[0]]))\n",
    "print('==============')\n",
    "print(newsgroups_train.data[0])"
   ]
  },
  {
   "cell_type": "markdown",
   "metadata": {},
   "source": [
    "## 数据分割"
   ]
  },
  {
   "cell_type": "code",
   "execution_count": 6,
   "metadata": {},
   "outputs": [],
   "source": [
    "if split_mode == 'TIME':\n",
    "    # 先划分训练集和测试集\n",
    "    X_train, y_train = [preprocess_data(i) for i in newsgroups_train.data], newsgroups_train.target\n",
    "    X_test, y_test = [preprocess_data(i) for i in newsgroups_test.data], newsgroups_test.target\n",
    "\n",
    "    # 训练集进一步划分为训练集和验证集\n",
    "    X_train_dev, X_val, y_train_dev, y_val = train_test_split(X_train, y_train, test_size=0.2, random_state=0, stratify=y_train)\n",
    "elif split_mode == 'RANDOM':\n",
    "    X_train, y_train = [preprocess_data(i) for i in newsgroups_train.data], newsgroups_train.target\n",
    "    \n",
    "    # 先划分训练集和测试集，随机划分时，训练集保留40%，使得训练集大小与按时间分隔时近似，方便比较\n",
    "    X_train, X_test, y_train, y_test = train_test_split(X_train, y_train, test_size=0.4, random_state=0, stratify=y_train)\n",
    "    # 训练集进一步划分为训练集和验证集\n",
    "    X_train_dev, X_val, y_train_dev, y_val = train_test_split(X_train, y_train, test_size=0.2, random_state=0, stratify=y_train)\n",
    "else:\n",
    "    raise Exception('Unknown split_mode: {}'.format(split_mode))"
   ]
  },
  {
   "cell_type": "code",
   "execution_count": 7,
   "metadata": {},
   "outputs": [
    {
     "name": "stdout",
     "output_type": "stream",
     "text": [
      "train size: 11314\n",
      "train dev size: 9051\n",
      "val size: 2263\n",
      "test size: 7532\n"
     ]
    }
   ],
   "source": [
    "print('train size: {}'.format(len(X_train)))\n",
    "print('train dev size: {}'.format(len(X_train_dev)))\n",
    "print('val size: {}'.format(len(X_val)))\n",
    "print('test size: {}'.format(len(X_test)))"
   ]
  },
  {
   "cell_type": "code",
   "execution_count": 8,
   "metadata": {},
   "outputs": [
    {
     "name": "stdout",
     "output_type": "stream",
     "text": [
      "Subject: WHAT car is this!?\n",
      "\n",
      " I was wondering if anyone out there could enlighten me on this car I saw\n",
      "the other day. It was a 2-door sports car, looked to be from the late 60s/\n",
      "early 70s. It was called a Bricklin. The doors were really small. In addition,\n",
      "the front bumper was separate from the rest of the body. This is \n",
      "all I know. If anyone can tellme a model name, engine specs, years\n",
      "of production, where this car is made, history, or whatever info you\n",
      "have on this funky looking car, please e-mail.\n"
     ]
    }
   ],
   "source": [
    "# 查看经过处理过的数据\n",
    "print(X_train[0])"
   ]
  },
  {
   "cell_type": "markdown",
   "metadata": {},
   "source": [
    "# 数据探索"
   ]
  },
  {
   "cell_type": "markdown",
   "metadata": {},
   "source": [
    "首先检查训练集、验证集和测试集类别分布情况，看数据在类别上的分布是否有倾斜。"
   ]
  },
  {
   "cell_type": "code",
   "execution_count": 9,
   "metadata": {},
   "outputs": [],
   "source": [
    "def label_distributation(data, title):\n",
    "    '''\n",
    "    展示数据类别分布直方图\n",
    "    data: pandas DataFrame，包含catid，数值型的分类标签\n",
    "    '''\n",
    "    label_dist = data['catid'].value_counts().sort_index().rename(dict([(i, cid) for i, cid in enumerate(newsgroups_target_names)]))\n",
    "    label_dist.plot.bar(title=title, figsize=(10,5))"
   ]
  },
  {
   "cell_type": "code",
   "execution_count": 10,
   "metadata": {},
   "outputs": [
    {
     "data": {
      "image/png": "[encoded data removed]",
      "text/plain": [
       "<matplotlib.figure.Figure at 0xda83860>"
      ]
     },
     "metadata": {},
     "output_type": "display_data"
    }
   ],
   "source": [
    "label_distributation(pd.DataFrame(data={'catid': y_train}), 'train set label distribution')"
   ]
  },
  {
   "cell_type": "code",
   "execution_count": 11,
   "metadata": {},
   "outputs": [
    {
     "data": {
      "image/png": "[encoded data removed]",
      "text/plain": [
       "<matplotlib.figure.Figure at 0x9cda3c8>"
      ]
     },
     "metadata": {},
     "output_type": "display_data"
    }
   ],
   "source": [
    "label_distributation(pd.DataFrame(data={'catid': y_train_dev}), 'train dev set label distribution')"
   ]
  },
  {
   "cell_type": "code",
   "execution_count": 12,
   "metadata": {},
   "outputs": [
    {
     "data": {
      "image/png": "[encoded data removed]",
      "text/plain": [
       "<matplotlib.figure.Figure at 0x9eba588>"
      ]
     },
     "metadata": {},
     "output_type": "display_data"
    }
   ],
   "source": [
    "label_distributation(pd.DataFrame(data={'catid': y_val}), 'val set label distribution')"
   ]
  },
  {
   "cell_type": "code",
   "execution_count": 13,
   "metadata": {},
   "outputs": [
    {
     "data": {
      "image/png": "[encoded data removed]",
      "text/plain": [
       "<matplotlib.figure.Figure at 0xa063518>"
      ]
     },
     "metadata": {},
     "output_type": "display_data"
    }
   ],
   "source": [
    "label_distributation(pd.DataFrame(data={'catid': y_test}), 'test set label distribution')"
   ]
  },
  {
   "cell_type": "markdown",
   "metadata": {},
   "source": [
    "从上面几张图可以看到，训练集、验证集和测试集的数据在各个类别的分布比较均匀，只有一个类别`talk.religion.misc`数据量略小，预计不会对模型的指标有太大影响。"
   ]
  },
  {
   "cell_type": "markdown",
   "metadata": {},
   "source": [
    "绘制训练集文档包含词数和字符数的直方图。"
   ]
  },
  {
   "cell_type": "code",
   "execution_count": 14,
   "metadata": {},
   "outputs": [],
   "source": [
    "doc_word_count = []\n",
    "doc_char_count = []\n",
    "for i in X_train:\n",
    "    doc_word_count.append(len(i.split()))\n",
    "    doc_char_count.append(len(i))\n",
    "\n",
    "def describe_data(data_name, data):\n",
    "    print('{} min: {}'.format(data_name, np.min(data)))\n",
    "    print('{} max: {}'.format(data_name, np.max(data)))\n",
    "    print('{} 25 percent: {}'.format(data_name, np.percentile(data, 25)))\n",
    "    print('{} 50 percent: {}'.format(data_name, np.percentile(data, 50)))\n",
    "    print('{} 90 percent: {}'.format(data_name, np.percentile(data, 90)))\n",
    "    print('{} 95 percent: {}'.format(data_name, np.percentile(data, 95)))\n",
    "    plt.figure(figsize=(10,5))\n",
    "    plt.hist(data, bins=50)\n",
    "    plt.title('{} distribution'.format(data_name))\n",
    "    plt.xlabel(data_name)\n",
    "    plt.ylabel('doc num')\n",
    "    plt.show()"
   ]
  },
  {
   "cell_type": "code",
   "execution_count": 15,
   "metadata": {},
   "outputs": [
    {
     "name": "stdout",
     "output_type": "stream",
     "text": [
      "artical word count min: 2\n",
      "artical word count max: 11776\n",
      "artical word count 25 percent: 44.0\n",
      "artical word count 50 percent: 88.0\n",
      "artical word count 90 percent: 339.7000000000007\n",
      "artical word count 95 percent: 572.0\n"
     ]
    },
    {
     "data": {
      "image/png": "[encoded data removed]",
      "text/plain": [
       "<matplotlib.figure.Figure at 0x9c6f1d0>"
      ]
     },
     "metadata": {},
     "output_type": "display_data"
    }
   ],
   "source": [
    "describe_data('artical word count', doc_word_count)"
   ]
  },
  {
   "cell_type": "code",
   "execution_count": 16,
   "metadata": {},
   "outputs": [
    {
     "name": "stdout",
     "output_type": "stream",
     "text": [
      "artical char count min: 12\n",
      "artical char count max: 74932\n",
      "artical char count 25 percent: 261.0\n",
      "artical char count 50 percent: 526.0\n",
      "artical char count 90 percent: 2039.7000000000007\n",
      "artical char count 95 percent: 3429.7000000000007\n"
     ]
    },
    {
     "data": {
      "image/png": "[encoded data removed]",
      "text/plain": [
       "<matplotlib.figure.Figure at 0x9c932b0>"
      ]
     },
     "metadata": {},
     "output_type": "display_data"
    }
   ],
   "source": [
    "describe_data('artical char count', doc_char_count)"
   ]
  },
  {
   "cell_type": "markdown",
   "metadata": {},
   "source": [
    "# 传统机器学习模型"
   ]
  },
  {
   "cell_type": "code",
   "execution_count": 17,
   "metadata": {},
   "outputs": [],
   "source": [
    "from sklearn.feature_extraction.text import CountVectorizer\n",
    "from sklearn.feature_extraction.text import TfidfTransformer"
   ]
  },
  {
   "cell_type": "markdown",
   "metadata": {},
   "source": [
    "## BoW特征提取"
   ]
  },
  {
   "cell_type": "code",
   "execution_count": 18,
   "metadata": {},
   "outputs": [],
   "source": [
    "count_vect = CountVectorizer(stop_words='english', min_df=3, max_df=0.95, max_features=None)\n",
    "X_train_vec = count_vect.fit_transform(X_train)"
   ]
  },
  {
   "cell_type": "code",
   "execution_count": 19,
   "metadata": {},
   "outputs": [
    {
     "name": "stdout",
     "output_type": "stream",
     "text": [
      "(11314, 25636)\n",
      "  (0, 1365)\t1\n",
      "  (0, 1535)\t1\n",
      "  (0, 2340)\t1\n",
      "  (0, 4345)\t1\n",
      "  (0, 4722)\t1\n",
      "  (0, 4912)\t1\n",
      "  (0, 5026)\t5\n",
      "  (0, 7160)\t1\n",
      "  (0, 8210)\t1\n",
      "  (0, 8211)\t1\n",
      "  (0, 8494)\t1\n",
      "  (0, 8898)\t1\n",
      "  (0, 8923)\t1\n",
      "  (0, 10392)\t1\n",
      "  (0, 11628)\t1\n",
      "  (0, 12432)\t1\n",
      "  (0, 13542)\t1\n",
      "  (0, 13759)\t1\n",
      "  (0, 14259)\t1\n",
      "  (0, 14260)\t1\n",
      "  (0, 14511)\t1\n",
      "  (0, 15356)\t1\n",
      "  (0, 18215)\t1\n",
      "  (0, 18948)\t1\n",
      "  (0, 19576)\t1\n",
      "  (0, 20303)\t1\n",
      "  (0, 20658)\t1\n",
      "  (0, 21233)\t1\n",
      "  (0, 21544)\t1\n",
      "  (0, 21649)\t1\n",
      "  (0, 25060)\t1\n",
      "  (0, 25470)\t1\n"
     ]
    }
   ],
   "source": [
    "print(X_train_vec.shape)\n",
    "print(count_vect.transform([X_train[0]])[0])"
   ]
  },
  {
   "cell_type": "code",
   "execution_count": 20,
   "metadata": {},
   "outputs": [
    {
     "name": "stdout",
     "output_type": "stream",
     "text": [
      "id: 2705 feature name: allied\n",
      "id: 8155 feature name: dogan\n"
     ]
    }
   ],
   "source": [
    "print('id: 2705 feature name: {}'.format(count_vect.get_feature_names()[2705]))\n",
    "\n",
    "print('id: 8155 feature name: {}'.format(count_vect.get_feature_names()[8155]))"
   ]
  },
  {
   "cell_type": "code",
   "execution_count": 21,
   "metadata": {},
   "outputs": [
    {
     "name": "stdout",
     "output_type": "stream",
     "text": [
      "vocabulary size: 25636\n",
      "stop word size: 63056\n",
      "sample vocabulary: ['car', 'wondering', 'enlighten', 'saw', 'day', 'door', 'sports', 'looked', 'late', '60s', 'early', '70s', 'called', 'doors', 'really', 'small', 'addition', 'bumper', 'separate', 'rest', 'body', 'know', 'model', 'engine', 'specs', 'years', 'production', 'history', 'info', 'funky', 'looking', 'mail', 'si', 'clock', 'poll', 'final', 'fair', 'number', 'brave', 'souls', 'upgraded', 'oscillator', 'shared', 'experiences', 'send', 'brief', 'message', 'detailing', 'procedure', 'speed', 'attained', 'cpu', 'rated', 'add', 'cards', 'adapters', 'heat', 'sinks', 'hour', 'usage', 'floppy', 'disk', 'functionality', '800', 'floppies', 'especially', 'requested', 'summarizing', 'days', 'network', 'knowledge', 'base', 'upgrade', 'haven', 'answered', 'thanks', 'pb', 'questions', 'folks', 'mac', 'plus', 'finally', 'gave', 'ghost', 'weekend', 'starting', 'life', '512k', 'way', '1985', 'sooo', 'market', 'new', 'machine', 'bit', 'sooner', 'intended', 'picking', 'powerbook', '160']\n",
      "sample stop words: ['isologs', 'elwood', '8141', 'mecmuasi', 'conservativism', '6674', 'rationalized', 'readme_build', 'unbounded', 'bcwg7xr', 'subordinates', 'dg4z', '_nightmare', 'perspicacious', 'atru', 'j1d3iiacj1', '8x6', 'x11rn', '3303', 'experi', 'cfids', '023b', '_understand_', 'donald_mackie', 'elaj1', 'xveg', '100492', '2650', '1927', 'shenandoah', 'l83', 'vey', 'flirting', 'clling', 'conversationalist', '1qveid', 'annoys', 'reentrant', 'warlike', 'deceits', 'parkinsons', 'wyrd', 'joad', 'vibrating', 'glaze', '7n9', '16550s', '8lz', 'fastload', 'lostweekenders', 'lynchings', 'mhssi', 'xj4', 'oppresses', 'lawmaster', '1542a', 'hudsoib', 'bifida', 'stubs', 'ww85wa', 'pepsico', 'uww', 'movable', 'wzqp8x_', 'g9261', '4771', 'mikem', 'absolving', 'mcclary', 'clamoring', 'emphasised', 'zgb', 'virii', 'bump_map', '18k', 'consistenly', '285wa4f', 'zus', 'admittely', 'prune', '2x2', '1801', 'abcdefghijklmnopqrstuvwxyz', '9028', 'jmuller', 'spices', 'selfcritisism', 'levite', 'unhurt', 'sebinkarahisari', 'mqdw', 't5w1471t7', '4ead', 'broadened', '486clone', 'wpa4', 'uag_x', 'gcd', '4ydi', 'neeracher']\n"
     ]
    }
   ],
   "source": [
    "print('vocabulary size: {}'.format(len(count_vect.vocabulary_)))\n",
    "print('stop word size: {}'.format(len(count_vect.stop_words_)))\n",
    "print('sample vocabulary: {}'.format(list(count_vect.vocabulary_)[:100]))\n",
    "print('sample stop words: {}'.format(list(count_vect.stop_words_)[:100]))"
   ]
  },
  {
   "cell_type": "markdown",
   "metadata": {},
   "source": [
    "## TFIDF特征"
   ]
  },
  {
   "cell_type": "code",
   "execution_count": 22,
   "metadata": {},
   "outputs": [],
   "source": [
    "tfidf_transformer = TfidfTransformer()\n",
    "\n",
    "# 基于整个训练集，提取TFIDF特征\n",
    "X_train_tfidf = tfidf_transformer.fit_transform(X_train_vec)\n",
    "\n",
    "X_train_dev_tfidf = tfidf_transformer.transform(count_vect.transform(X_train_dev))\n",
    "X_val_tfidf = tfidf_transformer.transform(count_vect.transform(X_val))\n",
    "X_test_tfidf = tfidf_transformer.transform(count_vect.transform(X_test))"
   ]
  },
  {
   "cell_type": "code",
   "execution_count": 23,
   "metadata": {},
   "outputs": [
    {
     "name": "stdout",
     "output_type": "stream",
     "text": [
      "(11314, 25636)\n",
      "  (0, 5026)\t0.581918389045\n",
      "  (0, 25060)\t0.139797192887\n",
      "  (0, 8923)\t0.207178247221\n",
      "  (0, 20303)\t0.128309084298\n",
      "  (0, 7160)\t0.105955128335\n",
      "  (0, 8210)\t0.149333039944\n",
      "  (0, 21649)\t0.164625642866\n",
      "  (0, 14259)\t0.136819093622\n",
      "  (0, 13759)\t0.13917463675\n",
      "  (0, 1365)\t0.209173556448\n",
      "  (0, 8494)\t0.127599173216\n",
      "  (0, 1535)\t0.207178247221\n",
      "  (0, 4912)\t0.106820059369\n",
      "  (0, 8211)\t0.174003575375\n",
      "  (0, 18948)\t0.0898028127685\n",
      "  (0, 21233)\t0.114228579665\n",
      "  (0, 2340)\t0.141587386174\n",
      "  (0, 4722)\t0.197575005001\n",
      "  (0, 20658)\t0.1471779418\n",
      "  (0, 19576)\t0.122924846566\n",
      "  (0, 4345)\t0.130336032017\n",
      "  (0, 13542)\t0.0705685577069\n",
      "  (0, 15356)\t0.131237349763\n",
      "  (0, 8898)\t0.144424149927\n",
      "  (0, 21544)\t0.160931591391\n",
      "  (0, 25470)\t0.0935990275764\n",
      "  (0, 18215)\t0.161987583731\n",
      "  (0, 11628)\t0.125115025305\n",
      "  (0, 12432)\t0.113507348505\n",
      "  (0, 10392)\t0.225840786829\n",
      "  (0, 14260)\t0.106089862662\n",
      "  (0, 14511)\t0.101811121618\n"
     ]
    }
   ],
   "source": [
    "print(X_train_tfidf.shape)\n",
    "print(X_train_tfidf[0])"
   ]
  },
  {
   "cell_type": "markdown",
   "metadata": {},
   "source": [
    "## 初始模型评估"
   ]
  },
  {
   "cell_type": "code",
   "execution_count": 24,
   "metadata": {},
   "outputs": [],
   "source": [
    "from sklearn.metrics import accuracy_score\n",
    "\n",
    "def train_predict(learner, sample_size, X_train, y_train, X_val, y_val): \n",
    "    results = {}\n",
    "    start = time()\n",
    "    \n",
    "    learner.fit(X_train[:sample_size], y_train[:sample_size])\n",
    "    end = time()\n",
    "    results['train_time'] = end - start\n",
    "    \n",
    "    start = time()\n",
    "    predictions_val = learner.predict(X_val)\n",
    "    predictions_train = learner.predict(X_train)\n",
    "    end = time()\n",
    "    results['pred_time'] = end - start\n",
    "    \n",
    "    results['name'] = learner.__class__.__name__\n",
    "    results['acc_train'] = accuracy_score(y_train, predictions_train)\n",
    "    results['acc_val'] = accuracy_score(y_val, predictions_val)\n",
    "\n",
    "    print(\"{} trained on {} samples.\".format(learner.__class__.__name__, sample_size))\n",
    "\n",
    "    return results\n"
   ]
  },
  {
   "cell_type": "code",
   "execution_count": 25,
   "metadata": {},
   "outputs": [],
   "source": [
    "def model_metrics(results, title, bar_width=0.2, group_width=0.6, metrics=(('train_time', 'pred_time'), ('acc_train', 'acc_val'))):\n",
    "    fig, ax = plt.subplots(1, 2, figsize = (16,5))\n",
    "    learner_count = len(results)\n",
    "    \n",
    "    for k, learner in enumerate(results.keys()):\n",
    "        for i in range(2):\n",
    "            ax[i].bar(k*group_width, results[learner][metrics[i][0]], width = bar_width, color='green', label=metrics[i][0])\n",
    "            ax[i].text(k*group_width, results[learner][metrics[i][0]]+0.01, '%.2f' % (results[learner][metrics[i][0]]), ha='center', va= 'bottom')\n",
    "            ax[i].bar(k*group_width+bar_width, results[learner][metrics[i][1]], width = bar_width, color='red', label=metrics[i][1])\n",
    "            ax[i].text(k*group_width+bar_width, results[learner][metrics[i][1]]+0.01, '%.2f' % (results[learner][metrics[i][1]]), ha='center', va= 'bottom')\n",
    "\n",
    "    ax[0].set_xticks(np.arange(bar_width/2, learner_count*group_width+bar_width/2, group_width))\n",
    "    ax[0].set_xticklabels(results.keys())\n",
    "    ax[0].set_xlabel(\"Model\")\n",
    "    ax[0].legend(loc='best')\n",
    "    ax[0].set_xlim((-0.1, learner_count*group_width+bar_width))\n",
    "\n",
    "    ax[1].set_xticks(np.arange(bar_width/2, learner_count*group_width+bar_width/2, group_width))\n",
    "    ax[1].set_xticklabels(results.keys())\n",
    "    ax[1].set_xlabel(\"Model\")\n",
    "    ax[1].legend(loc='best')\n",
    "    ax[1].set_xlim((-0.1, learner_count*group_width+bar_width))\n",
    "    \n",
    "    # Add unique y-labels\n",
    "    ax[0].set_ylabel(\"Time (in seconds)\")\n",
    "    ax[1].set_ylabel(\"Accuracy Score\")\n",
    "    \n",
    "    # Add titles\n",
    "    ax[0].set_title(\"Model Time\")\n",
    "    ax[1].set_title(\"Accuracy Score\")\n",
    "    \n",
    "    # Set y-limits for score panels\n",
    "    #ax[1].set_ylim((0, 1))\n",
    "\n",
    "    plt.suptitle(title, fontsize = 16, y = 1.10)\n",
    "    #plt.tight_layout()\n",
    "    plt.show()"
   ]
  },
  {
   "cell_type": "code",
   "execution_count": 26,
   "metadata": {},
   "outputs": [],
   "source": [
    "from sklearn.tree import DecisionTreeClassifier\n",
    "from sklearn.naive_bayes import MultinomialNB\n",
    "from sklearn.svm import LinearSVC"
   ]
  },
  {
   "cell_type": "code",
   "execution_count": 27,
   "metadata": {},
   "outputs": [],
   "source": [
    "base_results = {}"
   ]
  },
  {
   "cell_type": "code",
   "execution_count": 28,
   "metadata": {},
   "outputs": [
    {
     "name": "stdout",
     "output_type": "stream",
     "text": [
      "DecisionTreeClassifier trained on 9051 samples.\n",
      "{'acc_train': 0.99889514970721471,\n",
      " 'acc_val': 0.64692885550154666,\n",
      " 'name': 'DecisionTreeClassifier',\n",
      " 'pred_time': 0.048999786376953125,\n",
      " 'train_time': 17.07800030708313}\n"
     ]
    }
   ],
   "source": [
    "tree = DecisionTreeClassifier(random_state=0)\n",
    "base_results['DecisionTree'] = train_predict(tree, X_train_dev_tfidf.shape[0], X_train_dev_tfidf, y_train_dev, X_val_tfidf, y_val)\n",
    "pprint(base_results['DecisionTree'])"
   ]
  },
  {
   "cell_type": "code",
   "execution_count": 29,
   "metadata": {},
   "outputs": [
    {
     "name": "stdout",
     "output_type": "stream",
     "text": [
      "MultinomialNB trained on 9051 samples.\n",
      "{'acc_train': 0.929289581261739,\n",
      " 'acc_val': 0.84003535130357931,\n",
      " 'name': 'MultinomialNB',\n",
      " 'pred_time': 0.0559999942779541,\n",
      " 'train_time': 0.10500001907348633}\n"
     ]
    }
   ],
   "source": [
    "mnb = MultinomialNB()\n",
    "base_results['NaiveBayes'] = train_predict(mnb, X_train_dev_tfidf.shape[0], X_train_dev_tfidf, y_train_dev, X_val_tfidf, y_val)\n",
    "pprint(base_results['NaiveBayes'])"
   ]
  },
  {
   "cell_type": "code",
   "execution_count": 30,
   "metadata": {},
   "outputs": [
    {
     "name": "stdout",
     "output_type": "stream",
     "text": [
      "LinearSVC trained on 9051 samples.\n",
      "{'acc_train': 0.99701690420947964,\n",
      " 'acc_val': 0.8877596111356606,\n",
      " 'name': 'LinearSVC',\n",
      " 'pred_time': 0.07399988174438477,\n",
      " 'train_time': 5.328000068664551}\n"
     ]
    }
   ],
   "source": [
    "svm = LinearSVC(random_state=0)\n",
    "base_results['SVM'] = train_predict(svm, X_train_dev_tfidf.shape[0], X_train_dev_tfidf, y_train_dev, X_val_tfidf, y_val)\n",
    "pprint(base_results['SVM'])"
   ]
  },
  {
   "cell_type": "code",
   "execution_count": 31,
   "metadata": {},
   "outputs": [
    {
     "data": {
      "image/png": "[encoded data removed]",
      "text/plain": [
       "<matplotlib.figure.Figure at 0xf278390>"
      ]
     },
     "metadata": {},
     "output_type": "display_data"
    }
   ],
   "source": [
    "model_metrics(base_results, 'Performance Metrics for Basic Models')"
   ]
  },
  {
   "cell_type": "markdown",
   "metadata": {},
   "source": [
    "## 模型调优"
   ]
  },
  {
   "cell_type": "markdown",
   "metadata": {},
   "source": [
    "使用grid search寻找最优参数。"
   ]
  },
  {
   "cell_type": "code",
   "execution_count": 32,
   "metadata": {},
   "outputs": [],
   "source": [
    "from sklearn.model_selection import GridSearchCV\n",
    "def grid_search_cv(classifier, parameters, X_train, y_train):\n",
    "    '''\n",
    "    return metrics for the best model\n",
    "    '''\n",
    "    results = {}\n",
    "    search = GridSearchCV(classifier(), parameters, cv=5, n_jobs=cpu_count()-1, return_train_score=True)\n",
    "\n",
    "    search.fit(X_train, y_train)\n",
    "\n",
    "    print('GridSearch for {}'.format(classifier.__name__))\n",
    "    print('best params: {}'.format(search.best_params_))\n",
    "    print('best score: {}'.format(search.best_score_))\n",
    "    \n",
    "    results['name'] = classifier.__name__\n",
    "    results['search'] = search\n",
    "    results['mean_train_time'] = np.mean(search.cv_results_['mean_fit_time'])\n",
    "    results['mean_pred_time'] = np.mean(search.cv_results_['mean_score_time'])\n",
    "    results['best_acc_train'] = search.cv_results_['mean_train_score'][search.best_index_]\n",
    "    results['best_acc_val'] = search.cv_results_['mean_test_score'][search.best_index_]\n",
    "\n",
    "    return results"
   ]
  },
  {
   "cell_type": "code",
   "execution_count": 33,
   "metadata": {},
   "outputs": [],
   "source": [
    "improve_results = {}"
   ]
  },
  {
   "cell_type": "code",
   "execution_count": 34,
   "metadata": {},
   "outputs": [
    {
     "name": "stdout",
     "output_type": "stream",
     "text": [
      "GridSearch for DecisionTreeClassifier\n",
      "best params: {'max_depth': 500, 'min_samples_leaf': 2}\n",
      "best score: 0.6149902775322609\n"
     ]
    }
   ],
   "source": [
    "parameters = {'max_depth': [10, 50, 100, 200, 500], 'min_samples_leaf': [2, 5, 10, 20, 50]}\n",
    "improve_results['DecisionTree'] = grid_search_cv(DecisionTreeClassifier, parameters, X_train_tfidf, y_train)"
   ]
  },
  {
   "cell_type": "code",
   "execution_count": 35,
   "metadata": {},
   "outputs": [
    {
     "name": "stdout",
     "output_type": "stream",
     "text": [
      "GridSearch for MultinomialNB\n",
      "best params: {'alpha': 0.04}\n",
      "best score: 0.8706911790701786\n"
     ]
    }
   ],
   "source": [
    "parameters = {'alpha': [.0001, .001, .01, .02, .03, .04, .05, .06, .1, .3, .5, .8]}\n",
    "improve_results['NaiveBayes'] = grid_search_cv(MultinomialNB, parameters, X_train_tfidf, y_train)"
   ]
  },
  {
   "cell_type": "code",
   "execution_count": 36,
   "metadata": {},
   "outputs": [
    {
     "name": "stdout",
     "output_type": "stream",
     "text": [
      "GridSearch for LinearSVC\n",
      "best params: {'C': 0.8}\n",
      "best score: 0.88103234930175\n"
     ]
    }
   ],
   "source": [
    "parameters = {'C': [.1, .3, .5, .8, 1.0]}\n",
    "improve_results['SVM'] = grid_search_cv(LinearSVC, parameters, X_train_tfidf, y_train)"
   ]
  },
  {
   "cell_type": "code",
   "execution_count": 37,
   "metadata": {},
   "outputs": [],
   "source": [
    "with open('improve_results.pkz', 'wb') as fp:\n",
    "    pickle.dump(improve_results, fp)"
   ]
  },
  {
   "cell_type": "code",
   "execution_count": 38,
   "metadata": {},
   "outputs": [],
   "source": [
    "if os.path.isfile('improve_results.pkz'):\n",
    "    with open('improve_results.pkz', 'rb') as fp:\n",
    "        improve_results = pickle.load(fp)"
   ]
  },
  {
   "cell_type": "code",
   "execution_count": 39,
   "metadata": {},
   "outputs": [
    {
     "data": {
      "image/png": "[encoded data removed]",
      "text/plain": [
       "<matplotlib.figure.Figure at 0xf2c6240>"
      ]
     },
     "metadata": {},
     "output_type": "display_data"
    }
   ],
   "source": [
    "model_metrics(improve_results, 'Performance Metrics for Best Models',\n",
    "              metrics=(('mean_train_time', 'mean_pred_time'), ('best_acc_train', 'best_acc_val')))"
   ]
  },
  {
   "cell_type": "markdown",
   "metadata": {},
   "source": [
    "### 在测试集上的表现"
   ]
  },
  {
   "cell_type": "code",
   "execution_count": 40,
   "metadata": {},
   "outputs": [
    {
     "name": "stdout",
     "output_type": "stream",
     "text": [
      "DecisionTree test set acc: 0.54182156133829\n",
      "NaiveBayes test set acc: 0.7837227827934148\n",
      "SVM test set acc: 0.7869091874668083\n"
     ]
    }
   ],
   "source": [
    "model_names = ['DecisionTree', 'NaiveBayes', 'SVM']\n",
    "for model_name in model_names:\n",
    "    if model_name not in improve_results:\n",
    "        continue\n",
    "    print('{} test set acc: {}'.format(model_name, improve_results[model_name]['search'].best_estimator_.score(X_test_tfidf, y_test)))"
   ]
  },
  {
   "cell_type": "markdown",
   "metadata": {},
   "source": [
    "### 基于最优模型的最优参数进一步调参"
   ]
  },
  {
   "cell_type": "code",
   "execution_count": 8,
   "metadata": {},
   "outputs": [],
   "source": [
    "from sklearn.pipeline import make_pipeline"
   ]
  },
  {
   "cell_type": "code",
   "execution_count": 27,
   "metadata": {},
   "outputs": [],
   "source": [
    "from nltk import word_tokenize\n",
    "from nltk.stem import WordNetLemmatizer \n",
    "from nltk.stem.porter import PorterStemmer\n",
    "\n",
    "punctuation_set = set(r',<.>/?;:\\'\"[{]}\\|`~-_=+!@#$%^&*()')\n",
    "\n",
    "class LemmaTokenizer(object):\n",
    "    def __init__(self):\n",
    "        self.wnl = WordNetLemmatizer()\n",
    "    def __call__(self, doc):\n",
    "        return [self.wnl.lemmatize(t) for t in word_tokenize(doc) if t not in punctuation_set]\n",
    "    \n",
    "class StemmerTokenizer(object):\n",
    "    def __init__(self):\n",
    "        self.stemmer = PorterStemmer()\n",
    "    def __call__(self, doc):\n",
    "        return [self.stemmer.stem(t) for t in word_tokenize(doc) if t not in punctuation_set]\n"
   ]
  },
  {
   "cell_type": "code",
   "execution_count": 37,
   "metadata": {},
   "outputs": [
    {
     "name": "stdout",
     "output_type": "stream",
     "text": [
      "Pipeline trained on 11314 samples.\n",
      "{'train_time': 82.76827621459961, 'pred_time': 147.26672506332397, 'name': 'Pipeline', 'acc_train': 0.97003712214954918, 'acc_val': 0.77920870950610732}\n"
     ]
    }
   ],
   "source": [
    "pipeline_raw = make_pipeline(CountVectorizer(stop_words='english', min_df=3, max_df=0.95, ngram_range=(1,2)),\n",
    "                        TfidfTransformer(),\n",
    "                        MultinomialNB(alpha=0.04))\n",
    "print(train_predict(pipeline, len(X_train), X_train, y_train, X_test, y_test))"
   ]
  },
  {
   "cell_type": "code",
   "execution_count": 22,
   "metadata": {},
   "outputs": [
    {
     "name": "stdout",
     "output_type": "stream",
     "text": [
      "Pipeline trained on 11314 samples.\n",
      "{'train_time': 41.592000007629395, 'pred_time': 66.22899985313416, 'name': 'Pipeline', 'acc_train': 0.97604737493371041, 'acc_val': 0.77907594264471591}\n"
     ]
    }
   ],
   "source": [
    "pipeline_lemma = make_pipeline(CountVectorizer(stop_words='english', min_df=3, max_df=0.95, tokenizer=LemmaTokenizer()),\n",
    "                        TfidfTransformer(),\n",
    "                        MultinomialNB(alpha=0.04))\n",
    "print(train_predict(pipeline, len(X_train), X_train, y_train, X_test, y_test))"
   ]
  },
  {
   "cell_type": "code",
   "execution_count": 28,
   "metadata": {},
   "outputs": [
    {
     "name": "stdout",
     "output_type": "stream",
     "text": [
      "Pipeline trained on 11314 samples.\n",
      "{'train_time': 88.96980309486389, 'pred_time': 131.66370272636414, 'name': 'Pipeline', 'acc_train': 0.97003712214954918, 'acc_val': 0.77920870950610732}\n"
     ]
    }
   ],
   "source": [
    "pipeline_stemmer = make_pipeline(CountVectorizer(stop_words='english', min_df=3, max_df=0.95, tokenizer=StemmerTokenizer()),\n",
    "                        TfidfTransformer(),\n",
    "                        MultinomialNB(alpha=0.04))\n",
    "print(train_predict(pipeline, len(X_train), X_train, y_train, X_test, y_test))"
   ]
  },
  {
   "cell_type": "markdown",
   "metadata": {},
   "source": [
    "# 模型分析"
   ]
  },
  {
   "cell_type": "code",
   "execution_count": 66,
   "metadata": {},
   "outputs": [
    {
     "name": "stdout",
     "output_type": "stream",
     "text": [
      "alt.atheism: don islam morality writes people atheism keith atheists edu god\n",
      "comp.graphics: polygon images program file edu thanks 3d files image graphics\n",
      "comp.os.ms-windows.misc: ms use card drivers driver files edu dos file windows\n",
      "comp.sys.ibm.pc.hardware: dos disk thanks pc controller bus ide card drive scsi\n",
      "comp.sys.mac.hardware: thanks duo simms monitor centris quadra edu drive apple mac\n",
      "comp.windows.x: program com thanks application xterm x11r5 widget server motif window\n",
      "misc.forsale: mail forsale price edu condition new shipping offer 00 sale\n",
      "rec.autos: dealer just article oil writes engine edu com cars car\n",
      "rec.motorcycles: bmw writes edu article motorcycle bikes ride com dod bike\n",
      "rec.sport.baseball: pitching writes runs games players game team year edu baseball\n",
      "rec.sport.hockey: games edu season players ca play nhl game team hockey\n",
      "sci.crypt: com nsa crypto escrow government keys chip encryption clipper key\n",
      "sci.electronics: need radar phone com does know power circuit use edu\n",
      "sci.med: geb gordon article food disease doctor pitt com edu msg\n",
      "sci.space: lunar writes shuttle launch henry orbit edu moon nasa space\n",
      "soc.religion.christian: rutgers faith people christ christian bible church christians jesus god\n",
      "talk.politics.guns: waco firearms weapons batf com fbi people edu guns gun\n",
      "talk.politics.mideast: edu armenia people arab armenians armenian turkish jews israeli israel\n",
      "talk.politics.misc: tax gay government clinton article writes cramer people com edu\n",
      "talk.religion.misc: koresh objective edu people morality com sandvik christian jesus god\n"
     ]
    }
   ],
   "source": [
    "def show_top10(classifier, vectorizer, categories):\n",
    "    feature_names = np.asarray(vectorizer.get_feature_names())\n",
    "    for i, category in enumerate(categories):\n",
    "        top10 = np.argsort(classifier.coef_[i])[-10:]\n",
    "        print(\"%s: %s\" % (category, \" \".join(feature_names[top10])))\n",
    "\n",
    "show_top10(improve_results['NaiveBayes']['search'].best_estimator_, count_vect, newsgroups_target_names)"
   ]
  },
  {
   "cell_type": "code",
   "execution_count": null,
   "metadata": {},
   "outputs": [],
   "source": [
    "from sklearn import metrics\n",
    "\n",
    "predicted = improve_results['NaiveBayes']['search'].best_estimator_.predict(X_val_tfidf)\n",
    "print(metrics.classification_report(y_val, predicted, target_names=newsgroups_all.target_names))"
   ]
  },
  {
   "cell_type": "code",
   "execution_count": null,
   "metadata": {},
   "outputs": [],
   "source": [
    "metrics.confusion_matrix(y_val, predicted)"
   ]
  },
  {
   "cell_type": "code",
   "execution_count": 43,
   "metadata": {},
   "outputs": [],
   "source": [
    "from sklearn.model_selection import validation_curve\n",
    "from sklearn.model_selection import learning_curve\n"
   ]
  },
  {
   "cell_type": "code",
   "execution_count": 44,
   "metadata": {},
   "outputs": [],
   "source": [
    "#http://scikit-learn.org/stable/auto_examples/model_selection/plot_learning_curve.html#sphx-glr-auto-examples-model-selection-plot-learning-curve-py\n",
    "def plot_learning_curve(estimator, title, X, y, ylim=None, cv=None,\n",
    "                        n_jobs=1, train_sizes=np.linspace(.1, 1.0, 5)):\n",
    "    \"\"\"\n",
    "    Generate a simple plot of the test and training learning curve.\n",
    "\n",
    "    Parameters\n",
    "    ----------\n",
    "    estimator : object type that implements the \"fit\" and \"predict\" methods\n",
    "        An object of that type which is cloned for each validation.\n",
    "\n",
    "    title : string\n",
    "        Title for the chart.\n",
    "\n",
    "    X : array-like, shape (n_samples, n_features)\n",
    "        Training vector, where n_samples is the number of samples and\n",
    "        n_features is the number of features.\n",
    "\n",
    "    y : array-like, shape (n_samples) or (n_samples, n_features), optional\n",
    "        Target relative to X for classification or regression;\n",
    "        None for unsupervised learning.\n",
    "\n",
    "    ylim : tuple, shape (ymin, ymax), optional\n",
    "        Defines minimum and maximum yvalues plotted.\n",
    "\n",
    "    cv : int, cross-validation generator or an iterable, optional\n",
    "        Determines the cross-validation splitting strategy.\n",
    "        Possible inputs for cv are:\n",
    "          - None, to use the default 3-fold cross-validation,\n",
    "          - integer, to specify the number of folds.\n",
    "          - An object to be used as a cross-validation generator.\n",
    "          - An iterable yielding train/test splits.\n",
    "\n",
    "        For integer/None inputs, if ``y`` is binary or multiclass,\n",
    "        :class:`StratifiedKFold` used. If the estimator is not a classifier\n",
    "        or if ``y`` is neither binary nor multiclass, :class:`KFold` is used.\n",
    "\n",
    "        Refer :ref:`User Guide <cross_validation>` for the various\n",
    "        cross-validators that can be used here.\n",
    "\n",
    "    n_jobs : integer, optional\n",
    "        Number of jobs to run in parallel (default 1).\n",
    "    \"\"\"\n",
    "    plt.figure()\n",
    "    plt.title(title)\n",
    "    if ylim is not None:\n",
    "        plt.ylim(*ylim)\n",
    "    plt.xlabel(\"Training examples\")\n",
    "    plt.ylabel(\"Score\")\n",
    "    train_sizes, train_scores, test_scores = learning_curve(\n",
    "        estimator, X, y, cv=cv, n_jobs=n_jobs, train_sizes=train_sizes)\n",
    "    train_scores_mean = np.mean(train_scores, axis=1)\n",
    "    train_scores_std = np.std(train_scores, axis=1)\n",
    "    test_scores_mean = np.mean(test_scores, axis=1)\n",
    "    test_scores_std = np.std(test_scores, axis=1)\n",
    "    plt.grid()\n",
    "\n",
    "    plt.fill_between(train_sizes, train_scores_mean - train_scores_std,\n",
    "                     train_scores_mean + train_scores_std, alpha=0.1,\n",
    "                     color=\"r\")\n",
    "    plt.fill_between(train_sizes, test_scores_mean - test_scores_std,\n",
    "                     test_scores_mean + test_scores_std, alpha=0.1, color=\"g\")\n",
    "    plt.plot(train_sizes, train_scores_mean, 'o-', color=\"r\",\n",
    "             label=\"Training score\")\n",
    "    plt.plot(train_sizes, test_scores_mean, 'o-', color=\"g\",\n",
    "             label=\"Cross-validation score\")\n",
    "\n",
    "    plt.legend(loc=\"best\")\n",
    "    return plt\n"
   ]
  },
  {
   "cell_type": "code",
   "execution_count": 46,
   "metadata": {},
   "outputs": [],
   "source": [
    "def plot_validation_curve(estimator, title, X, y, param_name, param_range, ylim=None, cv=None, \n",
    "                        n_jobs=1, train_sizes=np.linspace(.1, 1.0, 5)):\n",
    "    \"\"\"\n",
    "    Generate a simple plot of the test and training learning curve.\n",
    "\n",
    "    Parameters\n",
    "    ----------\n",
    "    estimator : object type that implements the \"fit\" and \"predict\" methods\n",
    "        An object of that type which is cloned for each validation.\n",
    "\n",
    "    title : string\n",
    "        Title for the chart.\n",
    "\n",
    "    X : array-like, shape (n_samples, n_features)\n",
    "        Training vector, where n_samples is the number of samples and\n",
    "        n_features is the number of features.\n",
    "\n",
    "    y : array-like, shape (n_samples) or (n_samples, n_features), optional\n",
    "        Target relative to X for classification or regression;\n",
    "        None for unsupervised learning.\n",
    "\n",
    "    ylim : tuple, shape (ymin, ymax), optional\n",
    "        Defines minimum and maximum yvalues plotted.\n",
    "\n",
    "    cv : int, cross-validation generator or an iterable, optional\n",
    "        Determines the cross-validation splitting strategy.\n",
    "        Possible inputs for cv are:\n",
    "          - None, to use the default 3-fold cross-validation,\n",
    "          - integer, to specify the number of folds.\n",
    "          - An object to be used as a cross-validation generator.\n",
    "          - An iterable yielding train/test splits.\n",
    "\n",
    "        For integer/None inputs, if ``y`` is binary or multiclass,\n",
    "        :class:`StratifiedKFold` used. If the estimator is not a classifier\n",
    "        or if ``y`` is neither binary nor multiclass, :class:`KFold` is used.\n",
    "\n",
    "        Refer :ref:`User Guide <cross_validation>` for the various\n",
    "        cross-validators that can be used here.\n",
    "\n",
    "    n_jobs : integer, optional\n",
    "        Number of jobs to run in parallel (default 1).\n",
    "    \"\"\"\n",
    "    plt.figure()\n",
    "    plt.title(title)\n",
    "    if ylim is not None:\n",
    "        plt.ylim(*ylim)\n",
    "    plt.xlabel(param_name)\n",
    "    plt.ylabel(\"Score\")\n",
    "\n",
    "    train_scores, test_scores = validation_curve(\n",
    "        estimator, X, y, param_name=param_name, param_range=param_range,\n",
    "        cv=cv, n_jobs=n_jobs)\n",
    "    train_scores_mean = np.mean(train_scores, axis=1)\n",
    "    train_scores_std = np.std(train_scores, axis=1)\n",
    "    test_scores_mean = np.mean(test_scores, axis=1)\n",
    "    test_scores_std = np.std(test_scores, axis=1)\n",
    "\n",
    "    lw = 2\n",
    "    plt.semilogx(param_range, train_scores_mean, label=\"Training score\",\n",
    "                 color=\"darkorange\", lw=lw)\n",
    "    plt.fill_between(param_range, train_scores_mean - train_scores_std,\n",
    "                     train_scores_mean + train_scores_std, alpha=0.2,\n",
    "                     color=\"darkorange\", lw=lw)\n",
    "    plt.semilogx(param_range, test_scores_mean, label=\"Cross-validation score\",\n",
    "                 color=\"navy\", lw=lw)\n",
    "    plt.fill_between(param_range, test_scores_mean - test_scores_std,\n",
    "                     test_scores_mean + test_scores_std, alpha=0.2,\n",
    "                     color=\"navy\", lw=lw)\n",
    "    plt.legend(loc=\"best\")\n",
    "    return plt"
   ]
  },
  {
   "cell_type": "code",
   "execution_count": 51,
   "metadata": {},
   "outputs": [
    {
     "data": {
      "image/png": "[encoded data removed]",
      "text/plain": [
       "<matplotlib.figure.Figure at 0xf3dea20>"
      ]
     },
     "metadata": {},
     "output_type": "display_data"
    }
   ],
   "source": [
    "plot_learning_curve(improve_results['NaiveBayes']['search'].best_estimator_, 'Learning Curve NaiveBayes', X_train_tfidf, y_train, (0.4, 1.01), cv=5, n_jobs=cpu_count()-1)\n",
    "\n",
    "plt.show()"
   ]
  },
  {
   "cell_type": "code",
   "execution_count": 53,
   "metadata": {},
   "outputs": [
    {
     "data": {
      "image/png": "[encoded data removed]",
      "text/plain": [
       "<matplotlib.figure.Figure at 0xa253978>"
      ]
     },
     "metadata": {},
     "output_type": "display_data"
    }
   ],
   "source": [
    "plot_validation_curve(improve_results['NaiveBayes']['search'].best_estimator_, 'Validation Curve NaiveBayes', \n",
    "                      X_train_tfidf, y_train, \n",
    "                      'alpha', np.linspace(.1, 1.0, 20),\n",
    "                      (0.7, 1.01), cv=5, n_jobs=cpu_count()-1)\n",
    "\n",
    "plt.show()"
   ]
  },
  {
   "cell_type": "markdown",
   "metadata": {},
   "source": [
    "# 深度模型"
   ]
  },
  {
   "cell_type": "markdown",
   "metadata": {},
   "source": [
    "## 词向量word2vec"
   ]
  },
  {
   "cell_type": "code",
   "execution_count": 65,
   "metadata": {},
   "outputs": [],
   "source": [
    "import gensim\n",
    "from gensim.models import word2vec\n",
    "\n",
    "EMBEDDING_DIM = 100"
   ]
  },
  {
   "cell_type": "code",
   "execution_count": 40,
   "metadata": {},
   "outputs": [
    {
     "name": "stdout",
     "output_type": "stream",
     "text": [
      "word2vec model loaded from disk\n"
     ]
    }
   ],
   "source": [
    "if not os.path.isfile('word2vec/text8.model'):\n",
    "    sentences = word2vec.Text8Corpus('word2vec/text8')\n",
    "    wv_text8 = word2vec.Word2Vec(sentences, sg=0, size=EMBEDDING_DIM, workers=4)\n",
    "    wv_text8.save('word2vec/text8.model')\n",
    "    print('word2vec model trained and saved')\n",
    "else:\n",
    "    wv_text8 = word2vec.Word2Vec.load('word2vec/text8.model')\n",
    "    print('word2vec model loaded from disk')"
   ]
  },
  {
   "cell_type": "code",
   "execution_count": 72,
   "metadata": {
    "scrolled": true
   },
   "outputs": [],
   "source": [
    "def word2vec_accuracy(word_vector):\n",
    "    word2vec_acc = word_vector.accuracy('word2vec/questions-words.txt')\n",
    "    section_acc = {}\n",
    "    total_correct = 0\n",
    "    total_incorrect = 0\n",
    "    for section in word2vec_acc:\n",
    "        correct = len(section['correct'])\n",
    "        incorrect = len(section['incorrect'])\n",
    "        section_acc[section['section']] = float(correct) / (correct + incorrect)\n",
    "        total_correct += correct\n",
    "        total_incorrect += incorrect\n",
    "    section_acc['total'] = float(total_correct) / (total_correct + total_incorrect)\n",
    "    return section_acc"
   ]
  },
  {
   "cell_type": "code",
   "execution_count": 108,
   "metadata": {},
   "outputs": [],
   "source": [
    "def word2vec_min_max(word_vector):\n",
    "    cur_min = float('inf')\n",
    "    cur_max = -float('inf')\n",
    "    for key in word_vector.vocab:\n",
    "        for value in word_vector[key]:\n",
    "            if value > cur_max:\n",
    "                cur_max = value\n",
    "            if value < cur_min:\n",
    "                cur_min = value\n",
    "    return cur_min, cur_max"
   ]
  },
  {
   "cell_type": "code",
   "execution_count": 109,
   "metadata": {},
   "outputs": [
    {
     "data": {
      "text/plain": [
       "(-5.1268196, 5.4787431)"
      ]
     },
     "execution_count": 109,
     "metadata": {},
     "output_type": "execute_result"
    }
   ],
   "source": [
    "word2vec_min_max(wv_text8.wv)"
   ]
  },
  {
   "cell_type": "code",
   "execution_count": 73,
   "metadata": {},
   "outputs": [
    {
     "name": "stdout",
     "output_type": "stream",
     "text": [
      "{'capital-common-countries': 0.36363636363636365, 'capital-world': 0.18663911845730027, 'currency': 0.11194029850746269, 'city-in-state': 0.10502864417568428, 'family': 0.7777777777777778, 'gram1-adjective-to-adverb': 0.12566137566137567, 'gram2-opposite': 0.1437908496732026, 'gram3-comparative': 0.6039682539682539, 'gram4-superlative': 0.3675889328063241, 'gram5-present-participle': 0.30544354838709675, 'gram6-nationality-adjective': 0.524434719183078, 'gram7-past-tense': 0.2605105105105105, 'gram8-plural': 0.4415322580645161, 'gram9-plural-verbs': 0.33692307692307694, 'total': 0.32605151613955}\n"
     ]
    }
   ],
   "source": [
    "print(word2vec_accuracy(wv_text8.wv))"
   ]
  },
  {
   "cell_type": "code",
   "execution_count": 62,
   "metadata": {},
   "outputs": [
    {
     "name": "stdout",
     "output_type": "stream",
     "text": [
      "((0.60493981974836086, 2.0733695480321427e-36), SpearmanrResult(correlation=0.6199870461537087, pvalue=1.1761399634390484e-38), 0.56657223796034)\n"
     ]
    }
   ],
   "source": [
    "print(wv_text8.wv.evaluate_word_pairs('word2vec/wordsim353.tsv'))"
   ]
  },
  {
   "cell_type": "markdown",
   "metadata": {},
   "source": [
    "## 词向量Glovec 预训练"
   ]
  },
  {
   "cell_type": "code",
   "execution_count": 67,
   "metadata": {},
   "outputs": [],
   "source": [
    "from gensim.scripts.glove2word2vec import glove2word2vec\n",
    "\n",
    "if not os.path.isfile('word2vec/glove2word2vec.6B.100d.txt'):\n",
    "    glove2word2vec('word2vec/glove.6B.100d.txt', 'word2vec/glove2word2vec.6B.100d.txt')\n",
    "\n",
    "wv_glove = gensim.models.KeyedVectors.load_word2vec_format('word2vec/glove2word2vec.6B.100d.txt',binary=False)"
   ]
  },
  {
   "cell_type": "code",
   "execution_count": 110,
   "metadata": {},
   "outputs": [
    {
     "data": {
      "text/plain": [
       "(-4.0665998, 3.575)"
      ]
     },
     "execution_count": 110,
     "metadata": {},
     "output_type": "execute_result"
    }
   ],
   "source": [
    "word2vec_min_max(wv_glove.wv)"
   ]
  },
  {
   "cell_type": "code",
   "execution_count": 68,
   "metadata": {},
   "outputs": [
    {
     "name": "stdout",
     "output_type": "stream",
     "text": [
      "{'capital-common-countries': 0.9426877470355731, 'capital-world': 0.8939226519337017, 'currency': 0.17796610169491525, 'city-in-state': 0.31230140717203814, 'family': 0.8771929824561403, 'gram1-adjective-to-adverb': 0.2206896551724138, 'gram2-opposite': 0.23421052631578948, 'gram3-comparative': 0.7935435435435435, 'gram4-superlative': 0.5983333333333334, 'gram5-present-participle': 0.6946236559139785, 'gram6-nationality-adjective': 0.9487889273356401, 'gram7-past-tense': 0.5544871794871795, 'gram8-plural': 0.7793560606060606, 'gram9-plural-verbs': 0.5797720797720798, 'total': 0.6549035423808564}\n"
     ]
    }
   ],
   "source": [
    "print(word2vec_accuracy(wv_glove.wv))"
   ]
  },
  {
   "cell_type": "code",
   "execution_count": 69,
   "metadata": {},
   "outputs": [
    {
     "name": "stdout",
     "output_type": "stream",
     "text": [
      "((0.5483502271903985, 4.2350974945224685e-29), SpearmanrResult(correlation=0.53273543232382736, pvalue=2.8654146580558905e-27), 0.0)\n"
     ]
    }
   ],
   "source": [
    "print(wv_glove.wv.evaluate_word_pairs('word2vec/wordsim353.tsv'))"
   ]
  },
  {
   "cell_type": "code",
   "execution_count": 74,
   "metadata": {},
   "outputs": [],
   "source": [
    "def load_glove():\n",
    "    embeddings_index = {}\n",
    "    f = open('word2vec/glove.6B.100d.txt', encoding='utf8')\n",
    "\n",
    "    for line in f:\n",
    "        values = line.split()\n",
    "        word = values[0]\n",
    "        coefs = np.asarray(values[1:], dtype='float32')\n",
    "        embeddings_index[word] = coefs\n",
    "\n",
    "    f.close()\n",
    "    print('Found %s word vectors.' % len(embeddings_index))\n",
    "    return embeddings_index\n"
   ]
  },
  {
   "cell_type": "markdown",
   "metadata": {},
   "source": [
    "# 深度模型"
   ]
  },
  {
   "cell_type": "code",
   "execution_count": 192,
   "metadata": {},
   "outputs": [],
   "source": [
    "from keras.preprocessing.text import Tokenizer\n",
    "from keras.preprocessing.sequence import pad_sequences\n",
    "from keras.utils import to_categorical\n",
    "from keras.layers import Dense, Input, GlobalMaxPooling1D, Dropout, Flatten, Merge\n",
    "from keras.layers import Conv1D, Convolution1D, Activation, MaxPooling1D, MaxPool1D, GRU, Embedding, LSTM\n",
    "from keras.models import Model, Sequential\n",
    "from keras import regularizers\n",
    "from keras.callbacks import EarlyStopping\n",
    "\n",
    "MAX_SEQUENCE_LENGTH = 1000\n",
    "MAX_NUM_WORDS = 20000\n",
    "EMBEDDING_DIM = 100"
   ]
  },
  {
   "cell_type": "code",
   "execution_count": 82,
   "metadata": {},
   "outputs": [],
   "source": [
    "class FixLengthTokenizer():\n",
    "    '''\n",
    "    tokenize doc and padding to fix length\n",
    "    '''\n",
    "    def __init__(self, num_words, maxlen):\n",
    "        self.tokenizer = Tokenizer(num_words=num_words)\n",
    "        self.word_index = {}\n",
    "        self.is_fitted = False\n",
    "        self.maxlen = maxlen\n",
    "    \n",
    "    def fit(self, raw_documents):\n",
    "        self.tokenizer.fit_on_texts(raw_documents)\n",
    "        self.word_index = self.tokenizer.word_index\n",
    "        self.is_fitted = True\n",
    "    \n",
    "    def transform(self, raw_documents):\n",
    "        if not self.is_fitted:\n",
    "            raise Exception('tokenizer not fitted yet')\n",
    "        return pad_sequences(self.tokenizer.texts_to_sequences(raw_documents), maxlen=self.maxlen)"
   ]
  },
  {
   "cell_type": "code",
   "execution_count": 181,
   "metadata": {},
   "outputs": [
    {
     "name": "stdout",
     "output_type": "stream",
     "text": [
      "Processing text dataset\n",
      "Found 91983 unique tokens.\n",
      "Shape of train data tensor: (9051, 1000)\n",
      "Shape of train label tensor: (9051, 20)\n"
     ]
    }
   ],
   "source": [
    "print('Processing text dataset')\n",
    "\n",
    "vectorizer = FixLengthTokenizer(MAX_NUM_WORDS, MAX_SEQUENCE_LENGTH)\n",
    "vectorizer.fit(X_train)\n",
    "\n",
    "print('Found %s unique tokens.' % len(vectorizer.word_index))\n",
    "\n",
    "X_train_dl = vectorizer.transform(X_train_dev)\n",
    "y_train_dl = to_categorical(np.asarray(y_train_dev), num_classes=20)\n",
    "\n",
    "X_val_dl = vectorizer.transform(X_val)\n",
    "y_val_dl = to_categorical(np.asarray(y_val), num_classes=20)\n",
    "\n",
    "X_test_dl = vectorizer.transform(X_test)\n",
    "y_test_dl = to_categorical(np.asarray(y_test), num_classes=20)\n",
    "\n",
    "print('Shape of train data tensor:', X_train_dl.shape)\n",
    "print('Shape of train label tensor:', y_train_dl.shape)"
   ]
  },
  {
   "cell_type": "code",
   "execution_count": 157,
   "metadata": {},
   "outputs": [],
   "source": [
    "def build_embedding_matrix(word_vector, word_index, num_words, embedding_dim, random_initialize=False):\n",
    "    # no word idx 0, embedding size num_words+1\n",
    "    embedding_matrix = np.zeros((num_words+1, embedding_dim))\n",
    "\n",
    "    for word, i in word_index.items():\n",
    "        if i > num_words:\n",
    "            continue\n",
    "        if word in word_vector:\n",
    "            embedding_matrix[i] = word_vector[word]\n",
    "        else:\n",
    "            if random_initialize:\n",
    "                embedding_matrix[i] = np.random.uniform(-5, 5, embedding_dim)\n",
    "    \n",
    "    return embedding_matrix"
   ]
  },
  {
   "cell_type": "code",
   "execution_count": 163,
   "metadata": {},
   "outputs": [
    {
     "name": "stdout",
     "output_type": "stream",
     "text": [
      "embedding matrix shape: (20001, 100)\n"
     ]
    }
   ],
   "source": [
    "# Preparing embedding matrix\n",
    "\n",
    "num_words = min(MAX_NUM_WORDS, len(vectorizer.word_index))\n",
    "\n",
    "embedding_matrix = build_embedding_matrix(wv_glove.wv, vectorizer.word_index, num_words, EMBEDDING_DIM, True)\n",
    "\n",
    "print('embedding matrix shape: {}'.format(embedding_matrix.shape))"
   ]
  },
  {
   "cell_type": "code",
   "execution_count": 179,
   "metadata": {},
   "outputs": [],
   "source": [
    "def plot_keras_history(history):\n",
    "    fig, ax = plt.subplots(1, 2, figsize = (16,5))\n",
    "    ax[0].plot(range(1, len(history['acc']) + 1), history['acc'], label='train')\n",
    "    ax[0].plot(range(1, len(history['val_acc']) + 1), history['val_acc'], label='val')\n",
    "    \n",
    "    ax[0].set_xlabel('Epochs')\n",
    "    ax[0].set_ylabel('accuracy')\n",
    "    ax[0].legend(loc='best')\n",
    "    ax[0].set_title('Train acc')\n",
    "    ax[0].set_xticks(range(1, len(history['acc']) + 1))\n",
    "    ax[0].set_ylim((0, 1))\n",
    "\n",
    "    ax[1].plot(range(1, len(history['loss']) + 1), history['loss'], label='train')\n",
    "    ax[1].plot(range(1, len(history['val_loss']) + 1), history['val_loss'], label='val')\n",
    "    \n",
    "    ax[1].set_xlabel('Epochs')\n",
    "    ax[1].set_ylabel('loss')\n",
    "    ax[1].legend(loc='best')\n",
    "    ax[1].set_title('Train loss')\n",
    "    ax[1].set_xticks(range(1, len(history['acc']) + 1))\n",
    "    \n",
    "    fig.show()"
   ]
  },
  {
   "cell_type": "markdown",
   "metadata": {},
   "source": [
    "## TextCNN"
   ]
  },
  {
   "cell_type": "code",
   "execution_count": 117,
   "metadata": {},
   "outputs": [],
   "source": [
    "def TextCNN(embeddings, max_sequence_length, num_words, embedding_dim, labels_index, trainable=False, extra_conv=True):\n",
    "    if embeddings is None:\n",
    "        embedding_layer = Embedding(num_words+1,\n",
    "                                embedding_dim,\n",
    "                                input_length=max_sequence_length,\n",
    "                                trainable=True)\n",
    "    else:\n",
    "        embedding_layer = Embedding(num_words+1,\n",
    "                                embedding_dim,\n",
    "                                weights=[embeddings],\n",
    "                                input_length=max_sequence_length,\n",
    "                                trainable=trainable)\n",
    "\n",
    "    sequence_input = Input(shape=(max_sequence_length,), dtype='int32')\n",
    "    embedded_sequences = embedding_layer(sequence_input)\n",
    "\n",
    "    # Yoon Kim model (https://arxiv.org/abs/1408.5882)\n",
    "    convs = []\n",
    "    filter_sizes = [3,4,5]\n",
    "\n",
    "    for filter_size in filter_sizes:\n",
    "        l_conv = Conv1D(filters=128, kernel_size=filter_size, activation='relu')(embedded_sequences)\n",
    "        l_pool = MaxPooling1D(pool_size=3)(l_conv)\n",
    "        convs.append(l_pool)\n",
    "\n",
    "    l_merge = Merge(mode='concat', concat_axis=1)(convs)\n",
    "\n",
    "    # add a 1D convnet with global maxpooling, instead of Yoon Kim model\n",
    "    conv = Conv1D(filters=128, kernel_size=3, activation='relu')(embedded_sequences)\n",
    "    pool = MaxPooling1D(pool_size=3)(conv)\n",
    "\n",
    "    if extra_conv==True:\n",
    "        x = Dropout(0.5)(l_merge)  \n",
    "    else:\n",
    "        # Original Yoon Kim model\n",
    "        x = Dropout(0.5)(pool)\n",
    "    x = Flatten()(x)\n",
    "    x = Dense(128, activation='relu')(x)\n",
    "    #optional dropout\n",
    "    x = Dropout(0.5)(x)\n",
    "\n",
    "    preds = Dense(labels_index, activation='softmax')(x)\n",
    "\n",
    "    model = Model(sequence_input, preds)\n",
    "    model.compile(loss='categorical_crossentropy',\n",
    "                  optimizer='adam',\n",
    "                  metrics=['acc'])\n",
    "\n",
    "    return model"
   ]
  },
  {
   "cell_type": "code",
   "execution_count": 118,
   "metadata": {},
   "outputs": [
    {
     "name": "stderr",
     "output_type": "stream",
     "text": [
      "D:\\install\\Continuum\\anaconda3\\envs\\mlnd_capstone\\lib\\site-packages\\ipykernel_launcher.py:26: UserWarning: The `Merge` layer is deprecated and will be removed after 08/2017. Use instead layers from `keras.layers.merge`, e.g. `add`, `concatenate`, etc.\n"
     ]
    }
   ],
   "source": [
    "text_cnn = TextCNN(embedding_matrix, MAX_SEQUENCE_LENGTH, num_words, EMBEDDING_DIM, len(newsgroups_target_names), False)"
   ]
  },
  {
   "cell_type": "code",
   "execution_count": 119,
   "metadata": {},
   "outputs": [
    {
     "name": "stdout",
     "output_type": "stream",
     "text": [
      "__________________________________________________________________________________________________\n",
      "Layer (type)                    Output Shape         Param #     Connected to                     \n",
      "==================================================================================================\n",
      "input_1 (InputLayer)            (None, 1000)         0                                            \n",
      "__________________________________________________________________________________________________\n",
      "embedding_1 (Embedding)         (None, 1000, 100)    2000100     input_1[0][0]                    \n",
      "__________________________________________________________________________________________________\n",
      "conv1d_1 (Conv1D)               (None, 998, 128)     38528       embedding_1[0][0]                \n",
      "__________________________________________________________________________________________________\n",
      "conv1d_2 (Conv1D)               (None, 997, 128)     51328       embedding_1[0][0]                \n",
      "__________________________________________________________________________________________________\n",
      "conv1d_3 (Conv1D)               (None, 996, 128)     64128       embedding_1[0][0]                \n",
      "__________________________________________________________________________________________________\n",
      "max_pooling1d_1 (MaxPooling1D)  (None, 332, 128)     0           conv1d_1[0][0]                   \n",
      "__________________________________________________________________________________________________\n",
      "max_pooling1d_2 (MaxPooling1D)  (None, 332, 128)     0           conv1d_2[0][0]                   \n",
      "__________________________________________________________________________________________________\n",
      "max_pooling1d_3 (MaxPooling1D)  (None, 332, 128)     0           conv1d_3[0][0]                   \n",
      "__________________________________________________________________________________________________\n",
      "merge_1 (Merge)                 (None, 996, 128)     0           max_pooling1d_1[0][0]            \n",
      "                                                                 max_pooling1d_2[0][0]            \n",
      "                                                                 max_pooling1d_3[0][0]            \n",
      "__________________________________________________________________________________________________\n",
      "dropout_1 (Dropout)             (None, 996, 128)     0           merge_1[0][0]                    \n",
      "__________________________________________________________________________________________________\n",
      "flatten_1 (Flatten)             (None, 127488)       0           dropout_1[0][0]                  \n",
      "__________________________________________________________________________________________________\n",
      "dense_1 (Dense)                 (None, 128)          16318592    flatten_1[0][0]                  \n",
      "__________________________________________________________________________________________________\n",
      "dropout_2 (Dropout)             (None, 128)          0           dense_1[0][0]                    \n",
      "__________________________________________________________________________________________________\n",
      "dense_2 (Dense)                 (None, 20)           2580        dropout_2[0][0]                  \n",
      "==================================================================================================\n",
      "Total params: 18,475,256\n",
      "Trainable params: 16,475,156\n",
      "Non-trainable params: 2,000,100\n",
      "__________________________________________________________________________________________________\n"
     ]
    }
   ],
   "source": [
    "text_cnn.summary()"
   ]
  },
  {
   "cell_type": "code",
   "execution_count": 120,
   "metadata": {},
   "outputs": [
    {
     "name": "stdout",
     "output_type": "stream",
     "text": [
      "Train on 9051 samples, validate on 2263 samples\n",
      "Epoch 1/3\n",
      "9051/9051 [==============================] - 398s 44ms/step - loss: 3.3499 - acc: 0.0562 - val_loss: 2.9945 - val_acc: 0.0557\n",
      "Epoch 2/3\n",
      "9051/9051 [==============================] - 405s 45ms/step - loss: 2.9810 - acc: 0.0654 - val_loss: 2.9645 - val_acc: 0.0809\n",
      "Epoch 3/3\n",
      "9051/9051 [==============================] - 393s 43ms/step - loss: 2.8904 - acc: 0.0987 - val_loss: 2.6886 - val_acc: 0.1547\n"
     ]
    }
   ],
   "source": [
    "history = text_cnn.fit(X_train_dl, y_train_dl, validation_data=(X_val_dl, y_val_dl), epochs=60, batch_size=128)"
   ]
  },
  {
   "cell_type": "code",
   "execution_count": 178,
   "metadata": {},
   "outputs": [
    {
     "name": "stderr",
     "output_type": "stream",
     "text": [
      "D:\\install\\Continuum\\anaconda3\\envs\\mlnd_capstone\\lib\\site-packages\\matplotlib\\figure.py:418: UserWarning: matplotlib is currently using a non-GUI backend, so cannot show the figure\n",
      "  \"matplotlib is currently using a non-GUI backend, \"\n"
     ]
    },
    {
     "data": {
      "image/png": "[encoded data removed]",
      "text/plain": [
       "<matplotlib.figure.Figure at 0x186e2f28>"
      ]
     },
     "metadata": {},
     "output_type": "display_data"
    }
   ],
   "source": [
    "plot_keras_history(history.history)"
   ]
  },
  {
   "cell_type": "code",
   "execution_count": 63,
   "metadata": {},
   "outputs": [
    {
     "name": "stdout",
     "output_type": "stream",
     "text": [
      "7532/7532 [==============================] - 2s 241us/step\n"
     ]
    }
   ],
   "source": [
    "score = text_cnn.evaluate(X_test_dl, y_test_dl, batch_size=128)"
   ]
  },
  {
   "cell_type": "code",
   "execution_count": 64,
   "metadata": {},
   "outputs": [
    {
     "name": "stdout",
     "output_type": "stream",
     "text": [
      "['loss', 'acc']\n",
      "[1.9921991821305269, 0.65772703095313023]\n"
     ]
    }
   ],
   "source": [
    "print(text_cnn.metrics_names)\n",
    "print(score)"
   ]
  },
  {
   "cell_type": "markdown",
   "metadata": {},
   "source": [
    "## LSTM"
   ]
  },
  {
   "cell_type": "code",
   "execution_count": 27,
   "metadata": {},
   "outputs": [],
   "source": [
    " def Lstm(embeddings, max_sequence_length, num_words, embedding_dim, labels_index):\n",
    "    model = Sequential()\n",
    "    model.add(Embedding(num_words+1,\n",
    "                        embedding_dim,\n",
    "                        input_length=max_sequence_length,\n",
    "                        trainable=True))\n",
    "    model.add(Convolution1D(256, 3, padding='same', strides = 1))\n",
    "    model.add(Activation('relu'))\n",
    "    model.add(MaxPool1D(pool_size=2))\n",
    "    model.add(GRU(256, dropout=0.2, recurrent_dropout=0.1, return_sequences = True))\n",
    "    model.add(GRU(256, dropout=0.2, recurrent_dropout=0.1))\n",
    "    model.add(Dense(labels_index, activation='softmax'))\n",
    "\n",
    "    model.compile(loss='categorical_crossentropy',\n",
    "                  optimizer='adam',\n",
    "                  metrics=['acc'])\n",
    "    return model"
   ]
  },
  {
   "cell_type": "code",
   "execution_count": 28,
   "metadata": {},
   "outputs": [],
   "source": [
    "lstm = Lstm(embedding_matrix, MAX_SEQUENCE_LENGTH, num_words, EMBEDDING_DIM, len(newsgroups_target_names))"
   ]
  },
  {
   "cell_type": "code",
   "execution_count": 67,
   "metadata": {},
   "outputs": [
    {
     "name": "stdout",
     "output_type": "stream",
     "text": [
      "_________________________________________________________________\n",
      "Layer (type)                 Output Shape              Param #   \n",
      "=================================================================\n",
      "embedding_4 (Embedding)      (None, 1000, 100)         2000100   \n",
      "_________________________________________________________________\n",
      "conv1d_25 (Conv1D)           (None, 1000, 256)         77056     \n",
      "_________________________________________________________________\n",
      "activation_1 (Activation)    (None, 1000, 256)         0         \n",
      "_________________________________________________________________\n",
      "max_pooling1d_19 (MaxPooling (None, 500, 256)          0         \n",
      "_________________________________________________________________\n",
      "gru_1 (GRU)                  (None, 500, 256)          393984    \n",
      "_________________________________________________________________\n",
      "gru_2 (GRU)                  (None, 256)               393984    \n",
      "_________________________________________________________________\n",
      "dense_13 (Dense)             (None, 20)                5140      \n",
      "=================================================================\n",
      "Total params: 2,870,264\n",
      "Trainable params: 2,870,264\n",
      "Non-trainable params: 0\n",
      "_________________________________________________________________\n"
     ]
    }
   ],
   "source": [
    "lstm.summary()"
   ]
  },
  {
   "cell_type": "code",
   "execution_count": 29,
   "metadata": {},
   "outputs": [
    {
     "name": "stdout",
     "output_type": "stream",
     "text": [
      "Train on 9051 samples, validate on 2263 samples\n",
      "Epoch 1/10\n",
      "9051/9051 [==============================] - 107s 12ms/step - loss: 2.8523 - acc: 0.0914 - val_loss: 2.3880 - val_acc: 0.1922\n",
      "Epoch 2/10\n",
      "9051/9051 [==============================] - 97s 11ms/step - loss: 2.0140 - acc: 0.2870 - val_loss: 1.6974 - val_acc: 0.3862\n",
      "Epoch 3/10\n",
      "9051/9051 [==============================] - 98s 11ms/step - loss: 1.1966 - acc: 0.5640 - val_loss: 1.2430 - val_acc: 0.5859\n",
      "Epoch 4/10\n",
      "9051/9051 [==============================] - 98s 11ms/step - loss: 0.6582 - acc: 0.7780 - val_loss: 1.0653 - val_acc: 0.6916\n",
      "Epoch 5/10\n",
      "9051/9051 [==============================] - 97s 11ms/step - loss: 0.3684 - acc: 0.8838 - val_loss: 1.0511 - val_acc: 0.7282\n",
      "Epoch 6/10\n",
      "9051/9051 [==============================] - 98s 11ms/step - loss: 0.2206 - acc: 0.9336 - val_loss: 0.9899 - val_acc: 0.7587\n",
      "Epoch 7/10\n",
      "9051/9051 [==============================] - 97s 11ms/step - loss: 0.1418 - acc: 0.9603 - val_loss: 0.9834 - val_acc: 0.7720\n",
      "Epoch 8/10\n",
      "9051/9051 [==============================] - 97s 11ms/step - loss: 0.1072 - acc: 0.9703 - val_loss: 1.1047 - val_acc: 0.7583\n",
      "Epoch 9/10\n",
      "9051/9051 [==============================] - 98s 11ms/step - loss: 0.0902 - acc: 0.9766 - val_loss: 1.1043 - val_acc: 0.7609\n",
      "Epoch 10/10\n",
      "9051/9051 [==============================] - 97s 11ms/step - loss: 0.0667 - acc: 0.9811 - val_loss: 1.1202 - val_acc: 0.7715\n"
     ]
    },
    {
     "data": {
      "text/plain": [
       "<keras.callbacks.History at 0x2ab9f950e80>"
      ]
     },
     "execution_count": 29,
     "metadata": {},
     "output_type": "execute_result"
    }
   ],
   "source": [
    "history = lstm.fit(X_train_dl, y_train_dl, validation_data=(X_val_dl, y_val_dl), epochs=20, batch_size=128)"
   ]
  },
  {
   "cell_type": "code",
   "execution_count": null,
   "metadata": {},
   "outputs": [],
   "source": [
    "plot_keras_history(history.history)"
   ]
  },
  {
   "cell_type": "code",
   "execution_count": 30,
   "metadata": {},
   "outputs": [
    {
     "name": "stdout",
     "output_type": "stream",
     "text": [
      "7532/7532 [==============================] - 15s 2ms/step\n"
     ]
    }
   ],
   "source": [
    "score = lstm.evaluate(X_test_dl, y_test_dl, batch_size=128)"
   ]
  },
  {
   "cell_type": "code",
   "execution_count": 31,
   "metadata": {},
   "outputs": [
    {
     "name": "stdout",
     "output_type": "stream",
     "text": [
      "['loss', 'acc']\n",
      "[1.9153870939258812, 0.64126394134345233]\n"
     ]
    }
   ],
   "source": [
    "print(lstm.metrics_names)\n",
    "print(score)"
   ]
  },
  {
   "cell_type": "markdown",
   "metadata": {},
   "source": [
    "## char cnn"
   ]
  },
  {
   "cell_type": "code",
   "execution_count": 193,
   "metadata": {},
   "outputs": [],
   "source": [
    "class CharVectorizer:\n",
    "    alphabet = \"abcdefghijklmnopqrstuvwxyz0123456789,;.!?:'\\\"/\\\\|_@#$%^&*~`+-=<>()[]{}\\n\"\n",
    "\n",
    "    def __init__(self, max_seq_length):\n",
    "        self.char_map = {}\n",
    "        self.max_seq_length = max_seq_length\n",
    "        for i, c in enumerate(self.alphabet):\n",
    "            if c in self.char_map:\n",
    "                print('duplicated char: {}'.format(c))\n",
    "            self.char_map[c] = i\n",
    "\n",
    "    def transform(self, raw_documents):\n",
    "        transformed_documents = np.zeros((len(raw_documents), self.max_seq_length, len(self.char_map)), dtype='bool')\n",
    "        for i, document in enumerate(raw_documents):\n",
    "            document = document.lower()[:self.max_seq_length]\n",
    "            onehot = np.zeros((self.max_seq_length, len(self.char_map)), dtype='bool')\n",
    "            for j, c in enumerate(reversed(document)):\n",
    "                if c in self.char_map:\n",
    "                    onehot[j][self.char_map[c]] = 1\n",
    "            transformed_documents[i] = onehot\n",
    "\n",
    "        return transformed_documents"
   ]
  },
  {
   "cell_type": "code",
   "execution_count": 194,
   "metadata": {},
   "outputs": [],
   "source": [
    "MAX_CHAR_SEQUENCE_LENGTH = 3500\n",
    "char_vectorizer = CharVectorizer(MAX_CHAR_SEQUENCE_LENGTH)\n",
    "\n",
    "X_train_dl = char_vectorizer.transform(X_train_dev)\n",
    "y_train_dl = to_categorical(np.asarray(y_train_dev), num_classes=20)\n",
    "\n",
    "X_val_dl = char_vectorizer.transform(X_val)\n",
    "y_val_dl = to_categorical(np.asarray(y_val), num_classes=20)\n",
    "\n",
    "X_test_dl = char_vectorizer.transform(X_val)\n",
    "y_test_dl = to_categorical(np.asarray(y_val), num_classes=20)"
   ]
  },
  {
   "cell_type": "code",
   "execution_count": 195,
   "metadata": {},
   "outputs": [
    {
     "name": "stdout",
     "output_type": "stream",
     "text": [
      "X_train shape:(9051, 3500, 69)\n"
     ]
    }
   ],
   "source": [
    "print('X_train shape:{}'.format(X_train_dl.shape))"
   ]
  },
  {
   "cell_type": "code",
   "execution_count": 34,
   "metadata": {},
   "outputs": [],
   "source": [
    "def char_cnn(n_vocab, max_len, n_classes):\n",
    "\n",
    "    \"See Zhang and LeCun, 2015\"\n",
    "\n",
    "    model = Sequential()\n",
    "\n",
    "    model.add(Conv1D(256, 7, activation='relu', input_shape=(max_len, n_vocab)))\n",
    "    model.add(MaxPooling1D(3))\n",
    "\n",
    "    model.add(Conv1D(256, 7, activation='relu'))\n",
    "    model.add(MaxPooling1D(3))\n",
    "\n",
    "    model.add(Conv1D(256, 3, activation='relu'))\n",
    "    model.add(Conv1D(256, 3, activation='relu'))\n",
    "    model.add(Conv1D(256, 3, activation='relu'))\n",
    "    model.add(Conv1D(256, 3, activation='relu'))\n",
    "    model.add(MaxPooling1D(3))\n",
    "\n",
    "    model.add(Flatten())\n",
    "    model.add(Dense(1024, activation='relu'))\n",
    "    model.add(Dropout(0.5))\n",
    "    model.add(Dense(1024, activation='relu'))\n",
    "    model.add(Dropout(0.5))\n",
    "    model.add(Dense(n_classes, activation='softmax'))\n",
    "\n",
    "    model.compile(loss='categorical_crossentropy',\n",
    "                  optimizer='adam',\n",
    "                  metrics=['acc'])\n",
    "\n",
    "    return model"
   ]
  },
  {
   "cell_type": "code",
   "execution_count": 35,
   "metadata": {},
   "outputs": [],
   "source": [
    "char_model = char_cnn(len(alphabet), MAX_CHAR_SEQUENCE_LENGTH, len(newsgroups_target_names))"
   ]
  },
  {
   "cell_type": "code",
   "execution_count": 36,
   "metadata": {},
   "outputs": [
    {
     "name": "stdout",
     "output_type": "stream",
     "text": [
      "_________________________________________________________________\n",
      "Layer (type)                 Output Shape              Param #   \n",
      "=================================================================\n",
      "conv1d_2 (Conv1D)            (None, 3494, 256)         123904    \n",
      "_________________________________________________________________\n",
      "max_pooling1d_2 (MaxPooling1 (None, 1164, 256)         0         \n",
      "_________________________________________________________________\n",
      "conv1d_3 (Conv1D)            (None, 1158, 256)         459008    \n",
      "_________________________________________________________________\n",
      "max_pooling1d_3 (MaxPooling1 (None, 386, 256)          0         \n",
      "_________________________________________________________________\n",
      "conv1d_4 (Conv1D)            (None, 384, 256)          196864    \n",
      "_________________________________________________________________\n",
      "conv1d_5 (Conv1D)            (None, 382, 256)          196864    \n",
      "_________________________________________________________________\n",
      "conv1d_6 (Conv1D)            (None, 380, 256)          196864    \n",
      "_________________________________________________________________\n",
      "conv1d_7 (Conv1D)            (None, 378, 256)          196864    \n",
      "_________________________________________________________________\n",
      "max_pooling1d_4 (MaxPooling1 (None, 126, 256)          0         \n",
      "_________________________________________________________________\n",
      "flatten_1 (Flatten)          (None, 32256)             0         \n",
      "_________________________________________________________________\n",
      "dense_2 (Dense)              (None, 1024)              33031168  \n",
      "_________________________________________________________________\n",
      "dropout_1 (Dropout)          (None, 1024)              0         \n",
      "_________________________________________________________________\n",
      "dense_3 (Dense)              (None, 1024)              1049600   \n",
      "_________________________________________________________________\n",
      "dropout_2 (Dropout)          (None, 1024)              0         \n",
      "_________________________________________________________________\n",
      "dense_4 (Dense)              (None, 20)                20500     \n",
      "=================================================================\n",
      "Total params: 35,471,636\n",
      "Trainable params: 35,471,636\n",
      "Non-trainable params: 0\n",
      "_________________________________________________________________\n"
     ]
    }
   ],
   "source": [
    "char_model.summary()"
   ]
  },
  {
   "cell_type": "code",
   "execution_count": 37,
   "metadata": {
    "scrolled": true
   },
   "outputs": [
    {
     "name": "stdout",
     "output_type": "stream",
     "text": [
      "Train on 9051 samples, validate on 2263 samples\n",
      "Epoch 1/30\n",
      "9051/9051 [==============================] - 54s 6ms/step - loss: 2.9839 - acc: 0.0615 - val_loss: 2.9606 - val_acc: 0.0619\n",
      "Epoch 2/30\n",
      "9051/9051 [==============================] - 50s 6ms/step - loss: 2.9250 - acc: 0.0816 - val_loss: 2.8247 - val_acc: 0.1052\n",
      "Epoch 3/30\n",
      "9051/9051 [==============================] - 50s 6ms/step - loss: 2.7066 - acc: 0.1158 - val_loss: 2.6454 - val_acc: 0.1304\n",
      "Epoch 4/30\n",
      "9051/9051 [==============================] - 50s 6ms/step - loss: 2.5066 - acc: 0.1411 - val_loss: 2.4952 - val_acc: 0.1458\n",
      "Epoch 5/30\n",
      "9051/9051 [==============================] - 50s 6ms/step - loss: 2.3068 - acc: 0.1883 - val_loss: 2.4168 - val_acc: 0.1719\n",
      "Epoch 6/30\n",
      "9051/9051 [==============================] - 50s 6ms/step - loss: 2.0904 - acc: 0.2410 - val_loss: 2.1287 - val_acc: 0.2324\n",
      "Epoch 7/30\n",
      "9051/9051 [==============================] - 50s 6ms/step - loss: 1.8561 - acc: 0.3069 - val_loss: 2.0539 - val_acc: 0.2749\n",
      "Epoch 8/30\n",
      "9051/9051 [==============================] - 50s 5ms/step - loss: 1.6493 - acc: 0.3702 - val_loss: 1.9739 - val_acc: 0.2996\n",
      "Epoch 9/30\n",
      "9051/9051 [==============================] - 50s 6ms/step - loss: 1.4962 - acc: 0.4267 - val_loss: 2.0397 - val_acc: 0.3195\n",
      "Epoch 10/30\n",
      "9051/9051 [==============================] - 50s 6ms/step - loss: 1.3813 - acc: 0.4667 - val_loss: 2.1337 - val_acc: 0.3186\n",
      "Epoch 11/30\n",
      "9051/9051 [==============================] - 51s 6ms/step - loss: 1.1875 - acc: 0.5355 - val_loss: 2.0605 - val_acc: 0.3535\n",
      "Epoch 12/30\n",
      "9051/9051 [==============================] - 51s 6ms/step - loss: 1.0216 - acc: 0.5926 - val_loss: 2.2343 - val_acc: 0.3760\n",
      "Epoch 13/30\n",
      "9051/9051 [==============================] - 50s 5ms/step - loss: 1.0061 - acc: 0.6122 - val_loss: 2.1408 - val_acc: 0.3822\n",
      "Epoch 14/30\n",
      "9051/9051 [==============================] - 50s 5ms/step - loss: 0.8710 - acc: 0.6583 - val_loss: 2.2130 - val_acc: 0.3862\n",
      "Epoch 15/30\n",
      "9051/9051 [==============================] - 50s 5ms/step - loss: 0.7847 - acc: 0.6982 - val_loss: 2.3295 - val_acc: 0.3884\n",
      "Epoch 16/30\n",
      "9051/9051 [==============================] - 50s 5ms/step - loss: 0.7809 - acc: 0.7042 - val_loss: 2.3997 - val_acc: 0.3959\n",
      "Epoch 17/30\n",
      "9051/9051 [==============================] - 49s 5ms/step - loss: 0.7101 - acc: 0.7330 - val_loss: 2.4161 - val_acc: 0.4141\n",
      "Epoch 18/30\n",
      "9051/9051 [==============================] - 50s 5ms/step - loss: 0.5724 - acc: 0.7888 - val_loss: 2.4543 - val_acc: 0.4233\n",
      "Epoch 19/30\n",
      "9051/9051 [==============================] - 50s 5ms/step - loss: 0.5220 - acc: 0.8052 - val_loss: 2.6745 - val_acc: 0.4335\n",
      "Epoch 20/30\n",
      "9051/9051 [==============================] - 49s 5ms/step - loss: 0.5080 - acc: 0.8199 - val_loss: 2.6499 - val_acc: 0.4388\n",
      "Epoch 21/30\n",
      "9051/9051 [==============================] - 50s 5ms/step - loss: 0.4968 - acc: 0.8213 - val_loss: 2.8653 - val_acc: 0.4282\n",
      "Epoch 22/30\n",
      "9051/9051 [==============================] - 50s 5ms/step - loss: 0.4401 - acc: 0.8428 - val_loss: 2.7517 - val_acc: 0.4485\n",
      "Epoch 23/30\n",
      "9051/9051 [==============================] - 50s 5ms/step - loss: 0.3925 - acc: 0.8623 - val_loss: 2.6303 - val_acc: 0.4635\n",
      "Epoch 24/30\n",
      "9051/9051 [==============================] - 50s 5ms/step - loss: 0.3875 - acc: 0.8621 - val_loss: 2.7311 - val_acc: 0.4498\n",
      "Epoch 25/30\n",
      "9051/9051 [==============================] - 50s 5ms/step - loss: 0.4103 - acc: 0.8570 - val_loss: 2.8122 - val_acc: 0.4543\n",
      "Epoch 26/30\n",
      "9051/9051 [==============================] - 50s 5ms/step - loss: 0.2992 - acc: 0.8991 - val_loss: 2.7288 - val_acc: 0.4834\n",
      "Epoch 27/30\n",
      "9051/9051 [==============================] - 50s 5ms/step - loss: 0.2474 - acc: 0.9158 - val_loss: 2.9459 - val_acc: 0.4675\n",
      "Epoch 28/30\n",
      "9051/9051 [==============================] - 50s 5ms/step - loss: 0.2487 - acc: 0.9200 - val_loss: 3.0159 - val_acc: 0.4865\n",
      "Epoch 29/30\n",
      "9051/9051 [==============================] - 50s 6ms/step - loss: 0.2983 - acc: 0.9030 - val_loss: 2.8940 - val_acc: 0.4790\n",
      "Epoch 30/30\n",
      "9051/9051 [==============================] - 50s 5ms/step - loss: 0.2259 - acc: 0.9267 - val_loss: 3.0544 - val_acc: 0.4821\n"
     ]
    },
    {
     "data": {
      "text/plain": [
       "<keras.callbacks.History at 0x2abf9695a58>"
      ]
     },
     "execution_count": 37,
     "metadata": {},
     "output_type": "execute_result"
    }
   ],
   "source": [
    "history = char_model.fit(X_train_dl, y_train_dl, validation_data=(X_val_dl, y_val_dl), epochs=30, batch_size=128)"
   ]
  },
  {
   "cell_type": "code",
   "execution_count": null,
   "metadata": {},
   "outputs": [],
   "source": [
    "plot_keras_history(history.history)"
   ]
  },
  {
   "cell_type": "code",
   "execution_count": 38,
   "metadata": {},
   "outputs": [
    {
     "name": "stdout",
     "output_type": "stream",
     "text": [
      "2263/2263 [==============================] - 5s 2ms/step\n"
     ]
    }
   ],
   "source": [
    "score = char_model.evaluate(X_test_dl, y_test_dl, batch_size=128)"
   ]
  },
  {
   "cell_type": "code",
   "execution_count": 39,
   "metadata": {},
   "outputs": [
    {
     "name": "stdout",
     "output_type": "stream",
     "text": [
      "['loss', 'acc']\n",
      "[3.0544149517433548, 0.48210340320826944]\n"
     ]
    }
   ],
   "source": [
    "print(char_model.metrics_names)\n",
    "print(score)"
   ]
  },
  {
   "cell_type": "code",
   "execution_count": null,
   "metadata": {},
   "outputs": [],
   "source": []
  }
 ],
 "metadata": {
  "kernelspec": {
   "display_name": "Python 3",
   "language": "python",
   "name": "python3"
  },
  "language_info": {
   "codemirror_mode": {
    "name": "ipython",
    "version": 3
   },
   "file_extension": ".py",
   "mimetype": "text/x-python",
   "name": "python",
   "nbconvert_exporter": "python",
   "pygments_lexer": "ipython3",
   "version": "3.6.3"
  }
 },
 "nbformat": 4,
 "nbformat_minor": 2
}
